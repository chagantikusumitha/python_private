{
 "cells": [
  {
   "cell_type": "markdown",
   "id": "223eb80a",
   "metadata": {},
   "source": [
    "# INNER CLASS"
   ]
  },
  {
   "cell_type": "code",
   "execution_count": 51,
   "id": "0c591e59",
   "metadata": {},
   "outputs": [],
   "source": [
    "class student:\n",
    "    def __init__(self,name,roll):\n",
    "        self.name = name\n",
    "        self.roll = roll\n",
    "        self.lap = self.laptop()\n",
    "        \n",
    "    def show(self):\n",
    "        print(self.name,self.roll)\n",
    "        self.lap.show()\n",
    "        \n",
    "    class laptop():\n",
    "        def __init__(self):\n",
    "            self.comp = 'HP'\n",
    "            self.ram = '8GB'\n",
    "            self.processor = 'i7'\n",
    "            \n",
    "        def show(self):\n",
    "            print(self.comp, self.ram)"
   ]
  },
  {
   "cell_type": "code",
   "execution_count": 52,
   "id": "3857d50e",
   "metadata": {},
   "outputs": [],
   "source": [
    "s1 = student(\"kush\",\"01\")"
   ]
  },
  {
   "cell_type": "code",
   "execution_count": 53,
   "id": "2ab301ac",
   "metadata": {},
   "outputs": [
    {
     "name": "stdout",
     "output_type": "stream",
     "text": [
      "kush 01\n",
      "HP 8GB\n"
     ]
    }
   ],
   "source": [
    "s1.show()"
   ]
  },
  {
   "cell_type": "code",
   "execution_count": 54,
   "id": "f1e147a4",
   "metadata": {},
   "outputs": [
    {
     "data": {
      "text/plain": [
       "'8GB'"
      ]
     },
     "execution_count": 54,
     "metadata": {},
     "output_type": "execute_result"
    }
   ],
   "source": [
    "s1.lap.ram"
   ]
  },
  {
   "cell_type": "code",
   "execution_count": 55,
   "id": "0d51a46c",
   "metadata": {},
   "outputs": [
    {
     "data": {
      "text/plain": [
       "'i7'"
      ]
     },
     "execution_count": 55,
     "metadata": {},
     "output_type": "execute_result"
    }
   ],
   "source": [
    "s1.lap.processor"
   ]
  },
  {
   "cell_type": "code",
   "execution_count": 56,
   "id": "048dbc57",
   "metadata": {},
   "outputs": [
    {
     "data": {
      "text/plain": [
       "'HP'"
      ]
     },
     "execution_count": 56,
     "metadata": {},
     "output_type": "execute_result"
    }
   ],
   "source": [
    "s1.lap.comp"
   ]
  },
  {
   "cell_type": "code",
   "execution_count": 18,
   "id": "56183a2d",
   "metadata": {},
   "outputs": [
    {
     "name": "stdout",
     "output_type": "stream",
     "text": [
      "HP 8GB\n"
     ]
    }
   ],
   "source": [
    "s1.lap.show()"
   ]
  },
  {
   "cell_type": "markdown",
   "id": "9d1dd907",
   "metadata": {},
   "source": [
    "#  ENCAPSULATION "
   ]
  },
  {
   "cell_type": "code",
   "execution_count": 61,
   "id": "cdec4a1c",
   "metadata": {},
   "outputs": [],
   "source": [
    "class computer:\n",
    "    def __init__(self):\n",
    "        self.__maxprice = 900\n",
    "        \n",
    "    def sell(self):\n",
    "        print(\"selling price: \",self.__maxprice)\n",
    "        \n",
    "    def setMaxPrice(self,price):\n",
    "        self.__maxprice = price\n",
    "        "
   ]
  },
  {
   "cell_type": "code",
   "execution_count": 62,
   "id": "736042cc",
   "metadata": {},
   "outputs": [
    {
     "name": "stdout",
     "output_type": "stream",
     "text": [
      "selling price:  900\n"
     ]
    }
   ],
   "source": [
    "c= computer()\n",
    "c.sell()"
   ]
  },
  {
   "cell_type": "code",
   "execution_count": 63,
   "id": "68ee554d",
   "metadata": {},
   "outputs": [],
   "source": [
    "c.__maxprice = 1500"
   ]
  },
  {
   "cell_type": "code",
   "execution_count": 64,
   "id": "9e5e9aec",
   "metadata": {},
   "outputs": [
    {
     "name": "stdout",
     "output_type": "stream",
     "text": [
      "selling price:  900\n"
     ]
    }
   ],
   "source": [
    "c.sell()"
   ]
  },
  {
   "cell_type": "code",
   "execution_count": 65,
   "id": "6ea4abe4",
   "metadata": {},
   "outputs": [
    {
     "name": "stdout",
     "output_type": "stream",
     "text": [
      "selling price:  1500\n"
     ]
    }
   ],
   "source": [
    "c.setMaxPrice(1500)\n",
    "c.sell()"
   ]
  },
  {
   "cell_type": "code",
   "execution_count": null,
   "id": "1f92b886",
   "metadata": {},
   "outputs": [],
   "source": []
  },
  {
   "cell_type": "markdown",
   "id": "9c9557e8",
   "metadata": {},
   "source": [
    "# INHERITANCE "
   ]
  },
  {
   "cell_type": "markdown",
   "id": "cc59a1be",
   "metadata": {},
   "source": [
    "# single inheritance"
   ]
  },
  {
   "cell_type": "code",
   "execution_count": 19,
   "id": "f85f9010",
   "metadata": {},
   "outputs": [],
   "source": [
    "class A:\n",
    "    def feature1(self):\n",
    "        print(\"inside feature1\")\n",
    "    def feature2(self):\n",
    "        print(\"inside feature2\")\n",
    "        \n",
    "class B(A):\n",
    "    def feature3(self):\n",
    "        print(\"inside feature3\")\n",
    "    def feature4(self):\n",
    "        print(\"inside feature4\")"
   ]
  },
  {
   "cell_type": "code",
   "execution_count": 20,
   "id": "9cc6857c",
   "metadata": {},
   "outputs": [],
   "source": [
    "k = B()"
   ]
  },
  {
   "cell_type": "code",
   "execution_count": 21,
   "id": "909f0f3a",
   "metadata": {},
   "outputs": [
    {
     "name": "stdout",
     "output_type": "stream",
     "text": [
      "inside feature3\n"
     ]
    }
   ],
   "source": [
    "k.feature3()"
   ]
  },
  {
   "cell_type": "code",
   "execution_count": 22,
   "id": "3d970978",
   "metadata": {},
   "outputs": [
    {
     "name": "stdout",
     "output_type": "stream",
     "text": [
      "inside feature1\n"
     ]
    }
   ],
   "source": [
    "k.feature1()"
   ]
  },
  {
   "cell_type": "code",
   "execution_count": null,
   "id": "e6f52fb7",
   "metadata": {},
   "outputs": [],
   "source": []
  },
  {
   "cell_type": "markdown",
   "id": "5e49553b",
   "metadata": {},
   "source": [
    "# multilevel inheritance"
   ]
  },
  {
   "cell_type": "code",
   "execution_count": 24,
   "id": "0b5d80d7",
   "metadata": {},
   "outputs": [],
   "source": [
    "class A:\n",
    "    def feature1(self):\n",
    "        print(\"inside feature1\")\n",
    "    def feature2(self):\n",
    "        print(\"inside feature2\")\n",
    "        \n",
    "class B(A):\n",
    "    def feature3(self):\n",
    "        print(\"inside feature3\")\n",
    "    def feature4(self):\n",
    "        print(\"inside feature4\")\n",
    "class C(B):\n",
    "    def feature5(self):\n",
    "        print(\"inside feature5\")"
   ]
  },
  {
   "cell_type": "code",
   "execution_count": 25,
   "id": "a15b6154",
   "metadata": {},
   "outputs": [],
   "source": [
    "U = C()"
   ]
  },
  {
   "cell_type": "code",
   "execution_count": 26,
   "id": "3ce13756",
   "metadata": {},
   "outputs": [
    {
     "name": "stdout",
     "output_type": "stream",
     "text": [
      "inside feature1\n"
     ]
    }
   ],
   "source": [
    "U.feature1()"
   ]
  },
  {
   "cell_type": "code",
   "execution_count": null,
   "id": "4a97290d",
   "metadata": {},
   "outputs": [],
   "source": []
  },
  {
   "cell_type": "markdown",
   "id": "3ff51604",
   "metadata": {},
   "source": [
    "# multiple inheritance"
   ]
  },
  {
   "cell_type": "code",
   "execution_count": 27,
   "id": "c06c40a6",
   "metadata": {},
   "outputs": [],
   "source": [
    "class A:\n",
    "    def feature1(self):\n",
    "        print(\"inside feature1\")\n",
    "    def feature2(self):\n",
    "        print(\"inside feature2\")\n",
    "        \n",
    "class B:\n",
    "    def feature3(self):\n",
    "        print(\"inside feature3\")\n",
    "    def feature4(self):\n",
    "        print(\"inside feature4\")\n",
    "class C(A,B):\n",
    "    def feature5(self):\n",
    "        print(\"inside feature5\")"
   ]
  },
  {
   "cell_type": "code",
   "execution_count": 28,
   "id": "c6b1080e",
   "metadata": {},
   "outputs": [],
   "source": [
    "h = B()"
   ]
  },
  {
   "cell_type": "code",
   "execution_count": 29,
   "id": "60e16466",
   "metadata": {},
   "outputs": [
    {
     "name": "stdout",
     "output_type": "stream",
     "text": [
      "inside feature3\n"
     ]
    }
   ],
   "source": [
    "h.feature3()"
   ]
  },
  {
   "cell_type": "code",
   "execution_count": 30,
   "id": "8e2f5c75",
   "metadata": {},
   "outputs": [
    {
     "ename": "AttributeError",
     "evalue": "'B' object has no attribute 'feature1'",
     "output_type": "error",
     "traceback": [
      "\u001b[1;31m---------------------------------------------------------------------------\u001b[0m",
      "\u001b[1;31mAttributeError\u001b[0m                            Traceback (most recent call last)",
      "\u001b[1;32mC:\\Users\\KUSUMI~1\\AppData\\Local\\Temp/ipykernel_12220/2875006582.py\u001b[0m in \u001b[0;36m<module>\u001b[1;34m\u001b[0m\n\u001b[1;32m----> 1\u001b[1;33m \u001b[0mh\u001b[0m\u001b[1;33m.\u001b[0m\u001b[0mfeature1\u001b[0m\u001b[1;33m(\u001b[0m\u001b[1;33m)\u001b[0m\u001b[1;33m\u001b[0m\u001b[1;33m\u001b[0m\u001b[0m\n\u001b[0m",
      "\u001b[1;31mAttributeError\u001b[0m: 'B' object has no attribute 'feature1'"
     ]
    }
   ],
   "source": [
    "h.feature1()"
   ]
  },
  {
   "cell_type": "code",
   "execution_count": 31,
   "id": "9b28079e",
   "metadata": {},
   "outputs": [],
   "source": [
    "I = C()"
   ]
  },
  {
   "cell_type": "code",
   "execution_count": 32,
   "id": "55f39e1d",
   "metadata": {},
   "outputs": [
    {
     "name": "stdout",
     "output_type": "stream",
     "text": [
      "inside feature1\n"
     ]
    }
   ],
   "source": [
    "I.feature1()"
   ]
  },
  {
   "cell_type": "code",
   "execution_count": null,
   "id": "28cbfcac",
   "metadata": {},
   "outputs": [],
   "source": []
  },
  {
   "cell_type": "markdown",
   "id": "20aedc25",
   "metadata": {},
   "source": [
    "# hierarchieal inheritance"
   ]
  },
  {
   "cell_type": "code",
   "execution_count": 33,
   "id": "19fc3441",
   "metadata": {},
   "outputs": [],
   "source": [
    "class A:\n",
    "    def feature1(self):\n",
    "        print(\"inside feature1\")\n",
    "    def feature2(self):\n",
    "        print(\"inside feature2\")\n",
    "        \n",
    "class B(A):\n",
    "    def feature3(self):\n",
    "        print(\"inside feature3\")\n",
    "    def feature4(self):\n",
    "        print(\"inside feature4\")\n",
    "class C(A):\n",
    "    def feature5(self):\n",
    "        print(\"inside feature5\")"
   ]
  },
  {
   "cell_type": "code",
   "execution_count": 34,
   "id": "aa3af81f",
   "metadata": {},
   "outputs": [],
   "source": [
    "T = C()"
   ]
  },
  {
   "cell_type": "code",
   "execution_count": 37,
   "id": "30d0be21",
   "metadata": {},
   "outputs": [
    {
     "ename": "AttributeError",
     "evalue": "'C' object has no attribute 'feature3'",
     "output_type": "error",
     "traceback": [
      "\u001b[1;31m---------------------------------------------------------------------------\u001b[0m",
      "\u001b[1;31mAttributeError\u001b[0m                            Traceback (most recent call last)",
      "\u001b[1;32mC:\\Users\\KUSUMI~1\\AppData\\Local\\Temp/ipykernel_12220/108872549.py\u001b[0m in \u001b[0;36m<module>\u001b[1;34m\u001b[0m\n\u001b[1;32m----> 1\u001b[1;33m \u001b[0mT\u001b[0m\u001b[1;33m.\u001b[0m\u001b[0mfeature3\u001b[0m\u001b[1;33m(\u001b[0m\u001b[1;33m)\u001b[0m\u001b[1;33m\u001b[0m\u001b[1;33m\u001b[0m\u001b[0m\n\u001b[0m",
      "\u001b[1;31mAttributeError\u001b[0m: 'C' object has no attribute 'feature3'"
     ]
    }
   ],
   "source": [
    "T.feature3()"
   ]
  },
  {
   "cell_type": "code",
   "execution_count": 38,
   "id": "c2fd6775",
   "metadata": {},
   "outputs": [
    {
     "name": "stdout",
     "output_type": "stream",
     "text": [
      "inside feature2\n"
     ]
    }
   ],
   "source": [
    "T.feature2()"
   ]
  },
  {
   "cell_type": "code",
   "execution_count": null,
   "id": "f0564060",
   "metadata": {},
   "outputs": [],
   "source": []
  },
  {
   "cell_type": "markdown",
   "id": "764e1fcb",
   "metadata": {},
   "source": [
    "# POLYMORPHISM\n"
   ]
  },
  {
   "cell_type": "code",
   "execution_count": 12,
   "id": "b8120cb6",
   "metadata": {},
   "outputs": [],
   "source": [
    "class parrot:\n",
    "    def fly(self):\n",
    "        print(\"parrot can fly\")\n",
    "    def swim(self):\n",
    "        print(\"parrot can't swim\")\n",
    "        \n",
    "class penguin:\n",
    "    def fly(self):\n",
    "        print(\"penguin can't fly\")\n",
    "    def swim(self):\n",
    "        print(\"penguin can swim\")\n",
    "        \n",
    "#       polymorphism using  fn\n",
    "def flying_test(bird):\n",
    "    bird.fly()\n",
    "    bird.swim()"
   ]
  },
  {
   "cell_type": "code",
   "execution_count": 8,
   "id": "d026c692",
   "metadata": {},
   "outputs": [],
   "source": [
    "pa = parrot()"
   ]
  },
  {
   "cell_type": "code",
   "execution_count": 9,
   "id": "f76e3ce0",
   "metadata": {},
   "outputs": [],
   "source": [
    "pe = penguin()"
   ]
  },
  {
   "cell_type": "code",
   "execution_count": 10,
   "id": "eb2bef0f",
   "metadata": {},
   "outputs": [
    {
     "name": "stdout",
     "output_type": "stream",
     "text": [
      "parrot can fly\n",
      "parrot can't swim\n"
     ]
    }
   ],
   "source": [
    "flying_test(pa)"
   ]
  },
  {
   "cell_type": "code",
   "execution_count": 11,
   "id": "d50354a8",
   "metadata": {},
   "outputs": [
    {
     "name": "stdout",
     "output_type": "stream",
     "text": [
      "penguin can't fly\n",
      "penguin can swim\n"
     ]
    }
   ],
   "source": [
    "flying_test(pe)"
   ]
  },
  {
   "cell_type": "code",
   "execution_count": null,
   "id": "5944df9a",
   "metadata": {},
   "outputs": [],
   "source": []
  },
  {
   "cell_type": "code",
   "execution_count": 13,
   "id": "0c74ecc0",
   "metadata": {},
   "outputs": [],
   "source": [
    "class parrot:\n",
    "    def fly(self):\n",
    "        print(\"parrot can fly\")\n",
    "    def swim(self):\n",
    "        print(\"parrot can't swim\")\n",
    "        \n",
    "class penguin:\n",
    "    def fly(self):\n",
    "        print(\"penguin can't fly\")\n",
    "    def swim(self):\n",
    "        print(\"penguin can swim\")"
   ]
  },
  {
   "cell_type": "code",
   "execution_count": 14,
   "id": "73ab5179",
   "metadata": {},
   "outputs": [],
   "source": [
    "PA = parrot()"
   ]
  },
  {
   "cell_type": "code",
   "execution_count": 15,
   "id": "aa02aba2",
   "metadata": {},
   "outputs": [],
   "source": [
    "PE = penguin()"
   ]
  },
  {
   "cell_type": "code",
   "execution_count": 17,
   "id": "302cd271",
   "metadata": {},
   "outputs": [
    {
     "name": "stdout",
     "output_type": "stream",
     "text": [
      "parrot can fly\n",
      "parrot can't swim\n",
      "penguin can't fly\n",
      "penguin can swim\n"
     ]
    }
   ],
   "source": [
    "# poly using for loops\n",
    "for i in (PA,PE):\n",
    "    i.fly()\n",
    "    i.swim()"
   ]
  },
  {
   "cell_type": "code",
   "execution_count": null,
   "id": "df93b7c4",
   "metadata": {},
   "outputs": [],
   "source": []
  }
 ],
 "metadata": {
  "kernelspec": {
   "display_name": "Python 3 (ipykernel)",
   "language": "python",
   "name": "python3"
  },
  "language_info": {
   "codemirror_mode": {
    "name": "ipython",
    "version": 3
   },
   "file_extension": ".py",
   "mimetype": "text/x-python",
   "name": "python",
   "nbconvert_exporter": "python",
   "pygments_lexer": "ipython3",
   "version": "3.9.7"
  }
 },
 "nbformat": 4,
 "nbformat_minor": 5
}
