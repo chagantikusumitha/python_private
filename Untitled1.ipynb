{
 "cells": [
  {
   "cell_type": "code",
   "execution_count": 2,
   "id": "aedcff0e",
   "metadata": {},
   "outputs": [],
   "source": [
    "movie_titles = [\"gold diggers of broadway\",\"gone baby gone\",\"gone in 60 seconds\",\"gone with the wind\",\"good girl\",\"good burger\",\"goodbye girl\",\"good bye lenin!\",\"goodfellas\",\"good luck chuck\",\"good morning, vietnam\"]"
   ]
  },
  {
   "cell_type": "code",
   "execution_count": null,
   "id": "9b8cfd79",
   "metadata": {},
   "outputs": [],
   "source": []
  },
  {
   "cell_type": "code",
   "execution_count": 3,
   "id": "51c536ad",
   "metadata": {},
   "outputs": [
    {
     "data": {
      "text/plain": [
       "11"
      ]
     },
     "execution_count": 3,
     "metadata": {},
     "output_type": "execute_result"
    }
   ],
   "source": [
    "len(movie_titles)"
   ]
  },
  {
   "cell_type": "markdown",
   "id": "95845009",
   "metadata": {},
   "source": [
    "# 1\n"
   ]
  },
  {
   "cell_type": "code",
   "execution_count": 4,
   "id": "b34fde73",
   "metadata": {},
   "outputs": [],
   "source": [
    "movie_titles_upper = []\n",
    "for i in movie_titles:\n",
    "    movie_titles_upper.append(i.upper())"
   ]
  },
  {
   "cell_type": "code",
   "execution_count": 5,
   "id": "19507d71",
   "metadata": {},
   "outputs": [
    {
     "data": {
      "text/plain": [
       "['GOLD DIGGERS OF BROADWAY',\n",
       " 'GONE BABY GONE',\n",
       " 'GONE IN 60 SECONDS',\n",
       " 'GONE WITH THE WIND',\n",
       " 'GOOD GIRL',\n",
       " 'GOOD BURGER',\n",
       " 'GOODBYE GIRL',\n",
       " 'GOOD BYE LENIN!',\n",
       " 'GOODFELLAS',\n",
       " 'GOOD LUCK CHUCK',\n",
       " 'GOOD MORNING, VIETNAM']"
      ]
     },
     "execution_count": 5,
     "metadata": {},
     "output_type": "execute_result"
    }
   ],
   "source": [
    "movie_titles_upper"
   ]
  },
  {
   "cell_type": "code",
   "execution_count": 6,
   "id": "cc40b468",
   "metadata": {},
   "outputs": [],
   "source": [
    "movie_titles_lower = []\n",
    "for i in movie_titles:\n",
    "    movie_titles_lower.append(i.lower())"
   ]
  },
  {
   "cell_type": "code",
   "execution_count": 7,
   "id": "f21e88ab",
   "metadata": {},
   "outputs": [
    {
     "data": {
      "text/plain": [
       "['gold diggers of broadway',\n",
       " 'gone baby gone',\n",
       " 'gone in 60 seconds',\n",
       " 'gone with the wind',\n",
       " 'good girl',\n",
       " 'good burger',\n",
       " 'goodbye girl',\n",
       " 'good bye lenin!',\n",
       " 'goodfellas',\n",
       " 'good luck chuck',\n",
       " 'good morning, vietnam']"
      ]
     },
     "execution_count": 7,
     "metadata": {},
     "output_type": "execute_result"
    }
   ],
   "source": [
    "movie_titles_lower"
   ]
  },
  {
   "cell_type": "code",
   "execution_count": 8,
   "id": "1e1a0bc7",
   "metadata": {},
   "outputs": [],
   "source": [
    "movie_titles_title = []\n",
    "for i in movie_titles:\n",
    "    movie_titles_title.append(i.title())"
   ]
  },
  {
   "cell_type": "code",
   "execution_count": 9,
   "id": "b01eaa55",
   "metadata": {},
   "outputs": [
    {
     "data": {
      "text/plain": [
       "['Gold Diggers Of Broadway',\n",
       " 'Gone Baby Gone',\n",
       " 'Gone In 60 Seconds',\n",
       " 'Gone With The Wind',\n",
       " 'Good Girl',\n",
       " 'Good Burger',\n",
       " 'Goodbye Girl',\n",
       " 'Good Bye Lenin!',\n",
       " 'Goodfellas',\n",
       " 'Good Luck Chuck',\n",
       " 'Good Morning, Vietnam']"
      ]
     },
     "execution_count": 9,
     "metadata": {},
     "output_type": "execute_result"
    }
   ],
   "source": [
    "movie_titles_title"
   ]
  },
  {
   "cell_type": "code",
   "execution_count": 60,
   "id": "59f660c9",
   "metadata": {},
   "outputs": [],
   "source": [
    "fruits = [\"apple\",\"banana\",\"pear\",\"pineapple\"]"
   ]
  },
  {
   "cell_type": "markdown",
   "id": "30986016",
   "metadata": {},
   "source": [
    "# 2\n"
   ]
  },
  {
   "cell_type": "code",
   "execution_count": 11,
   "id": "23101e08",
   "metadata": {},
   "outputs": [],
   "source": [
    "string_remove = []\n",
    "for i in fruits:\n",
    "    string_remove.append(i[2:])"
   ]
  },
  {
   "cell_type": "code",
   "execution_count": 12,
   "id": "17da409b",
   "metadata": {},
   "outputs": [
    {
     "data": {
      "text/plain": [
       "['ple', 'nana', 'ar', 'neapple']"
      ]
     },
     "execution_count": 12,
     "metadata": {},
     "output_type": "execute_result"
    }
   ],
   "source": [
    "string_remove"
   ]
  },
  {
   "cell_type": "code",
   "execution_count": 17,
   "id": "d720edbf",
   "metadata": {},
   "outputs": [],
   "source": [
    "string_duplicate = []\n",
    "for i in fruits:\n",
    "    string_duplicate.append(i*3)"
   ]
  },
  {
   "cell_type": "code",
   "execution_count": 18,
   "id": "27fa656f",
   "metadata": {},
   "outputs": [
    {
     "data": {
      "text/plain": [
       "['appleappleapple',\n",
       " 'bananabananabanana',\n",
       " 'pearpearpear',\n",
       " 'pineapplepineapplepineapple']"
      ]
     },
     "execution_count": 18,
     "metadata": {},
     "output_type": "execute_result"
    }
   ],
   "source": [
    "string_duplicate"
   ]
  },
  {
   "cell_type": "code",
   "execution_count": 19,
   "id": "c73a609b",
   "metadata": {},
   "outputs": [],
   "source": [
    "#or"
   ]
  },
  {
   "cell_type": "code",
   "execution_count": 20,
   "id": "e332f232",
   "metadata": {},
   "outputs": [],
   "source": [
    "string_duplicate = []\n",
    "for i in fruits:\n",
    "    string_duplicate.append(i)\n",
    "    string_duplicate.append(i)\n",
    "    string_duplicate.append(i)"
   ]
  },
  {
   "cell_type": "code",
   "execution_count": 21,
   "id": "8ca7fad7",
   "metadata": {},
   "outputs": [
    {
     "data": {
      "text/plain": [
       "['apple',\n",
       " 'apple',\n",
       " 'apple',\n",
       " 'banana',\n",
       " 'banana',\n",
       " 'banana',\n",
       " 'pear',\n",
       " 'pear',\n",
       " 'pear',\n",
       " 'pineapple',\n",
       " 'pineapple',\n",
       " 'pineapple']"
      ]
     },
     "execution_count": 21,
     "metadata": {},
     "output_type": "execute_result"
    }
   ],
   "source": [
    "string_duplicate"
   ]
  },
  {
   "cell_type": "code",
   "execution_count": 95,
   "id": "c9808ea6",
   "metadata": {},
   "outputs": [],
   "source": [
    "strings1 = [\" 219 733 8965\",\"329-293-8753\",\"banana\",\"595 794 7569\",\"387 287 6718\",\"apple\",\"233.398.9187 \",\n",
    "           \"482 952 3315\", \"239 923 8115 and 842 566 4692\",'Work: 579-499-7527',\"$1000\" and \"Home: 543.355.3679\"]"
   ]
  },
  {
   "cell_type": "code",
   "execution_count": 23,
   "id": "1ac8bb51",
   "metadata": {},
   "outputs": [],
   "source": [
    "string_trim = []\n",
    "for i in strings1:\n",
    "    string_trim.append(i.strip())"
   ]
  },
  {
   "cell_type": "code",
   "execution_count": 24,
   "id": "0f8d70b1",
   "metadata": {},
   "outputs": [
    {
     "data": {
      "text/plain": [
       "['219 733 8965',\n",
       " '329-293-8753',\n",
       " 'banana',\n",
       " '595 794 7569',\n",
       " '387 287 6718',\n",
       " 'apple',\n",
       " '233.398.9187',\n",
       " '482 952 3315',\n",
       " '239 923 8115 and 842 566 4692',\n",
       " 'Work: 579-499-7527',\n",
       " 'Home: 543.355.3679']"
      ]
     },
     "execution_count": 24,
     "metadata": {},
     "output_type": "execute_result"
    }
   ],
   "source": [
    "string_trim"
   ]
  },
  {
   "cell_type": "code",
   "execution_count": 25,
   "id": "ac808874",
   "metadata": {},
   "outputs": [],
   "source": [
    "#value 1 and value value 7 has spaces at start or end they are deleted after triiming"
   ]
  },
  {
   "cell_type": "code",
   "execution_count": 26,
   "id": "8a4bca3a",
   "metadata": {},
   "outputs": [
    {
     "data": {
      "text/plain": [
       "['gold diggers of broadway',\n",
       " 'gone baby gone',\n",
       " 'gone in 60 seconds',\n",
       " 'gone with the wind',\n",
       " 'good girl',\n",
       " 'good burger',\n",
       " 'goodbye girl',\n",
       " 'good bye lenin!',\n",
       " 'goodfellas',\n",
       " 'good luck chuck',\n",
       " 'good morning, vietnam']"
      ]
     },
     "execution_count": 26,
     "metadata": {},
     "output_type": "execute_result"
    }
   ],
   "source": [
    "movie_titles"
   ]
  },
  {
   "cell_type": "code",
   "execution_count": 29,
   "id": "f4e175de",
   "metadata": {},
   "outputs": [],
   "source": [
    "string_padding = []\n",
    "for i in movie_titles:\n",
    "    string_padding.append(i.ljust(30,\" \"))"
   ]
  },
  {
   "cell_type": "code",
   "execution_count": 30,
   "id": "0a0f55bc",
   "metadata": {},
   "outputs": [
    {
     "data": {
      "text/plain": [
       "['gold diggers of broadway      ',\n",
       " 'gone baby gone                ',\n",
       " 'gone in 60 seconds            ',\n",
       " 'gone with the wind            ',\n",
       " 'good girl                     ',\n",
       " 'good burger                   ',\n",
       " 'goodbye girl                  ',\n",
       " 'good bye lenin!               ',\n",
       " 'goodfellas                    ',\n",
       " 'good luck chuck               ',\n",
       " 'good morning, vietnam         ']"
      ]
     },
     "execution_count": 30,
     "metadata": {},
     "output_type": "execute_result"
    }
   ],
   "source": [
    "string_padding"
   ]
  },
  {
   "cell_type": "markdown",
   "id": "e008f35c",
   "metadata": {},
   "source": [
    "# 3"
   ]
  },
  {
   "cell_type": "code",
   "execution_count": 61,
   "id": "eed60c49",
   "metadata": {},
   "outputs": [
    {
     "data": {
      "text/plain": [
       "['apple', 'banana', 'pear', 'pineapple']"
      ]
     },
     "execution_count": 61,
     "metadata": {},
     "output_type": "execute_result"
    }
   ],
   "source": [
    "fruits"
   ]
  },
  {
   "cell_type": "code",
   "execution_count": 32,
   "id": "bd20fd4e",
   "metadata": {},
   "outputs": [],
   "source": [
    "string_det = []\n",
    "for i in fruits:\n",
    "    string_det.append(i == \"apple\")"
   ]
  },
  {
   "cell_type": "code",
   "execution_count": 33,
   "id": "f2100f01",
   "metadata": {},
   "outputs": [
    {
     "data": {
      "text/plain": [
       "[True, False, False, False]"
      ]
     },
     "execution_count": 33,
     "metadata": {},
     "output_type": "execute_result"
    }
   ],
   "source": [
    "string_det"
   ]
  },
  {
   "cell_type": "code",
   "execution_count": 34,
   "id": "19c937d3",
   "metadata": {},
   "outputs": [],
   "source": [
    "string_any_det = []\n",
    "if \"apple\" in fruits:\n",
    "    string_any_det.append(\"apple\")"
   ]
  },
  {
   "cell_type": "code",
   "execution_count": 35,
   "id": "68243be9",
   "metadata": {},
   "outputs": [
    {
     "data": {
      "text/plain": [
       "['apple']"
      ]
     },
     "execution_count": 35,
     "metadata": {},
     "output_type": "execute_result"
    }
   ],
   "source": [
    "string_any_det"
   ]
  },
  {
   "cell_type": "code",
   "execution_count": 77,
   "id": "0611a536",
   "metadata": {},
   "outputs": [
    {
     "name": "stdout",
     "output_type": "stream",
     "text": [
      "[1]\n"
     ]
    }
   ],
   "source": [
    "def find_indices(search_list, search_item):\n",
    "    indices = []\n",
    "    for (index, item) in enumerate(search_list):\n",
    "        if item == search_item:\n",
    "            indices.append(index)\n",
    "\n",
    "    return indices\n",
    "string_loc = []\n",
    "fruits = [\"apple\",\"banana\",\"pear\",\"pineapple\"]\n",
    "string_loc.append(find_indices(fruits, 'banana'))\n",
    "for i in string_loc:\n",
    "    print(i)"
   ]
  },
  {
   "cell_type": "markdown",
   "id": "78e0c916",
   "metadata": {},
   "source": [
    "# 4\n"
   ]
  },
  {
   "cell_type": "code",
   "execution_count": 87,
   "id": "a8c0f573",
   "metadata": {},
   "outputs": [],
   "source": [
    "str_rep_first = []\n",
    "for i in fruits:\n",
    "    str_rep_first.append(i.replace(\"a\",\"e\",1))"
   ]
  },
  {
   "cell_type": "code",
   "execution_count": 88,
   "id": "e05bec1d",
   "metadata": {},
   "outputs": [
    {
     "data": {
      "text/plain": [
       "['epple', 'benana', 'peer', 'pineepple']"
      ]
     },
     "execution_count": 88,
     "metadata": {},
     "output_type": "execute_result"
    }
   ],
   "source": [
    "str_rep_first"
   ]
  },
  {
   "cell_type": "code",
   "execution_count": 89,
   "id": "6afd4409",
   "metadata": {},
   "outputs": [],
   "source": [
    "str_rep_every = []\n",
    "for i in fruits:\n",
    "    str_rep_every.append(i.replace(\"a\",\"e\"))"
   ]
  },
  {
   "cell_type": "code",
   "execution_count": 90,
   "id": "4999cf87",
   "metadata": {},
   "outputs": [
    {
     "data": {
      "text/plain": [
       "['epple', 'benene', 'peer', 'pineepple']"
      ]
     },
     "execution_count": 90,
     "metadata": {},
     "output_type": "execute_result"
    }
   ],
   "source": [
    "str_rep_every"
   ]
  },
  {
   "cell_type": "markdown",
   "id": "4d588658",
   "metadata": {},
   "source": [
    "# 5"
   ]
  },
  {
   "cell_type": "code",
   "execution_count": 96,
   "id": "31ed75b9",
   "metadata": {},
   "outputs": [
    {
     "data": {
      "text/plain": [
       "[' 219 733 8965',\n",
       " '329-293-8753',\n",
       " 'banana',\n",
       " '595 794 7569',\n",
       " '387 287 6718',\n",
       " 'apple',\n",
       " '233.398.9187 ',\n",
       " '482 952 3315',\n",
       " '239 923 8115 and 842 566 4692',\n",
       " 'Work: 579-499-7527',\n",
       " 'Home: 543.355.3679']"
      ]
     },
     "execution_count": 96,
     "metadata": {},
     "output_type": "execute_result"
    }
   ],
   "source": [
    "strings1"
   ]
  },
  {
   "cell_type": "code",
   "execution_count": 126,
   "id": "21bf9561",
   "metadata": {},
   "outputs": [],
   "source": [
    "strings2 = []\n",
    "for i in strings1:\n",
    "      strings2.append(i.replace(\"-\",\" \"))"
   ]
  },
  {
   "cell_type": "code",
   "execution_count": 127,
   "id": "970fc78c",
   "metadata": {},
   "outputs": [
    {
     "data": {
      "text/plain": [
       "[' 219 733 8965',\n",
       " '329 293 8753',\n",
       " 'banana',\n",
       " '595 794 7569',\n",
       " '387 287 6718',\n",
       " 'apple',\n",
       " '233.398.9187 ',\n",
       " '482 952 3315',\n",
       " '239 923 8115 and 842 566 4692',\n",
       " 'Work: 579 499 7527',\n",
       " 'Home: 543.355.3679']"
      ]
     },
     "execution_count": 127,
     "metadata": {},
     "output_type": "execute_result"
    }
   ],
   "source": [
    "strings2"
   ]
  },
  {
   "cell_type": "code",
   "execution_count": 130,
   "id": "763c17fa",
   "metadata": {},
   "outputs": [],
   "source": [
    "strings4 = []\n",
    "for i in strings2:\n",
    "      strings4.append(i.replace(\".\",\" \"))"
   ]
  },
  {
   "cell_type": "code",
   "execution_count": 131,
   "id": "baac1614",
   "metadata": {},
   "outputs": [
    {
     "data": {
      "text/plain": [
       "[' 219 733 8965',\n",
       " '329 293 8753',\n",
       " 'banana',\n",
       " '595 794 7569',\n",
       " '387 287 6718',\n",
       " 'apple',\n",
       " '233 398 9187 ',\n",
       " '482 952 3315',\n",
       " '239 923 8115 and 842 566 4692',\n",
       " 'Work: 579 499 7527',\n",
       " 'Home: 543 355 3679']"
      ]
     },
     "execution_count": 131,
     "metadata": {},
     "output_type": "execute_result"
    }
   ],
   "source": [
    "strings4"
   ]
  },
  {
   "cell_type": "code",
   "execution_count": 132,
   "id": "fe61692a",
   "metadata": {},
   "outputs": [],
   "source": [
    "strings3 = []\n",
    "for i in strings4:\n",
    "    strings3.append(i.strip())"
   ]
  },
  {
   "cell_type": "code",
   "execution_count": 133,
   "id": "0e19d496",
   "metadata": {},
   "outputs": [
    {
     "data": {
      "text/plain": [
       "['219 733 8965',\n",
       " '329 293 8753',\n",
       " 'banana',\n",
       " '595 794 7569',\n",
       " '387 287 6718',\n",
       " 'apple',\n",
       " '233 398 9187',\n",
       " '482 952 3315',\n",
       " '239 923 8115 and 842 566 4692',\n",
       " 'Work: 579 499 7527',\n",
       " 'Home: 543 355 3679']"
      ]
     },
     "execution_count": 133,
     "metadata": {},
     "output_type": "execute_result"
    }
   ],
   "source": [
    "strings3"
   ]
  },
  {
   "cell_type": "code",
   "execution_count": 134,
   "id": "f6d33799",
   "metadata": {},
   "outputs": [
    {
     "name": "stdout",
     "output_type": "stream",
     "text": [
      "219 733 8965 329 293 8753 banana 595 794 7569 387 287 6718 apple 233 398 9187 482 952 3315 239 923 8115 and 842 566 4692 Work: 579 499 7527 Home: 543 355 3679\n"
     ]
    }
   ],
   "source": [
    "listToStr = ' '.join(map(str, strings3))\n",
    " \n",
    "print(listToStr)"
   ]
  },
  {
   "cell_type": "code",
   "execution_count": 135,
   "id": "fd8c042b",
   "metadata": {},
   "outputs": [],
   "source": [
    "import re"
   ]
  },
  {
   "cell_type": "code",
   "execution_count": 136,
   "id": "5022677e",
   "metadata": {},
   "outputs": [
    {
     "data": {
      "text/plain": [
       "['219 733 8965',\n",
       " '329 293 8753',\n",
       " '595 794 7569',\n",
       " '387 287 6718',\n",
       " '233 398 9187',\n",
       " '482 952 3315',\n",
       " '239 923 8115',\n",
       " '842 566 4692',\n",
       " '579 499 7527',\n",
       " '543 355 3679']"
      ]
     },
     "execution_count": 136,
     "metadata": {},
     "output_type": "execute_result"
    }
   ],
   "source": [
    "regex_pattern = r'\\d{3}.\\d{3}.\\d{4}'\n",
    "digits_list = re.findall(regex_pattern,listToStr)\n",
    "digits_list"
   ]
  },
  {
   "cell_type": "code",
   "execution_count": 139,
   "id": "fb341ccc",
   "metadata": {},
   "outputs": [],
   "source": [
    "s = []\n",
    "for i in digits_list:\n",
    "    s.append(i.split())"
   ]
  },
  {
   "cell_type": "code",
   "execution_count": 140,
   "id": "57472602",
   "metadata": {},
   "outputs": [
    {
     "data": {
      "text/plain": [
       "[['219', '733', '8965'],\n",
       " ['329', '293', '8753'],\n",
       " ['595', '794', '7569'],\n",
       " ['387', '287', '6718'],\n",
       " ['233', '398', '9187'],\n",
       " ['482', '952', '3315'],\n",
       " ['239', '923', '8115'],\n",
       " ['842', '566', '4692'],\n",
       " ['579', '499', '7527'],\n",
       " ['543', '355', '3679']]"
      ]
     },
     "execution_count": 140,
     "metadata": {},
     "output_type": "execute_result"
    }
   ],
   "source": [
    "s"
   ]
  },
  {
   "cell_type": "code",
   "execution_count": 151,
   "id": "64f101d7",
   "metadata": {},
   "outputs": [],
   "source": [
    "s1 = []\n",
    "for i in s:\n",
    "    s1.append(i[0])"
   ]
  },
  {
   "cell_type": "code",
   "execution_count": 152,
   "id": "ffc6914b",
   "metadata": {},
   "outputs": [
    {
     "data": {
      "text/plain": [
       "['219', '329', '595', '387', '233', '482', '239', '842', '579', '543']"
      ]
     },
     "execution_count": 152,
     "metadata": {},
     "output_type": "execute_result"
    }
   ],
   "source": [
    "s1"
   ]
  },
  {
   "cell_type": "code",
   "execution_count": 177,
   "id": "81c493ea",
   "metadata": {},
   "outputs": [],
   "source": [
    "s2 = []\n",
    "for i in s:\n",
    "    s2.append(\"\".join(i[1]+i[2]))"
   ]
  },
  {
   "cell_type": "code",
   "execution_count": 178,
   "id": "0f8bbb26",
   "metadata": {},
   "outputs": [
    {
     "data": {
      "text/plain": [
       "['7338965',\n",
       " '2938753',\n",
       " '7947569',\n",
       " '2876718',\n",
       " '3989187',\n",
       " '9523315',\n",
       " '9238115',\n",
       " '5664692',\n",
       " '4997527',\n",
       " '3553679']"
      ]
     },
     "execution_count": 178,
     "metadata": {},
     "output_type": "execute_result"
    }
   ],
   "source": [
    "s2"
   ]
  },
  {
   "cell_type": "code",
   "execution_count": 180,
   "id": "f0688560",
   "metadata": {},
   "outputs": [],
   "source": [
    "d = {\"l\":s1,\"k\":s2}"
   ]
  },
  {
   "cell_type": "code",
   "execution_count": 181,
   "id": "0bf0dff4",
   "metadata": {},
   "outputs": [],
   "source": [
    "import pandas as pd"
   ]
  },
  {
   "cell_type": "code",
   "execution_count": 182,
   "id": "a434b48e",
   "metadata": {},
   "outputs": [
    {
     "data": {
      "text/html": [
       "<div>\n",
       "<style scoped>\n",
       "    .dataframe tbody tr th:only-of-type {\n",
       "        vertical-align: middle;\n",
       "    }\n",
       "\n",
       "    .dataframe tbody tr th {\n",
       "        vertical-align: top;\n",
       "    }\n",
       "\n",
       "    .dataframe thead th {\n",
       "        text-align: right;\n",
       "    }\n",
       "</style>\n",
       "<table border=\"1\" class=\"dataframe\">\n",
       "  <thead>\n",
       "    <tr style=\"text-align: right;\">\n",
       "      <th></th>\n",
       "      <th>l</th>\n",
       "      <th>k</th>\n",
       "    </tr>\n",
       "  </thead>\n",
       "  <tbody>\n",
       "    <tr>\n",
       "      <th>0</th>\n",
       "      <td>219</td>\n",
       "      <td>7338965</td>\n",
       "    </tr>\n",
       "    <tr>\n",
       "      <th>1</th>\n",
       "      <td>329</td>\n",
       "      <td>2938753</td>\n",
       "    </tr>\n",
       "    <tr>\n",
       "      <th>2</th>\n",
       "      <td>595</td>\n",
       "      <td>7947569</td>\n",
       "    </tr>\n",
       "    <tr>\n",
       "      <th>3</th>\n",
       "      <td>387</td>\n",
       "      <td>2876718</td>\n",
       "    </tr>\n",
       "    <tr>\n",
       "      <th>4</th>\n",
       "      <td>233</td>\n",
       "      <td>3989187</td>\n",
       "    </tr>\n",
       "    <tr>\n",
       "      <th>5</th>\n",
       "      <td>482</td>\n",
       "      <td>9523315</td>\n",
       "    </tr>\n",
       "    <tr>\n",
       "      <th>6</th>\n",
       "      <td>239</td>\n",
       "      <td>9238115</td>\n",
       "    </tr>\n",
       "    <tr>\n",
       "      <th>7</th>\n",
       "      <td>842</td>\n",
       "      <td>5664692</td>\n",
       "    </tr>\n",
       "    <tr>\n",
       "      <th>8</th>\n",
       "      <td>579</td>\n",
       "      <td>4997527</td>\n",
       "    </tr>\n",
       "    <tr>\n",
       "      <th>9</th>\n",
       "      <td>543</td>\n",
       "      <td>3553679</td>\n",
       "    </tr>\n",
       "  </tbody>\n",
       "</table>\n",
       "</div>"
      ],
      "text/plain": [
       "     l        k\n",
       "0  219  7338965\n",
       "1  329  2938753\n",
       "2  595  7947569\n",
       "3  387  2876718\n",
       "4  233  3989187\n",
       "5  482  9523315\n",
       "6  239  9238115\n",
       "7  842  5664692\n",
       "8  579  4997527\n",
       "9  543  3553679"
      ]
     },
     "execution_count": 182,
     "metadata": {},
     "output_type": "execute_result"
    }
   ],
   "source": [
    "pd.DataFrame(d)"
   ]
  },
  {
   "cell_type": "code",
   "execution_count": 183,
   "id": "b7738c02",
   "metadata": {},
   "outputs": [],
   "source": [
    "str_phone = pd.DataFrame(d)"
   ]
  },
  {
   "cell_type": "code",
   "execution_count": 184,
   "id": "1cb54756",
   "metadata": {},
   "outputs": [],
   "source": [
    "str_phone.columns = [''] * len(str_phone.columns)"
   ]
  },
  {
   "cell_type": "code",
   "execution_count": 185,
   "id": "ca7bb759",
   "metadata": {},
   "outputs": [
    {
     "data": {
      "text/html": [
       "<div>\n",
       "<style scoped>\n",
       "    .dataframe tbody tr th:only-of-type {\n",
       "        vertical-align: middle;\n",
       "    }\n",
       "\n",
       "    .dataframe tbody tr th {\n",
       "        vertical-align: top;\n",
       "    }\n",
       "\n",
       "    .dataframe thead th {\n",
       "        text-align: right;\n",
       "    }\n",
       "</style>\n",
       "<table border=\"1\" class=\"dataframe\">\n",
       "  <thead>\n",
       "    <tr style=\"text-align: right;\">\n",
       "      <th></th>\n",
       "      <th></th>\n",
       "      <th></th>\n",
       "    </tr>\n",
       "  </thead>\n",
       "  <tbody>\n",
       "    <tr>\n",
       "      <th>0</th>\n",
       "      <td>219</td>\n",
       "      <td>7338965</td>\n",
       "    </tr>\n",
       "    <tr>\n",
       "      <th>1</th>\n",
       "      <td>329</td>\n",
       "      <td>2938753</td>\n",
       "    </tr>\n",
       "    <tr>\n",
       "      <th>2</th>\n",
       "      <td>595</td>\n",
       "      <td>7947569</td>\n",
       "    </tr>\n",
       "    <tr>\n",
       "      <th>3</th>\n",
       "      <td>387</td>\n",
       "      <td>2876718</td>\n",
       "    </tr>\n",
       "    <tr>\n",
       "      <th>4</th>\n",
       "      <td>233</td>\n",
       "      <td>3989187</td>\n",
       "    </tr>\n",
       "    <tr>\n",
       "      <th>5</th>\n",
       "      <td>482</td>\n",
       "      <td>9523315</td>\n",
       "    </tr>\n",
       "    <tr>\n",
       "      <th>6</th>\n",
       "      <td>239</td>\n",
       "      <td>9238115</td>\n",
       "    </tr>\n",
       "    <tr>\n",
       "      <th>7</th>\n",
       "      <td>842</td>\n",
       "      <td>5664692</td>\n",
       "    </tr>\n",
       "    <tr>\n",
       "      <th>8</th>\n",
       "      <td>579</td>\n",
       "      <td>4997527</td>\n",
       "    </tr>\n",
       "    <tr>\n",
       "      <th>9</th>\n",
       "      <td>543</td>\n",
       "      <td>3553679</td>\n",
       "    </tr>\n",
       "  </tbody>\n",
       "</table>\n",
       "</div>"
      ],
      "text/plain": [
       "               \n",
       "0  219  7338965\n",
       "1  329  2938753\n",
       "2  595  7947569\n",
       "3  387  2876718\n",
       "4  233  3989187\n",
       "5  482  9523315\n",
       "6  239  9238115\n",
       "7  842  5664692\n",
       "8  579  4997527\n",
       "9  543  3553679"
      ]
     },
     "execution_count": 185,
     "metadata": {},
     "output_type": "execute_result"
    }
   ],
   "source": [
    "str_phone"
   ]
  },
  {
   "cell_type": "code",
   "execution_count": null,
   "id": "11bb6d87",
   "metadata": {},
   "outputs": [],
   "source": []
  }
 ],
 "metadata": {
  "kernelspec": {
   "display_name": "Python 3 (ipykernel)",
   "language": "python",
   "name": "python3"
  },
  "language_info": {
   "codemirror_mode": {
    "name": "ipython",
    "version": 3
   },
   "file_extension": ".py",
   "mimetype": "text/x-python",
   "name": "python",
   "nbconvert_exporter": "python",
   "pygments_lexer": "ipython3",
   "version": "3.9.7"
  }
 },
 "nbformat": 4,
 "nbformat_minor": 5
}
