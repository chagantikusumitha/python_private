{
 "cells": [
  {
   "cell_type": "code",
   "execution_count": 1,
   "id": "03603bd7",
   "metadata": {},
   "outputs": [],
   "source": [
    "l = [1,2,3,4,5]"
   ]
  },
  {
   "cell_type": "code",
   "execution_count": 4,
   "id": "4079ad0c",
   "metadata": {},
   "outputs": [],
   "source": [
    "import numpy as np"
   ]
  },
  {
   "cell_type": "code",
   "execution_count": 5,
   "id": "59759538",
   "metadata": {},
   "outputs": [
    {
     "data": {
      "text/plain": [
       "array([1, 2, 3, 4, 5])"
      ]
     },
     "execution_count": 5,
     "metadata": {},
     "output_type": "execute_result"
    }
   ],
   "source": [
    "np.array(l)"
   ]
  },
  {
   "cell_type": "code",
   "execution_count": 6,
   "id": "d61dcffa",
   "metadata": {},
   "outputs": [
    {
     "name": "stdout",
     "output_type": "stream",
     "text": [
      "[1 2 3 4 5]\n"
     ]
    }
   ],
   "source": [
    "a1 = np.array(l)\n",
    "print(a1)"
   ]
  },
  {
   "cell_type": "code",
   "execution_count": 11,
   "id": "5bd66b88",
   "metadata": {},
   "outputs": [
    {
     "data": {
      "text/plain": [
       "numpy.ndarray"
      ]
     },
     "execution_count": 11,
     "metadata": {},
     "output_type": "execute_result"
    }
   ],
   "source": [
    "type(a1)"
   ]
  },
  {
   "cell_type": "code",
   "execution_count": 27,
   "id": "4475da72",
   "metadata": {},
   "outputs": [
    {
     "data": {
      "text/plain": [
       "(5,)"
      ]
     },
     "execution_count": 27,
     "metadata": {},
     "output_type": "execute_result"
    }
   ],
   "source": [
    "a1.shape"
   ]
  },
  {
   "cell_type": "code",
   "execution_count": 29,
   "id": "e7ae751d",
   "metadata": {},
   "outputs": [
    {
     "data": {
      "text/plain": [
       "1"
      ]
     },
     "execution_count": 29,
     "metadata": {},
     "output_type": "execute_result"
    }
   ],
   "source": [
    "a1.ndim"
   ]
  },
  {
   "cell_type": "code",
   "execution_count": 21,
   "id": "0bce34e1",
   "metadata": {},
   "outputs": [],
   "source": [
    "A = [[1,2,3],[5,6,7],[8,9,10]]"
   ]
  },
  {
   "cell_type": "code",
   "execution_count": 22,
   "id": "ef441067",
   "metadata": {},
   "outputs": [
    {
     "data": {
      "text/plain": [
       "array([[ 1,  2,  3],\n",
       "       [ 5,  6,  7],\n",
       "       [ 8,  9, 10]])"
      ]
     },
     "execution_count": 22,
     "metadata": {},
     "output_type": "execute_result"
    }
   ],
   "source": [
    "np.array(A)"
   ]
  },
  {
   "cell_type": "code",
   "execution_count": 23,
   "id": "8b1cb163",
   "metadata": {},
   "outputs": [],
   "source": [
    "A2 = np.array(A)"
   ]
  },
  {
   "cell_type": "code",
   "execution_count": 24,
   "id": "16addb43",
   "metadata": {},
   "outputs": [
    {
     "name": "stdout",
     "output_type": "stream",
     "text": [
      "[[ 1  2  3]\n",
      " [ 5  6  7]\n",
      " [ 8  9 10]]\n"
     ]
    }
   ],
   "source": [
    "print(A2)"
   ]
  },
  {
   "cell_type": "code",
   "execution_count": 25,
   "id": "591d951f",
   "metadata": {},
   "outputs": [
    {
     "data": {
      "text/plain": [
       "2"
      ]
     },
     "execution_count": 25,
     "metadata": {},
     "output_type": "execute_result"
    }
   ],
   "source": [
    "A2.ndim"
   ]
  },
  {
   "cell_type": "code",
   "execution_count": 26,
   "id": "440a7f6f",
   "metadata": {},
   "outputs": [
    {
     "data": {
      "text/plain": [
       "(3, 3)"
      ]
     },
     "execution_count": 26,
     "metadata": {},
     "output_type": "execute_result"
    }
   ],
   "source": [
    "A2.shape"
   ]
  },
  {
   "cell_type": "code",
   "execution_count": 35,
   "id": "fad9b29a",
   "metadata": {},
   "outputs": [
    {
     "data": {
      "text/plain": [
       "array([[1., 0., 0., 0., 0.],\n",
       "       [0., 1., 0., 0., 0.],\n",
       "       [0., 0., 1., 0., 0.],\n",
       "       [0., 0., 0., 1., 0.],\n",
       "       [0., 0., 0., 0., 1.]])"
      ]
     },
     "execution_count": 35,
     "metadata": {},
     "output_type": "execute_result"
    }
   ],
   "source": [
    "np.eye(5)"
   ]
  },
  {
   "cell_type": "code",
   "execution_count": 34,
   "id": "e028c898",
   "metadata": {},
   "outputs": [
    {
     "data": {
      "text/plain": [
       "array([[1, 0, 0, 0, 0],\n",
       "       [0, 1, 0, 0, 0],\n",
       "       [0, 0, 1, 0, 0],\n",
       "       [0, 0, 0, 1, 0],\n",
       "       [0, 0, 0, 0, 1]])"
      ]
     },
     "execution_count": 34,
     "metadata": {},
     "output_type": "execute_result"
    }
   ],
   "source": [
    "np.eye(5,dtype = int)"
   ]
  },
  {
   "cell_type": "code",
   "execution_count": 39,
   "id": "aa791a98",
   "metadata": {},
   "outputs": [
    {
     "name": "stdout",
     "output_type": "stream",
     "text": [
      "[[1 0 0 0 0]\n",
      " [0 1 0 0 0]\n",
      " [0 0 1 0 0]\n",
      " [0 0 0 1 0]\n",
      " [0 0 0 0 1]]\n"
     ]
    }
   ],
   "source": [
    "print(np.eye(5,dtype = int))"
   ]
  },
  {
   "cell_type": "code",
   "execution_count": 36,
   "id": "b56ec38d",
   "metadata": {},
   "outputs": [],
   "source": [
    "B = [[1,2,3],[5,6,7],[8,9,10],[11,12,13]]"
   ]
  },
  {
   "cell_type": "code",
   "execution_count": 37,
   "id": "8ef288c5",
   "metadata": {},
   "outputs": [],
   "source": [
    "B1 = np.array(B)"
   ]
  },
  {
   "cell_type": "code",
   "execution_count": 38,
   "id": "37fc421f",
   "metadata": {},
   "outputs": [
    {
     "name": "stdout",
     "output_type": "stream",
     "text": [
      "[[ 1  2  3]\n",
      " [ 5  6  7]\n",
      " [ 8  9 10]\n",
      " [11 12 13]]\n"
     ]
    }
   ],
   "source": [
    "print(B1)"
   ]
  },
  {
   "cell_type": "code",
   "execution_count": 40,
   "id": "7e374847",
   "metadata": {},
   "outputs": [
    {
     "data": {
      "text/plain": [
       "(4, 3)"
      ]
     },
     "execution_count": 40,
     "metadata": {},
     "output_type": "execute_result"
    }
   ],
   "source": [
    "B1.shape"
   ]
  },
  {
   "cell_type": "code",
   "execution_count": 42,
   "id": "4beba40d",
   "metadata": {},
   "outputs": [
    {
     "data": {
      "text/plain": [
       "2"
      ]
     },
     "execution_count": 42,
     "metadata": {},
     "output_type": "execute_result"
    }
   ],
   "source": [
    "B1.ndim"
   ]
  },
  {
   "cell_type": "code",
   "execution_count": 45,
   "id": "9d869221",
   "metadata": {},
   "outputs": [
    {
     "data": {
      "text/plain": [
       "array([1, 3, 5, 7, 9])"
      ]
     },
     "execution_count": 45,
     "metadata": {},
     "output_type": "execute_result"
    }
   ],
   "source": [
    "np.arange(1,10,2)"
   ]
  },
  {
   "cell_type": "code",
   "execution_count": 46,
   "id": "5269da0a",
   "metadata": {},
   "outputs": [
    {
     "name": "stdout",
     "output_type": "stream",
     "text": [
      "[1 3 5 7 9]\n"
     ]
    }
   ],
   "source": [
    "print(np.arange(1,10,2))"
   ]
  },
  {
   "cell_type": "code",
   "execution_count": 47,
   "id": "44346e4b",
   "metadata": {},
   "outputs": [
    {
     "data": {
      "text/plain": [
       "array([ 1,  3,  5,  7,  9, 11, 13, 15, 17, 19, 21, 23, 25, 27, 29, 31, 33,\n",
       "       35, 37, 39, 41, 43, 45, 47, 49, 51, 53, 55, 57, 59, 61, 63, 65, 67,\n",
       "       69, 71, 73, 75, 77, 79, 81, 83, 85, 87, 89, 91, 93, 95, 97, 99])"
      ]
     },
     "execution_count": 47,
     "metadata": {},
     "output_type": "execute_result"
    }
   ],
   "source": [
    "np.arange(1,100,2)"
   ]
  },
  {
   "cell_type": "code",
   "execution_count": 48,
   "id": "14a89237",
   "metadata": {},
   "outputs": [
    {
     "name": "stdout",
     "output_type": "stream",
     "text": [
      "[ 1  3  5  7  9 11 13 15 17 19 21 23 25 27 29 31 33 35 37 39 41 43 45 47\n",
      " 49 51 53 55 57 59 61 63 65 67 69 71 73 75 77 79 81 83 85 87 89 91 93 95\n",
      " 97 99]\n"
     ]
    }
   ],
   "source": [
    "print(np.arange(1,100,2))"
   ]
  },
  {
   "cell_type": "code",
   "execution_count": 49,
   "id": "60af9f89",
   "metadata": {},
   "outputs": [
    {
     "data": {
      "text/plain": [
       "array([0., 0., 0., 0., 0.])"
      ]
     },
     "execution_count": 49,
     "metadata": {},
     "output_type": "execute_result"
    }
   ],
   "source": [
    "np.zeros(5)"
   ]
  },
  {
   "cell_type": "code",
   "execution_count": 51,
   "id": "e9d6e0ee",
   "metadata": {},
   "outputs": [
    {
     "name": "stdout",
     "output_type": "stream",
     "text": [
      "[0. 0. 0. 0. 0.]\n"
     ]
    }
   ],
   "source": [
    "print(np.zeros(5))"
   ]
  },
  {
   "cell_type": "code",
   "execution_count": 50,
   "id": "c8120d37",
   "metadata": {},
   "outputs": [
    {
     "data": {
      "text/plain": [
       "array([0, 0, 0, 0, 0])"
      ]
     },
     "execution_count": 50,
     "metadata": {},
     "output_type": "execute_result"
    }
   ],
   "source": [
    "np.zeros(5,dtype = int)"
   ]
  },
  {
   "cell_type": "code",
   "execution_count": 52,
   "id": "5bfc4b9e",
   "metadata": {},
   "outputs": [
    {
     "name": "stdout",
     "output_type": "stream",
     "text": [
      "[0 0 0 0 0]\n"
     ]
    }
   ],
   "source": [
    "print(np.zeros(5,dtype = int))"
   ]
  },
  {
   "cell_type": "code",
   "execution_count": 53,
   "id": "31000779",
   "metadata": {},
   "outputs": [
    {
     "name": "stdout",
     "output_type": "stream",
     "text": [
      "[[0 0 0 0 0]\n",
      " [0 0 0 0 0]\n",
      " [0 0 0 0 0]\n",
      " [0 0 0 0 0]\n",
      " [0 0 0 0 0]]\n"
     ]
    }
   ],
   "source": [
    "print(np.zeros((5,5),dtype = int))"
   ]
  },
  {
   "cell_type": "code",
   "execution_count": 56,
   "id": "440b6118",
   "metadata": {},
   "outputs": [
    {
     "name": "stdout",
     "output_type": "stream",
     "text": [
      "[[1 1 1 1 1]\n",
      " [1 1 1 1 1]\n",
      " [1 1 1 1 1]\n",
      " [1 1 1 1 1]\n",
      " [1 1 1 1 1]]\n"
     ]
    }
   ],
   "source": [
    "print(np.ones((5,5),dtype = int))"
   ]
  },
  {
   "cell_type": "code",
   "execution_count": 61,
   "id": "e087c9c7",
   "metadata": {},
   "outputs": [
    {
     "name": "stdout",
     "output_type": "stream",
     "text": [
      "[ 1.    3.25  5.5   7.75 10.  ]\n"
     ]
    }
   ],
   "source": [
    "print(np.linspace(1,10,5))"
   ]
  },
  {
   "cell_type": "code",
   "execution_count": 62,
   "id": "5f0fe8f5",
   "metadata": {},
   "outputs": [
    {
     "name": "stdout",
     "output_type": "stream",
     "text": [
      "[  1.           6.21052632  11.42105263  16.63157895  21.84210526\n",
      "  27.05263158  32.26315789  37.47368421  42.68421053  47.89473684\n",
      "  53.10526316  58.31578947  63.52631579  68.73684211  73.94736842\n",
      "  79.15789474  84.36842105  89.57894737  94.78947368 100.        ]\n"
     ]
    }
   ],
   "source": [
    "print(np.linspace(1,100,20))"
   ]
  },
  {
   "cell_type": "code",
   "execution_count": 65,
   "id": "a655048c",
   "metadata": {},
   "outputs": [
    {
     "data": {
      "text/plain": [
       "array([3793, 4253, 5211, 3550, 5515, 7787, 8361, 2884, 1226, 7281])"
      ]
     },
     "execution_count": 65,
     "metadata": {},
     "output_type": "execute_result"
    }
   ],
   "source": [
    "np.random.randint(1000,9999,10)"
   ]
  },
  {
   "cell_type": "code",
   "execution_count": 66,
   "id": "22ff971a",
   "metadata": {},
   "outputs": [
    {
     "name": "stdout",
     "output_type": "stream",
     "text": [
      "[9894 8859 5840 7018 6510 4587 2674 8432 2072 5577]\n"
     ]
    }
   ],
   "source": [
    "print(np.random.randint(1000,9999,10))"
   ]
  },
  {
   "cell_type": "code",
   "execution_count": 74,
   "id": "47c68efc",
   "metadata": {},
   "outputs": [
    {
     "name": "stdout",
     "output_type": "stream",
     "text": [
      "[[4938 1516 6788 4210 7113]\n",
      " [9602 2398 2798 3321 3260]\n",
      " [9185 3312 7648 8698 9549]\n",
      " [1494 6849 9159 6504 4751]\n",
      " [7444 2069 6246 3271 1518]]\n"
     ]
    }
   ],
   "source": [
    "print(np.random.randint(1000,9999,(5,5)))"
   ]
  },
  {
   "cell_type": "code",
   "execution_count": 70,
   "id": "322f1ab2",
   "metadata": {},
   "outputs": [
    {
     "name": "stdout",
     "output_type": "stream",
     "text": [
      "[ 0.59755666  1.72369128  0.05328423  0.80018837 -1.12269197]\n"
     ]
    }
   ],
   "source": [
    "print(np.random.randn(5))"
   ]
  },
  {
   "cell_type": "code",
   "execution_count": 71,
   "id": "aa3e1a8f",
   "metadata": {},
   "outputs": [
    {
     "name": "stdout",
     "output_type": "stream",
     "text": [
      "[[-1.13637672  1.59582712]\n",
      " [-0.23323133  2.6149227 ]\n",
      " [ 1.46679284  0.81403047]]\n"
     ]
    }
   ],
   "source": [
    "print(np.random.randn(3,2))"
   ]
  },
  {
   "cell_type": "code",
   "execution_count": 75,
   "id": "7f35a263",
   "metadata": {},
   "outputs": [
    {
     "name": "stdout",
     "output_type": "stream",
     "text": [
      "[0.5369733  0.40161068 0.28773517 0.20069859 0.30407531 0.82622755\n",
      " 0.25497803 0.43127381 0.21339458 0.90860198]\n"
     ]
    }
   ],
   "source": [
    "print(np.random.rand(10))"
   ]
  },
  {
   "cell_type": "code",
   "execution_count": 77,
   "id": "39ccb69c",
   "metadata": {},
   "outputs": [
    {
     "name": "stdout",
     "output_type": "stream",
     "text": [
      "[[0.58791731 0.16499395 0.2178791  0.75662351 0.79515626 0.34934758]\n",
      " [0.1998621  0.41736321 0.08983315 0.51570901 0.54183529 0.6027277 ]\n",
      " [0.95201037 0.8647285  0.08961944 0.75225126 0.44973647 0.43288848]\n",
      " [0.14615986 0.70402604 0.64239921 0.35324851 0.7791268  0.07701445]\n",
      " [0.2816998  0.2259155  0.62208231 0.46665962 0.96506673 0.13426856]]\n"
     ]
    }
   ],
   "source": [
    "print(np.random.rand(5,6))"
   ]
  },
  {
   "cell_type": "code",
   "execution_count": 78,
   "id": "59940845",
   "metadata": {},
   "outputs": [
    {
     "data": {
      "text/plain": [
       "(5, 6)"
      ]
     },
     "execution_count": 78,
     "metadata": {},
     "output_type": "execute_result"
    }
   ],
   "source": [
    "np.random.rand(5,6).shape"
   ]
  },
  {
   "cell_type": "code",
   "execution_count": 79,
   "id": "b698c650",
   "metadata": {},
   "outputs": [],
   "source": [
    "K = np.linspace(1,100,20)"
   ]
  },
  {
   "cell_type": "code",
   "execution_count": 80,
   "id": "69839693",
   "metadata": {},
   "outputs": [
    {
     "name": "stdout",
     "output_type": "stream",
     "text": [
      "[  1.           6.21052632  11.42105263  16.63157895  21.84210526\n",
      "  27.05263158  32.26315789  37.47368421  42.68421053  47.89473684\n",
      "  53.10526316  58.31578947  63.52631579  68.73684211  73.94736842\n",
      "  79.15789474  84.36842105  89.57894737  94.78947368 100.        ]\n"
     ]
    }
   ],
   "source": [
    "print(K)"
   ]
  },
  {
   "cell_type": "code",
   "execution_count": 81,
   "id": "1d0d9e4f",
   "metadata": {},
   "outputs": [
    {
     "data": {
      "text/plain": [
       "1"
      ]
     },
     "execution_count": 81,
     "metadata": {},
     "output_type": "execute_result"
    }
   ],
   "source": [
    "K.ndim"
   ]
  },
  {
   "cell_type": "code",
   "execution_count": 83,
   "id": "49a58153",
   "metadata": {},
   "outputs": [],
   "source": [
    "D = K.reshape(4,5)"
   ]
  },
  {
   "cell_type": "code",
   "execution_count": 84,
   "id": "85fa5919",
   "metadata": {},
   "outputs": [
    {
     "data": {
      "text/plain": [
       "2"
      ]
     },
     "execution_count": 84,
     "metadata": {},
     "output_type": "execute_result"
    }
   ],
   "source": [
    "D.ndim"
   ]
  },
  {
   "cell_type": "code",
   "execution_count": 82,
   "id": "49c3d1cc",
   "metadata": {},
   "outputs": [
    {
     "name": "stdout",
     "output_type": "stream",
     "text": [
      "[[  1.           6.21052632  11.42105263  16.63157895  21.84210526]\n",
      " [ 27.05263158  32.26315789  37.47368421  42.68421053  47.89473684]\n",
      " [ 53.10526316  58.31578947  63.52631579  68.73684211  73.94736842]\n",
      " [ 79.15789474  84.36842105  89.57894737  94.78947368 100.        ]]\n"
     ]
    }
   ],
   "source": [
    "print(K.reshape(4,5))"
   ]
  },
  {
   "cell_type": "code",
   "execution_count": 85,
   "id": "a4f0787f",
   "metadata": {},
   "outputs": [
    {
     "name": "stdout",
     "output_type": "stream",
     "text": [
      "[[  1.           6.21052632  11.42105263  16.63157895]\n",
      " [ 21.84210526  27.05263158  32.26315789  37.47368421]\n",
      " [ 42.68421053  47.89473684  53.10526316  58.31578947]\n",
      " [ 63.52631579  68.73684211  73.94736842  79.15789474]\n",
      " [ 84.36842105  89.57894737  94.78947368 100.        ]]\n"
     ]
    }
   ],
   "source": [
    "print(K.reshape(5,4))"
   ]
  },
  {
   "cell_type": "code",
   "execution_count": 86,
   "id": "18fbeb0b",
   "metadata": {},
   "outputs": [
    {
     "name": "stdout",
     "output_type": "stream",
     "text": [
      "[[  1.           6.21052632]\n",
      " [ 11.42105263  16.63157895]\n",
      " [ 21.84210526  27.05263158]\n",
      " [ 32.26315789  37.47368421]\n",
      " [ 42.68421053  47.89473684]\n",
      " [ 53.10526316  58.31578947]\n",
      " [ 63.52631579  68.73684211]\n",
      " [ 73.94736842  79.15789474]\n",
      " [ 84.36842105  89.57894737]\n",
      " [ 94.78947368 100.        ]]\n"
     ]
    }
   ],
   "source": [
    "print(K.reshape(10,2))"
   ]
  },
  {
   "cell_type": "code",
   "execution_count": 87,
   "id": "f13cc777",
   "metadata": {},
   "outputs": [
    {
     "ename": "ValueError",
     "evalue": "cannot reshape array of size 20 into shape (5,5)",
     "output_type": "error",
     "traceback": [
      "\u001b[1;31m---------------------------------------------------------------------------\u001b[0m",
      "\u001b[1;31mValueError\u001b[0m                                Traceback (most recent call last)",
      "\u001b[1;32mC:\\Users\\KUSUMI~1\\AppData\\Local\\Temp/ipykernel_15220/3936889305.py\u001b[0m in \u001b[0;36m<module>\u001b[1;34m\u001b[0m\n\u001b[1;32m----> 1\u001b[1;33m \u001b[0mprint\u001b[0m\u001b[1;33m(\u001b[0m\u001b[0mK\u001b[0m\u001b[1;33m.\u001b[0m\u001b[0mreshape\u001b[0m\u001b[1;33m(\u001b[0m\u001b[1;36m5\u001b[0m\u001b[1;33m,\u001b[0m\u001b[1;36m5\u001b[0m\u001b[1;33m)\u001b[0m\u001b[1;33m)\u001b[0m\u001b[1;33m\u001b[0m\u001b[1;33m\u001b[0m\u001b[0m\n\u001b[0m",
      "\u001b[1;31mValueError\u001b[0m: cannot reshape array of size 20 into shape (5,5)"
     ]
    }
   ],
   "source": [
    "print(K.reshape(5,5))"
   ]
  },
  {
   "cell_type": "code",
   "execution_count": 88,
   "id": "25345d19",
   "metadata": {},
   "outputs": [],
   "source": [
    "R = np.random.randint(1000,9999,(5,5))"
   ]
  },
  {
   "cell_type": "code",
   "execution_count": 90,
   "id": "b8304a2b",
   "metadata": {},
   "outputs": [
    {
     "name": "stdout",
     "output_type": "stream",
     "text": [
      "[[9407 7123 1814 1529 6804]\n",
      " [5070 8995 8123 5112 8625]\n",
      " [3700 7885 2001 3801 2376]\n",
      " [3308 7137 5397 7524 8629]\n",
      " [8030 3989 7316 3703 1537]]\n"
     ]
    }
   ],
   "source": [
    "print(R)"
   ]
  },
  {
   "cell_type": "code",
   "execution_count": 91,
   "id": "9e9796c9",
   "metadata": {},
   "outputs": [
    {
     "data": {
      "text/plain": [
       "2"
      ]
     },
     "execution_count": 91,
     "metadata": {},
     "output_type": "execute_result"
    }
   ],
   "source": [
    "R.ndim"
   ]
  },
  {
   "cell_type": "code",
   "execution_count": 89,
   "id": "8df12db2",
   "metadata": {},
   "outputs": [
    {
     "name": "stdout",
     "output_type": "stream",
     "text": [
      "[9407 7123 1814 1529 6804 5070 8995 8123 5112 8625 3700 7885 2001 3801\n",
      " 2376 3308 7137 5397 7524 8629 8030 3989 7316 3703 1537]\n"
     ]
    }
   ],
   "source": [
    "print(R.flatten())"
   ]
  },
  {
   "cell_type": "code",
   "execution_count": 92,
   "id": "1e7c26c6",
   "metadata": {},
   "outputs": [],
   "source": [
    "r = R.flatten()"
   ]
  },
  {
   "cell_type": "code",
   "execution_count": 93,
   "id": "4abbada4",
   "metadata": {},
   "outputs": [
    {
     "data": {
      "text/plain": [
       "1"
      ]
     },
     "execution_count": 93,
     "metadata": {},
     "output_type": "execute_result"
    }
   ],
   "source": [
    "r.ndim"
   ]
  },
  {
   "cell_type": "code",
   "execution_count": 100,
   "id": "9bb8803b",
   "metadata": {},
   "outputs": [
    {
     "name": "stdout",
     "output_type": "stream",
     "text": [
      "[61 63 61  2 23 16 82 79 95 84]\n",
      "95\n",
      "2\n"
     ]
    }
   ],
   "source": [
    "list = np.random.randint(1,100,10)\n",
    "print(list)\n",
    "print(np.max(list))\n",
    "print(np.min(list))"
   ]
  },
  {
   "cell_type": "code",
   "execution_count": 108,
   "id": "ccc9b078",
   "metadata": {},
   "outputs": [
    {
     "name": "stdout",
     "output_type": "stream",
     "text": [
      "[80 38 80 53 65  5 55 83 37 24]\n"
     ]
    },
    {
     "data": {
      "text/plain": [
       "7"
      ]
     },
     "execution_count": 108,
     "metadata": {},
     "output_type": "execute_result"
    }
   ],
   "source": [
    "list = np.random.randint(1,100,10)\n",
    "print(list)\n",
    "list.argmax()"
   ]
  },
  {
   "cell_type": "code",
   "execution_count": 110,
   "id": "5022f60e",
   "metadata": {},
   "outputs": [
    {
     "name": "stdout",
     "output_type": "stream",
     "text": [
      "7\n"
     ]
    }
   ],
   "source": [
    "print(np.argmax(list))"
   ]
  },
  {
   "cell_type": "code",
   "execution_count": 109,
   "id": "640ebac9",
   "metadata": {},
   "outputs": [
    {
     "data": {
      "text/plain": [
       "5"
      ]
     },
     "execution_count": 109,
     "metadata": {},
     "output_type": "execute_result"
    }
   ],
   "source": [
    "list.argmin()"
   ]
  },
  {
   "cell_type": "code",
   "execution_count": 112,
   "id": "4b546ba6",
   "metadata": {},
   "outputs": [
    {
     "name": "stdout",
     "output_type": "stream",
     "text": [
      "5\n"
     ]
    }
   ],
   "source": [
    "print(np.argmin(list))"
   ]
  },
  {
   "cell_type": "code",
   "execution_count": 115,
   "id": "5a5648b3",
   "metadata": {},
   "outputs": [
    {
     "data": {
      "text/plain": [
       "array([[27029, 85809, 13139, 27066, 31004, 79963, 33639, 86962],\n",
       "       [73976, 78480, 61807, 87526, 60636, 29819, 74882, 25585],\n",
       "       [71683, 88943, 37120, 55414, 50753, 61101, 96812, 80225],\n",
       "       [31585, 99749, 57675, 69956, 27245, 28639, 54786, 15681],\n",
       "       [25881, 86491, 61826, 95783, 32079, 38923, 85470, 73466],\n",
       "       [67746, 68523, 54538, 75857, 70516, 44623, 40299, 25395],\n",
       "       [10970, 12801, 86655, 15285, 27026, 93464, 23807, 43646]])"
      ]
     },
     "execution_count": 115,
     "metadata": {},
     "output_type": "execute_result"
    }
   ],
   "source": [
    "np.random.randint(10000,99999,(7,8))"
   ]
  },
  {
   "cell_type": "code",
   "execution_count": 121,
   "id": "f723d48e",
   "metadata": {},
   "outputs": [
    {
     "name": "stdout",
     "output_type": "stream",
     "text": [
      "[[35459 83085 25704 97909 42562 94835 44475 53188]\n",
      " [86824 35655 43122 46723 34622 16027 42898 80620]\n",
      " [83124 61740 84971 22723 90929 77978 50966 91705]\n",
      " [16767 26289 62046 87208 57827 41436 45058 22738]\n",
      " [34685 32660 46276 60859 79092 94036 88634 65805]\n",
      " [54865 46097 76912 10834 86379 42404 52072 36678]\n",
      " [65246 12178 85785 17432 35418 77731 35192 45094]]\n",
      "98763\n",
      "12659\n",
      "[87703 33359 86661 41847 17814 98763 29575 92034 12659 51745 43683 24355\n",
      " 30816 88899 84162 58103 37525 22979 93619 91021 58021 38524 24363 47705\n",
      " 98597 88438 28821 66095 53659 31528 71131 81712 70067 88078 96329 73099\n",
      " 44363 84704 19804 43516 64086 81780 46995 33275 30471 25940 37302 57598\n",
      " 30699 22855 54202 84669 86175 76503 51566 86904]\n"
     ]
    }
   ],
   "source": [
    "S = np.random.randint(10000,99999,(7,8))\n",
    "print(np.random.randint(10000,99999,(7,8)))\n",
    "print(np.max(S))\n",
    "print(np.min(S))\n",
    "print(S.flatten())"
   ]
  },
  {
   "cell_type": "code",
   "execution_count": null,
   "id": "527b5610",
   "metadata": {},
   "outputs": [],
   "source": []
  }
 ],
 "metadata": {
  "kernelspec": {
   "display_name": "Python 3 (ipykernel)",
   "language": "python",
   "name": "python3"
  },
  "language_info": {
   "codemirror_mode": {
    "name": "ipython",
    "version": 3
   },
   "file_extension": ".py",
   "mimetype": "text/x-python",
   "name": "python",
   "nbconvert_exporter": "python",
   "pygments_lexer": "ipython3",
   "version": "3.9.7"
  }
 },
 "nbformat": 4,
 "nbformat_minor": 5
}
