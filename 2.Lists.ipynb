{
 "cells": [
  {
   "cell_type": "code",
   "execution_count": 32,
   "id": "e7884f87",
   "metadata": {},
   "outputs": [],
   "source": [
    "l=[1,2,5,7,10,12,15,17]"
   ]
  },
  {
   "cell_type": "code",
   "execution_count": 15,
   "id": "857c9ccc",
   "metadata": {},
   "outputs": [
    {
     "name": "stdout",
     "output_type": "stream",
     "text": [
      "[1, 2, 5, 7, 10, 12, 15, 17]\n"
     ]
    }
   ],
   "source": [
    "print(l)"
   ]
  },
  {
   "cell_type": "code",
   "execution_count": 1,
   "id": "b015f569",
   "metadata": {},
   "outputs": [],
   "source": [
    "d=\"data science\""
   ]
  },
  {
   "cell_type": "code",
   "execution_count": 3,
   "id": "f6af70a5",
   "metadata": {},
   "outputs": [],
   "source": [
    "A =list(d)"
   ]
  },
  {
   "cell_type": "code",
   "execution_count": 16,
   "id": "a9f79402",
   "metadata": {},
   "outputs": [
    {
     "data": {
      "text/plain": [
       "5"
      ]
     },
     "execution_count": 16,
     "metadata": {},
     "output_type": "execute_result"
    }
   ],
   "source": [
    "l[2]"
   ]
  },
  {
   "cell_type": "code",
   "execution_count": 17,
   "id": "a792f753",
   "metadata": {},
   "outputs": [
    {
     "data": {
      "text/plain": [
       "[2, 5, 7]"
      ]
     },
     "execution_count": 17,
     "metadata": {},
     "output_type": "execute_result"
    }
   ],
   "source": [
    "l[1:4:1]"
   ]
  },
  {
   "cell_type": "code",
   "execution_count": 9,
   "id": "faefeae2",
   "metadata": {},
   "outputs": [
    {
     "data": {
      "text/plain": [
       "3"
      ]
     },
     "execution_count": 9,
     "metadata": {},
     "output_type": "execute_result"
    }
   ],
   "source": [
    "l[-2]"
   ]
  },
  {
   "cell_type": "code",
   "execution_count": 10,
   "id": "e49b537a",
   "metadata": {},
   "outputs": [
    {
     "data": {
      "text/plain": [
       "4"
      ]
     },
     "execution_count": 10,
     "metadata": {},
     "output_type": "execute_result"
    }
   ],
   "source": [
    "l[-1]"
   ]
  },
  {
   "cell_type": "code",
   "execution_count": 19,
   "id": "507089cf",
   "metadata": {},
   "outputs": [
    {
     "data": {
      "text/plain": [
       "[10, 12]"
      ]
     },
     "execution_count": 19,
     "metadata": {},
     "output_type": "execute_result"
    }
   ],
   "source": [
    "l[-4:-2:1]"
   ]
  },
  {
   "cell_type": "code",
   "execution_count": 20,
   "id": "116f687c",
   "metadata": {},
   "outputs": [
    {
     "data": {
      "text/plain": [
       "[10, 12, 15]"
      ]
     },
     "execution_count": 20,
     "metadata": {},
     "output_type": "execute_result"
    }
   ],
   "source": [
    "l[-4:-1:1]"
   ]
  },
  {
   "cell_type": "code",
   "execution_count": 21,
   "id": "f4f8c2aa",
   "metadata": {},
   "outputs": [
    {
     "data": {
      "text/plain": [
       "[17, 15, 12, 10, 7, 5, 2, 1]"
      ]
     },
     "execution_count": 21,
     "metadata": {},
     "output_type": "execute_result"
    }
   ],
   "source": [
    "l[ : :-1]"
   ]
  },
  {
   "cell_type": "code",
   "execution_count": 22,
   "id": "a303dc52",
   "metadata": {},
   "outputs": [
    {
     "data": {
      "text/plain": [
       "[17, 12, 7, 2]"
      ]
     },
     "execution_count": 22,
     "metadata": {},
     "output_type": "execute_result"
    }
   ],
   "source": [
    "l[ : :-2]"
   ]
  },
  {
   "cell_type": "code",
   "execution_count": 23,
   "id": "749db70a",
   "metadata": {},
   "outputs": [
    {
     "data": {
      "text/plain": [
       "[17, 15, 12]"
      ]
     },
     "execution_count": 23,
     "metadata": {},
     "output_type": "execute_result"
    }
   ],
   "source": [
    "l[-1:-4:-1]"
   ]
  },
  {
   "cell_type": "code",
   "execution_count": 26,
   "id": "1841a0ee",
   "metadata": {},
   "outputs": [
    {
     "data": {
      "text/plain": [
       "[]"
      ]
     },
     "execution_count": 26,
     "metadata": {},
     "output_type": "execute_result"
    }
   ],
   "source": [
    "l[1: :-2]"
   ]
  },
  {
   "cell_type": "code",
   "execution_count": 27,
   "id": "e95e3d6b",
   "metadata": {},
   "outputs": [],
   "source": [
    "s=\"machine learning\""
   ]
  },
  {
   "cell_type": "code",
   "execution_count": 28,
   "id": "3984b4c1",
   "metadata": {},
   "outputs": [
    {
     "data": {
      "text/plain": [
       "'gninrael enihcam'"
      ]
     },
     "execution_count": 28,
     "metadata": {},
     "output_type": "execute_result"
    }
   ],
   "source": [
    "s[ : :-1]"
   ]
  },
  {
   "cell_type": "code",
   "execution_count": 29,
   "id": "bda43258",
   "metadata": {},
   "outputs": [
    {
     "data": {
      "text/plain": [
       "'gire nha'"
      ]
     },
     "execution_count": 29,
     "metadata": {},
     "output_type": "execute_result"
    }
   ],
   "source": [
    "s[ : :-2]"
   ]
  },
  {
   "cell_type": "code",
   "execution_count": 1,
   "id": "8779e6e1",
   "metadata": {},
   "outputs": [],
   "source": [
    "L=[2,6,4,9,3,7,9,0]"
   ]
  },
  {
   "cell_type": "code",
   "execution_count": 48,
   "id": "f66cfcc9",
   "metadata": {},
   "outputs": [],
   "source": [
    "L.append('s')"
   ]
  },
  {
   "cell_type": "code",
   "execution_count": 49,
   "id": "c0ecf522",
   "metadata": {},
   "outputs": [
    {
     "name": "stdout",
     "output_type": "stream",
     "text": [
      "[2, 6, 4, 9, 3, 7, 9, 0, 's']\n"
     ]
    }
   ],
   "source": [
    "print(L)"
   ]
  },
  {
   "cell_type": "code",
   "execution_count": 52,
   "id": "eac290da",
   "metadata": {},
   "outputs": [],
   "source": [
    "L.append(9)"
   ]
  },
  {
   "cell_type": "code",
   "execution_count": 53,
   "id": "ca844b2a",
   "metadata": {},
   "outputs": [
    {
     "name": "stdout",
     "output_type": "stream",
     "text": [
      "[2, 6, 4, 9, 3, 7, 9, 0, 's', 9]\n"
     ]
    }
   ],
   "source": [
    "print(L)"
   ]
  },
  {
   "cell_type": "code",
   "execution_count": 54,
   "id": "074a8c1b",
   "metadata": {},
   "outputs": [],
   "source": [
    "L.insert(1,'p')"
   ]
  },
  {
   "cell_type": "code",
   "execution_count": 55,
   "id": "77b0174d",
   "metadata": {},
   "outputs": [
    {
     "name": "stdout",
     "output_type": "stream",
     "text": [
      "[2, 'p', 6, 4, 9, 3, 7, 9, 0, 's', 9]\n"
     ]
    }
   ],
   "source": [
    "print(L)"
   ]
  },
  {
   "cell_type": "code",
   "execution_count": 56,
   "id": "a4a4f523",
   "metadata": {},
   "outputs": [],
   "source": [
    "L.insert(5,6)"
   ]
  },
  {
   "cell_type": "code",
   "execution_count": 57,
   "id": "47fc5020",
   "metadata": {},
   "outputs": [
    {
     "name": "stdout",
     "output_type": "stream",
     "text": [
      "[2, 'p', 6, 4, 9, 6, 3, 7, 9, 0, 's', 9]\n"
     ]
    }
   ],
   "source": [
    "print(L)"
   ]
  },
  {
   "cell_type": "code",
   "execution_count": 2,
   "id": "7b1d8459",
   "metadata": {},
   "outputs": [],
   "source": [
    "L2=[20,45,23]"
   ]
  },
  {
   "cell_type": "code",
   "execution_count": 5,
   "id": "7681adb6",
   "metadata": {},
   "outputs": [
    {
     "data": {
      "text/plain": [
       "[2, 6, 4, 9, 3, 7, 9, 0, 20, 45, 23, 20, 45, 23, 20, 45, 23]"
      ]
     },
     "execution_count": 5,
     "metadata": {},
     "output_type": "execute_result"
    }
   ],
   "source": [
    "a = L.extend(L2)\n",
    "L"
   ]
  },
  {
   "cell_type": "code",
   "execution_count": 60,
   "id": "7195adbe",
   "metadata": {},
   "outputs": [
    {
     "name": "stdout",
     "output_type": "stream",
     "text": [
      "[2, 'p', 6, 4, 9, 6, 3, 7, 9, 0, 's', 9, 20, 45, 23]\n"
     ]
    }
   ],
   "source": [
    "print(L)"
   ]
  },
  {
   "cell_type": "code",
   "execution_count": 61,
   "id": "6188f650",
   "metadata": {},
   "outputs": [],
   "source": [
    "L2.extend(L)"
   ]
  },
  {
   "cell_type": "code",
   "execution_count": 62,
   "id": "61cb955f",
   "metadata": {},
   "outputs": [
    {
     "name": "stdout",
     "output_type": "stream",
     "text": [
      "[20, 45, 23, 2, 'p', 6, 4, 9, 6, 3, 7, 9, 0, 's', 9, 20, 45, 23]\n"
     ]
    }
   ],
   "source": [
    "print(L2)"
   ]
  },
  {
   "cell_type": "code",
   "execution_count": 63,
   "id": "a3d0fe4f",
   "metadata": {},
   "outputs": [],
   "source": [
    "L.remove(9)"
   ]
  },
  {
   "cell_type": "code",
   "execution_count": 64,
   "id": "e22341f9",
   "metadata": {},
   "outputs": [
    {
     "name": "stdout",
     "output_type": "stream",
     "text": [
      "[2, 'p', 6, 4, 6, 3, 7, 9, 0, 's', 9, 20, 45, 23]\n"
     ]
    }
   ],
   "source": [
    "print(L)"
   ]
  },
  {
   "cell_type": "code",
   "execution_count": 65,
   "id": "a1d93e8a",
   "metadata": {},
   "outputs": [],
   "source": [
    "L2.remove('s')"
   ]
  },
  {
   "cell_type": "code",
   "execution_count": 66,
   "id": "20fa7686",
   "metadata": {},
   "outputs": [
    {
     "name": "stdout",
     "output_type": "stream",
     "text": [
      "[20, 45, 23, 2, 'p', 6, 4, 9, 6, 3, 7, 9, 0, 9, 20, 45, 23]\n"
     ]
    }
   ],
   "source": [
    "print(L2)"
   ]
  },
  {
   "cell_type": "code",
   "execution_count": 67,
   "id": "38ccce90",
   "metadata": {},
   "outputs": [],
   "source": [
    "del L[4]"
   ]
  },
  {
   "cell_type": "code",
   "execution_count": 68,
   "id": "f6d06627",
   "metadata": {},
   "outputs": [
    {
     "name": "stdout",
     "output_type": "stream",
     "text": [
      "[2, 'p', 6, 4, 3, 7, 9, 0, 's', 9, 20, 45, 23]\n"
     ]
    }
   ],
   "source": [
    "print(L)"
   ]
  },
  {
   "cell_type": "code",
   "execution_count": 70,
   "id": "d4696078",
   "metadata": {},
   "outputs": [],
   "source": [
    "L[3]=14"
   ]
  },
  {
   "cell_type": "code",
   "execution_count": 71,
   "id": "5dd41c21",
   "metadata": {},
   "outputs": [
    {
     "name": "stdout",
     "output_type": "stream",
     "text": [
      "[2, 'p', 6, 14, 3, 7, 9, 0, 's', 9, 20, 45, 23]\n"
     ]
    }
   ],
   "source": [
    "print(L)"
   ]
  },
  {
   "cell_type": "code",
   "execution_count": 74,
   "id": "70e140ce",
   "metadata": {},
   "outputs": [],
   "source": [
    "L[1]=0"
   ]
  },
  {
   "cell_type": "code",
   "execution_count": 75,
   "id": "2c27bee6",
   "metadata": {},
   "outputs": [
    {
     "name": "stdout",
     "output_type": "stream",
     "text": [
      "[2, 0, 6, 14, 3, 7, 9, 0, 's', 9, 20, 45, 23]\n"
     ]
    }
   ],
   "source": [
    "print(L)"
   ]
  },
  {
   "cell_type": "code",
   "execution_count": null,
   "id": "7995dee4",
   "metadata": {},
   "outputs": [],
   "source": []
  }
 ],
 "metadata": {
  "kernelspec": {
   "display_name": "Python 3 (ipykernel)",
   "language": "python",
   "name": "python3"
  },
  "language_info": {
   "codemirror_mode": {
    "name": "ipython",
    "version": 3
   },
   "file_extension": ".py",
   "mimetype": "text/x-python",
   "name": "python",
   "nbconvert_exporter": "python",
   "pygments_lexer": "ipython3",
   "version": "3.9.7"
  }
 },
 "nbformat": 4,
 "nbformat_minor": 5
}
