{
 "cells": [
  {
   "cell_type": "code",
   "execution_count": 2,
   "id": "6d6065ec",
   "metadata": {},
   "outputs": [
    {
     "name": "stdout",
     "output_type": "stream",
     "text": [
      "1\n",
      "2\n",
      "3\n",
      "4\n",
      "5\n",
      "6\n",
      "7\n",
      "8\n",
      "9\n"
     ]
    }
   ],
   "source": [
    "n = 1\n",
    "while (n < 10):\n",
    "    print(n)\n",
    "    n = n + 1"
   ]
  },
  {
   "cell_type": "code",
   "execution_count": 3,
   "id": "fb528d83",
   "metadata": {},
   "outputs": [],
   "source": [
    "n = 10\n",
    "while (n < 10):\n",
    "    print(n)\n",
    "    n = n + 1"
   ]
  },
  {
   "cell_type": "code",
   "execution_count": 13,
   "id": "a7f49adf",
   "metadata": {},
   "outputs": [
    {
     "name": "stdout",
     "output_type": "stream",
     "text": [
      "10\n",
      "9\n",
      "8\n",
      "7\n",
      "6\n",
      "5\n",
      "4\n",
      "3\n",
      "2\n",
      "1\n"
     ]
    }
   ],
   "source": [
    "i = 10\n",
    "while i > 0:\n",
    "    print(i)\n",
    "    i = i - 1"
   ]
  },
  {
   "cell_type": "code",
   "execution_count": 14,
   "id": "b5c8403c",
   "metadata": {},
   "outputs": [
    {
     "name": "stdout",
     "output_type": "stream",
     "text": [
      "greater than x\n",
      "11\n",
      "greater than x\n",
      "12\n",
      "greater than x\n",
      "13\n",
      "greater than x\n",
      "14\n",
      "greater than x\n",
      "15\n",
      "greater than x\n",
      "16\n",
      "greater than x\n",
      "17\n",
      "greater than x\n",
      "18\n",
      "greater than x\n",
      "19\n",
      "greater than x\n",
      "20\n"
     ]
    }
   ],
   "source": [
    "x = 20\n",
    "y = 10\n",
    "while (x > y):\n",
    "    print(\"greater than x\")\n",
    "    y = y + 1\n",
    "    print(y)"
   ]
  },
  {
   "cell_type": "code",
   "execution_count": 18,
   "id": "907a66d0",
   "metadata": {},
   "outputs": [
    {
     "name": "stdout",
     "output_type": "stream",
     "text": [
      "enter a value: 4\n"
     ]
    }
   ],
   "source": [
    "n = int(input(\"enter a value: \"))\n",
    "if(n % 2 == 0):\n",
    "    pass\n",
    "else:\n",
    "    print(\"number is odd\")"
   ]
  },
  {
   "cell_type": "code",
   "execution_count": 21,
   "id": "89c7b514",
   "metadata": {},
   "outputs": [
    {
     "name": "stdout",
     "output_type": "stream",
     "text": [
      "greater than x \n"
     ]
    }
   ],
   "source": [
    "x = 20\n",
    "y = 10\n",
    "while(x > y):\n",
    "    print(\"greater than x \")\n",
    "    break"
   ]
  },
  {
   "cell_type": "code",
   "execution_count": 27,
   "id": "69f1ccb4",
   "metadata": {},
   "outputs": [
    {
     "name": "stdout",
     "output_type": "stream",
     "text": [
      "1\n",
      "2\n",
      "3\n",
      "4\n",
      "6\n",
      "7\n",
      "8\n",
      "9\n",
      "10\n"
     ]
    }
   ],
   "source": [
    "x = 0\n",
    "while x < 10:\n",
    "    x = x + 1\n",
    "    if x==5:\n",
    "        continue\n",
    "    print(x)\n",
    "    "
   ]
  },
  {
   "cell_type": "code",
   "execution_count": 31,
   "id": "2279462e",
   "metadata": {},
   "outputs": [
    {
     "name": "stdout",
     "output_type": "stream",
     "text": [
      "please enter a num:56\n",
      "even number\n"
     ]
    }
   ],
   "source": [
    "# nested if else\n",
    "n = input(\"please enter a num:\")\n",
    "n = int(n)\n",
    "if(n % 2 == 0):\n",
    "    if(n > 1) & (n < 10):\n",
    "        print(\"units even\")\n",
    "    elif(n>=10)&(n<21):\n",
    "        print(\"tens even\")\n",
    "    else:\n",
    "        print(\"even number\")\n",
    "else:\n",
    "    print(\"odd number\")"
   ]
  },
  {
   "cell_type": "code",
   "execution_count": 37,
   "id": "9d3b4f78",
   "metadata": {},
   "outputs": [
    {
     "name": "stdout",
     "output_type": "stream",
     "text": [
      "{22: 'greater than 20', 7: 'odd number', 5: 'odd number', 6: 'units even', 8: 'units even', 15: 'odd number', 16: 'tens even', 18: 'tens even'}\n"
     ]
    }
   ],
   "source": [
    "l = [22,7,5,6,8,15,16,18]\n",
    "d = {}\n",
    "for n in l:\n",
    "    if(n % 2 == 0):\n",
    "        if(n > 1) & (n < 10):\n",
    "            d[n] = \"units even\"\n",
    "        elif(n>=10)&(n<21):\n",
    "            d[n] = \"tens even\"     \n",
    "        else:\n",
    "            d[n] = \"greater than 20\"\n",
    "    \n",
    "    else:\n",
    "        d[n] = \"odd number\"\n",
    "print(d)"
   ]
  },
  {
   "cell_type": "code",
   "execution_count": 51,
   "id": "7a5473d3",
   "metadata": {},
   "outputs": [
    {
     "name": "stdout",
     "output_type": "stream",
     "text": [
      "[(37, 'third class'), (65, 'second class'), (72, 'second class'), (89, 'first class'), (93, 'first class'), (98, 'first class'), (23, 'fail'), (16, 'fail'), (80, 'first class'), (82, 'first class')]\n"
     ]
    }
   ],
   "source": [
    "marks = [37,65,72,89,93,98,23,16,80,82]\n",
    "l = []\n",
    "for n in marks:\n",
    "    if(n > 35):\n",
    "        if(n > 35)&(n<50):\n",
    "            t = (n,\"third class\")\n",
    "            l.append(t)\n",
    "        elif(n > 51)&(n<75):\n",
    "            t = (n,\"second class\")\n",
    "            l.append(t)    \n",
    "        else:\n",
    "            t = (n,\"first class\")\n",
    "            l.append(t) \n",
    "    else:\n",
    "        t = (n,\"fail\")\n",
    "        l.append(t)   \n",
    "print(l)"
   ]
  },
  {
   "cell_type": "code",
   "execution_count": null,
   "id": "459c387c",
   "metadata": {},
   "outputs": [],
   "source": []
  }
 ],
 "metadata": {
  "kernelspec": {
   "display_name": "Python 3 (ipykernel)",
   "language": "python",
   "name": "python3"
  },
  "language_info": {
   "codemirror_mode": {
    "name": "ipython",
    "version": 3
   },
   "file_extension": ".py",
   "mimetype": "text/x-python",
   "name": "python",
   "nbconvert_exporter": "python",
   "pygments_lexer": "ipython3",
   "version": "3.9.7"
  }
 },
 "nbformat": 4,
 "nbformat_minor": 5
}
