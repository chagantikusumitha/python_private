{
 "cells": [
  {
   "cell_type": "code",
   "execution_count": 4,
   "id": "2d076dce",
   "metadata": {},
   "outputs": [],
   "source": [
    "a = \"sequence of characters' used ' to find a regular expression\""
   ]
  },
  {
   "cell_type": "code",
   "execution_count": 5,
   "id": "733d3354",
   "metadata": {},
   "outputs": [
    {
     "data": {
      "text/plain": [
       "\"sequence of characters' used ' to find a regular expression\""
      ]
     },
     "execution_count": 5,
     "metadata": {},
     "output_type": "execute_result"
    }
   ],
   "source": [
    "a"
   ]
  },
  {
   "cell_type": "code",
   "execution_count": 6,
   "id": "d8713ee7",
   "metadata": {},
   "outputs": [],
   "source": [
    "a = \"sequence of characters\\\" used \\\" to find a regular expression\""
   ]
  },
  {
   "cell_type": "code",
   "execution_count": 7,
   "id": "c18fd1fc",
   "metadata": {},
   "outputs": [
    {
     "data": {
      "text/plain": [
       "'sequence of characters\" used \" to find a regular expression'"
      ]
     },
     "execution_count": 7,
     "metadata": {},
     "output_type": "execute_result"
    }
   ],
   "source": [
    "a"
   ]
  },
  {
   "cell_type": "code",
   "execution_count": 1,
   "id": "de01d545",
   "metadata": {},
   "outputs": [],
   "source": [
    "import re"
   ]
  },
  {
   "cell_type": "code",
   "execution_count": 4,
   "id": "11d7728b",
   "metadata": {},
   "outputs": [
    {
     "data": {
      "text/plain": [
       "['0', '2', '9', '1']"
      ]
     },
     "execution_count": 4,
     "metadata": {},
     "output_type": "execute_result"
    }
   ],
   "source": [
    "target_string = '0@kM29-1'\n",
    "regex_pattern = r'\\d'\n",
    "digits_list = re.findall(regex_pattern,target_string)\n",
    "digits_list"
   ]
  },
  {
   "cell_type": "code",
   "execution_count": 6,
   "id": "76bdae83",
   "metadata": {},
   "outputs": [
    {
     "data": {
      "text/plain": [
       "['k', 'M']"
      ]
     },
     "execution_count": 6,
     "metadata": {},
     "output_type": "execute_result"
    }
   ],
   "source": [
    "target_string = '0@kM29-1'\n",
    "regex_pattern = r'[a-zA-Z]'\n",
    "digits_list = re.findall(regex_pattern,target_string)\n",
    "digits_list"
   ]
  },
  {
   "cell_type": "code",
   "execution_count": 10,
   "id": "89a0af83",
   "metadata": {},
   "outputs": [
    {
     "data": {
      "text/plain": [
       "['6304843235', '9985765477']"
      ]
     },
     "execution_count": 10,
     "metadata": {},
     "output_type": "execute_result"
    }
   ],
   "source": [
    "target_string = 'this is a random phn number 6304843235 and 9985765477 , 1234567891 , 212121'\n",
    "regex_pattern = r'[6-9]+\\d{9}'\n",
    "digits_list = re.findall(regex_pattern,target_string)\n",
    "digits_list"
   ]
  },
  {
   "cell_type": "code",
   "execution_count": 12,
   "id": "008d0cd6",
   "metadata": {},
   "outputs": [
    {
     "data": {
      "text/plain": [
       "['+91 6304843235', '9985765477']"
      ]
     },
     "execution_count": 12,
     "metadata": {},
     "output_type": "execute_result"
    }
   ],
   "source": [
    "target_string = 'this is a random phn number +91 6304843235 and 9985765477 , 1234567891 , 212121'\n",
    "regex_pattern = r'(?:\\+?91[- ]?)?[6-9]+\\d{9}'\n",
    "digits_list = re.findall(regex_pattern,target_string)\n",
    "digits_list"
   ]
  },
  {
   "cell_type": "code",
   "execution_count": 17,
   "id": "176c202c",
   "metadata": {},
   "outputs": [],
   "source": [
    "data = '''this is smple text for identifying emaild id abhishek123@gmail.com felo@yahoo.com \n",
    "anjali@outlook.in surya.test@google@com to tes the email pattern data.test@innomatics.in\n",
    "test another web_text@edu.us'''"
   ]
  },
  {
   "cell_type": "code",
   "execution_count": 21,
   "id": "5d1fab2f",
   "metadata": {},
   "outputs": [
    {
     "data": {
      "text/plain": [
       "['abhishek123@gmail.com',\n",
       " 'felo@yahoo.com',\n",
       " 'anjali@outlook.in',\n",
       " 'data.test@innomatics.in',\n",
       " 'web_text@edu.us']"
      ]
     },
     "execution_count": 21,
     "metadata": {},
     "output_type": "execute_result"
    }
   ],
   "source": [
    "regex_pattern = r'[A-Za-z0-9_.]+@[a-zA-Z]+\\.[a-zA-Z]+'\n",
    "re.findall(regex_pattern,data)"
   ]
  },
  {
   "cell_type": "code",
   "execution_count": 22,
   "id": "5b386950",
   "metadata": {},
   "outputs": [
    {
     "data": {
      "text/plain": [
       "['surya.test@google@com']"
      ]
     },
     "execution_count": 22,
     "metadata": {},
     "output_type": "execute_result"
    }
   ],
   "source": [
    "regex_pattern = r'[A-Za-z0-9_.]+@[a-zA-Z]+\\@[a-zA-Z]+'\n",
    "re.findall(regex_pattern,data)"
   ]
  },
  {
   "cell_type": "code",
   "execution_count": 30,
   "id": "68ed46e7",
   "metadata": {},
   "outputs": [],
   "source": [
    "data = \"data abhishek@gmail.com test\""
   ]
  },
  {
   "cell_type": "code",
   "execution_count": 31,
   "id": "c97d86cd",
   "metadata": {},
   "outputs": [],
   "source": [
    "re_email = r'[A-Za-z_.]+@[a-zA-Z]+\\.[a-zA-Z]+'"
   ]
  },
  {
   "cell_type": "code",
   "execution_count": 28,
   "id": "4835537d",
   "metadata": {},
   "outputs": [
    {
     "data": {
      "text/plain": [
       "['abhishek@gmail.com']"
      ]
     },
     "execution_count": 28,
     "metadata": {},
     "output_type": "execute_result"
    }
   ],
   "source": [
    "re.findall(re_email,data)"
   ]
  },
  {
   "cell_type": "code",
   "execution_count": 46,
   "id": "b6537a37",
   "metadata": {},
   "outputs": [],
   "source": [
    "data = '''abhishek@gmail.com this is smple text for identifying emaild id abhishek123@gmail.com felo@yahoo.com \n",
    "anjali@outlook.in surya.test@google@com to tes the email pattern data.test@innomatics.in\n",
    "test another web_text@edu.us'''"
   ]
  },
  {
   "cell_type": "code",
   "execution_count": 47,
   "id": "ad2a7cba",
   "metadata": {},
   "outputs": [],
   "source": [
    "re_email = r'[A-Za-z_.]+@[a-zA-Z]+\\.[a-zA-Z]+'"
   ]
  },
  {
   "cell_type": "code",
   "execution_count": 48,
   "id": "42d03348",
   "metadata": {},
   "outputs": [
    {
     "name": "stdout",
     "output_type": "stream",
     "text": [
      "<re.Match object; span=(0, 18), match='abhishek@gmail.com'>\n"
     ]
    }
   ],
   "source": [
    "print(re.match(re_email,data))"
   ]
  },
  {
   "cell_type": "code",
   "execution_count": 33,
   "id": "4c06b83b",
   "metadata": {},
   "outputs": [],
   "source": [
    "data = \"this is sample regex\""
   ]
  },
  {
   "cell_type": "code",
   "execution_count": 37,
   "id": "5a76001a",
   "metadata": {},
   "outputs": [
    {
     "name": "stdout",
     "output_type": "stream",
     "text": [
      "None\n"
     ]
    }
   ],
   "source": [
    "#re.match checks with only 1st value\n",
    "print(re.match(\"regex\",data))"
   ]
  },
  {
   "cell_type": "code",
   "execution_count": 38,
   "id": "36203582",
   "metadata": {},
   "outputs": [],
   "source": [
    "data = \"regex is sample regex\""
   ]
  },
  {
   "cell_type": "code",
   "execution_count": 39,
   "id": "0fcdf955",
   "metadata": {},
   "outputs": [
    {
     "name": "stdout",
     "output_type": "stream",
     "text": [
      "<re.Match object; span=(0, 5), match='regex'>\n"
     ]
    }
   ],
   "source": [
    "print(re.match(\"regex\",data))"
   ]
  },
  {
   "cell_type": "code",
   "execution_count": 51,
   "id": "5d570b42",
   "metadata": {},
   "outputs": [],
   "source": [
    "data = \"this is sample regex and regex\""
   ]
  },
  {
   "cell_type": "code",
   "execution_count": 53,
   "id": "0f0dda08",
   "metadata": {},
   "outputs": [
    {
     "name": "stdout",
     "output_type": "stream",
     "text": [
      "<re.Match object; span=(15, 20), match='regex'>\n"
     ]
    }
   ],
   "source": [
    "#matches only 1st value in data not 2nd matching value\n",
    "print(re.search(\"regex\",data))"
   ]
  },
  {
   "cell_type": "code",
   "execution_count": 83,
   "id": "994bbe69",
   "metadata": {},
   "outputs": [],
   "source": [
    "target_string = \"wow...!, !this %is wonderful, @I $loved it....\""
   ]
  },
  {
   "cell_type": "code",
   "execution_count": 70,
   "id": "d6404d43",
   "metadata": {},
   "outputs": [],
   "source": [
    "re_sp = r'\\W'"
   ]
  },
  {
   "cell_type": "code",
   "execution_count": 71,
   "id": "6be14353",
   "metadata": {},
   "outputs": [
    {
     "name": "stdout",
     "output_type": "stream",
     "text": [
      "['.', '.', '.', '!', ',', ' ', '!', ' ', '%', ' ', ',', ' ', '@', ' ', '$', ' ', '.', '.', '.', '.']\n"
     ]
    }
   ],
   "source": [
    "print(re.findall(re_sp,target_string))"
   ]
  },
  {
   "cell_type": "code",
   "execution_count": 84,
   "id": "d97959e4",
   "metadata": {},
   "outputs": [],
   "source": [
    "re_sp = \"[^a-zA-Z0-9\\s]\""
   ]
  },
  {
   "cell_type": "markdown",
   "id": "fd997b27",
   "metadata": {},
   "source": [
    "pattern,\n",
    "replace value,\n",
    "string ,\n",
    "for re.sub"
   ]
  },
  {
   "cell_type": "code",
   "execution_count": 85,
   "id": "1f897ceb",
   "metadata": {},
   "outputs": [],
   "source": [
    "target_string = re.sub(re_sp,\"\",target_string)"
   ]
  },
  {
   "cell_type": "code",
   "execution_count": 86,
   "id": "66fbd746",
   "metadata": {},
   "outputs": [
    {
     "data": {
      "text/plain": [
       "'wow this is wonderful I loved it'"
      ]
     },
     "execution_count": 86,
     "metadata": {},
     "output_type": "execute_result"
    }
   ],
   "source": [
    "target_string"
   ]
  },
  {
   "cell_type": "code",
   "execution_count": 8,
   "id": "5ad8fd56",
   "metadata": {},
   "outputs": [],
   "source": [
    "text = \" Python Software Foundation is to promote12, protect, and advance the Python programming language, and to support and facilitate the growth of the international community of Python programmers. —from the Mission Statement page What does it mean to be a member of the PSF? What does the PSF do? What membership classes are there? Who is allowed to vote? How does a person become a PSF Fellow? How can I ask other questions? What does it mean to be a member of the PSF? Being\""
   ]
  },
  {
   "cell_type": "code",
   "execution_count": 9,
   "id": "9db312ba",
   "metadata": {},
   "outputs": [
    {
     "data": {
      "text/plain": [
       "['Python', 'Python', 'Python']"
      ]
     },
     "execution_count": 9,
     "metadata": {},
     "output_type": "execute_result"
    }
   ],
   "source": [
    "re.findall(r\"Python\",text)"
   ]
  },
  {
   "cell_type": "code",
   "execution_count": 10,
   "id": "55da73b1",
   "metadata": {},
   "outputs": [
    {
     "data": {
      "text/plain": [
       "['Python',\n",
       " 'promote12',\n",
       " 'protect',\n",
       " 'Python',\n",
       " 'programming',\n",
       " 'Python',\n",
       " 'programmers',\n",
       " 'page',\n",
       " 'PSF',\n",
       " 'PSF',\n",
       " 'person',\n",
       " 'PSF',\n",
       " 'PSF']"
      ]
     },
     "execution_count": 10,
     "metadata": {},
     "output_type": "execute_result"
    }
   ],
   "source": [
    "re.findall(r\"\\b[Pp]\\w+\",text)"
   ]
  },
  {
   "cell_type": "code",
   "execution_count": 105,
   "id": "1d0e8ba9",
   "metadata": {},
   "outputs": [],
   "source": [
    "email = \"may mail id is abc@gmail.com and xyz@yahoo.in\""
   ]
  },
  {
   "cell_type": "code",
   "execution_count": 106,
   "id": "f592140c",
   "metadata": {},
   "outputs": [
    {
     "data": {
      "text/plain": [
       "['abc@gmail.com', 'xyz@yahoo.in']"
      ]
     },
     "execution_count": 106,
     "metadata": {},
     "output_type": "execute_result"
    }
   ],
   "source": [
    "re.findall(r\"\\w+@\\w+.\\w+\",email)"
   ]
  },
  {
   "cell_type": "code",
   "execution_count": 108,
   "id": "62e9701b",
   "metadata": {},
   "outputs": [
    {
     "data": {
      "text/plain": [
       "['gmail', 'yahoo']"
      ]
     },
     "execution_count": 108,
     "metadata": {},
     "output_type": "execute_result"
    }
   ],
   "source": [
    "re.findall(r\"@(\\w+)\",email)"
   ]
  },
  {
   "cell_type": "code",
   "execution_count": 3,
   "id": "4f1f47c5",
   "metadata": {},
   "outputs": [],
   "source": [
    "mobile = \"my number is 6304843235, 1235469825 , 998-576-5477 , +91 6304843235\""
   ]
  },
  {
   "cell_type": "code",
   "execution_count": 4,
   "id": "124f54b2",
   "metadata": {},
   "outputs": [
    {
     "data": {
      "text/plain": [
       "['998-576-5477']"
      ]
     },
     "execution_count": 4,
     "metadata": {},
     "output_type": "execute_result"
    }
   ],
   "source": [
    "re.findall(r\"[6-9]\\d+\\-\\d+\\-\\d+\",mobile)"
   ]
  },
  {
   "cell_type": "code",
   "execution_count": 122,
   "id": "5a712586",
   "metadata": {},
   "outputs": [],
   "source": [
    "a = \"4 by1 5 years old and 0 - 1 year oldasdfg\""
   ]
  },
  {
   "cell_type": "code",
   "execution_count": 123,
   "id": "3ee5fded",
   "metadata": {},
   "outputs": [
    {
     "name": "stdout",
     "output_type": "stream",
     "text": [
      "['5 years old', '1 year old']\n"
     ]
    }
   ],
   "source": [
    "if \"by\" in a:\n",
    "    print(re.findall(r\"\\s(\\d+\\s\\w+\\sold)\",a))"
   ]
  },
  {
   "cell_type": "code",
   "execution_count": 119,
   "id": "2c7825d1",
   "metadata": {},
   "outputs": [
    {
     "data": {
      "text/plain": [
       "['5 years old', '1 year old']"
      ]
     },
     "execution_count": 119,
     "metadata": {},
     "output_type": "execute_result"
    }
   ],
   "source": [
    "re.findall(r\"\\s(\\d+\\s\\w+\\sold)\",a)"
   ]
  },
  {
   "cell_type": "code",
   "execution_count": 96,
   "id": "c47db4e4",
   "metadata": {},
   "outputs": [],
   "source": [
    "s = re.match(r\"(\\w+\\s\\d{4})\",a)"
   ]
  },
  {
   "cell_type": "code",
   "execution_count": 104,
   "id": "5ee7effc",
   "metadata": {},
   "outputs": [
    {
     "ename": "AttributeError",
     "evalue": "'re.Match' object has no attribute 'text'",
     "output_type": "error",
     "traceback": [
      "\u001b[1;31m---------------------------------------------------------------------------\u001b[0m",
      "\u001b[1;31mAttributeError\u001b[0m                            Traceback (most recent call last)",
      "\u001b[1;32mC:\\Users\\KUSUMI~1\\AppData\\Local\\Temp/ipykernel_12240/3806252375.py\u001b[0m in \u001b[0;36m<module>\u001b[1;34m\u001b[0m\n\u001b[1;32m----> 1\u001b[1;33m \u001b[0ms\u001b[0m\u001b[1;33m.\u001b[0m\u001b[0mtext\u001b[0m\u001b[1;33m\u001b[0m\u001b[1;33m\u001b[0m\u001b[0m\n\u001b[0m",
      "\u001b[1;31mAttributeError\u001b[0m: 're.Match' object has no attribute 'text'"
     ]
    }
   ],
   "source": [
    "s.text"
   ]
  },
  {
   "cell_type": "code",
   "execution_count": 22,
   "id": "29599b31",
   "metadata": {},
   "outputs": [],
   "source": [
    "k = \"2.1 Cr and 3.1 L , 3.12 L ,4.1 Cr\""
   ]
  },
  {
   "cell_type": "code",
   "execution_count": 25,
   "id": "ad781aef",
   "metadata": {},
   "outputs": [
    {
     "data": {
      "text/plain": [
       "['2.1 Cr', '3.1 L', '3.12 L', '4.1 Cr']"
      ]
     },
     "execution_count": 25,
     "metadata": {},
     "output_type": "execute_result"
    }
   ],
   "source": [
    "re.findall(r\"\\d+.\\d+\\s[Cr]+|\\d+.\\d+\\s[L]\",k)"
   ]
  },
  {
   "cell_type": "code",
   "execution_count": 26,
   "id": "65479f9c",
   "metadata": {},
   "outputs": [],
   "source": [
    "a = re.findall(r\"\\d+.\\d+\\s[Cr]+|\\d+.\\d+\\s[L]\",k)"
   ]
  },
  {
   "cell_type": "code",
   "execution_count": 27,
   "id": "d73f6763",
   "metadata": {},
   "outputs": [
    {
     "name": "stdout",
     "output_type": "stream",
     "text": [
      "2.1 Cr\n",
      "3.1 L\n",
      "3.12 L\n",
      "4.1 Cr\n"
     ]
    }
   ],
   "source": [
    "for i in a:\n",
    "    print(i)"
   ]
  },
  {
   "cell_type": "code",
   "execution_count": null,
   "id": "a4e4ff1b",
   "metadata": {},
   "outputs": [],
   "source": []
  },
  {
   "cell_type": "code",
   "execution_count": null,
   "id": "e5ca3b5c",
   "metadata": {},
   "outputs": [],
   "source": []
  },
  {
   "cell_type": "code",
   "execution_count": null,
   "id": "8c382c1d",
   "metadata": {},
   "outputs": [],
   "source": []
  },
  {
   "cell_type": "code",
   "execution_count": 41,
   "id": "8381267b",
   "metadata": {},
   "outputs": [
    {
     "name": "stdout",
     "output_type": "stream",
     "text": [
      "21000000\n",
      "310000\n",
      "312000\n",
      "41000000\n"
     ]
    }
   ],
   "source": [
    "for i in a:\n",
    "    if i.split()[-1] == \"Cr\":\n",
    "        c = i.split()[0]\n",
    "        d = float(c)\n",
    "        b = (\"%.7f\"% d)\n",
    "        e = str(b)\n",
    "        f = e.replace(\".\",\"\")\n",
    "        print(f)\n",
    "        elif i.split()[-1] == \"L\":\n",
    "        c = i.split()[0]\n",
    "        d = float(c)\n",
    "        b = (\"%.5f\"% d)\n",
    "        e = str(b)\n",
    "        f = e.replace(\".\",\"\")\n",
    "        print(f)"
   ]
  },
  {
   "cell_type": "code",
   "execution_count": 50,
   "id": "0b63240c",
   "metadata": {},
   "outputs": [
    {
     "data": {
      "text/plain": [
       "'1 Cr'"
      ]
     },
     "execution_count": 50,
     "metadata": {},
     "output_type": "execute_result"
    }
   ],
   "source": [
    "b"
   ]
  },
  {
   "cell_type": "code",
   "execution_count": 2,
   "id": "4ec40135",
   "metadata": {},
   "outputs": [],
   "source": [
    "a = \"2.1 Cr\""
   ]
  },
  {
   "cell_type": "code",
   "execution_count": 8,
   "id": "fee92b6f",
   "metadata": {},
   "outputs": [],
   "source": [
    "a = 13.946\n",
    "b = (\"%.7f\" % a)"
   ]
  },
  {
   "cell_type": "code",
   "execution_count": 19,
   "id": "92411f00",
   "metadata": {},
   "outputs": [
    {
     "data": {
      "text/plain": [
       "'13.9460000'"
      ]
     },
     "execution_count": 19,
     "metadata": {},
     "output_type": "execute_result"
    }
   ],
   "source": [
    "b"
   ]
  },
  {
   "cell_type": "code",
   "execution_count": 13,
   "id": "fbffac65",
   "metadata": {},
   "outputs": [],
   "source": [
    "c = str(b)"
   ]
  },
  {
   "cell_type": "code",
   "execution_count": 20,
   "id": "7a5b10e9",
   "metadata": {},
   "outputs": [],
   "source": [
    "d = b.replace(\".\",\"\")"
   ]
  },
  {
   "cell_type": "code",
   "execution_count": 21,
   "id": "8f2ac190",
   "metadata": {},
   "outputs": [
    {
     "data": {
      "text/plain": [
       "'139460000'"
      ]
     },
     "execution_count": 21,
     "metadata": {},
     "output_type": "execute_result"
    }
   ],
   "source": [
    "d"
   ]
  },
  {
   "cell_type": "code",
   "execution_count": 36,
   "id": "e972ac3a",
   "metadata": {},
   "outputs": [],
   "source": [
    "text =\"nov 2024, dec 20202\""
   ]
  },
  {
   "cell_type": "code",
   "execution_count": 51,
   "id": "32a9fb29",
   "metadata": {},
   "outputs": [
    {
     "data": {
      "text/plain": [
       "[('nov', '2024'), ('dec', '2020')]"
      ]
     },
     "execution_count": 51,
     "metadata": {},
     "output_type": "execute_result"
    }
   ],
   "source": [
    "regex = re.compile('(?P<month>[a-zA-Z]+)\\s+(?P<year>\\d{4})')\n",
    "mat = re.findall(regex, text)\n",
    "mat"
   ]
  },
  {
   "cell_type": "code",
   "execution_count": 53,
   "id": "c88bc62a",
   "metadata": {},
   "outputs": [],
   "source": [
    "text = \"Wipro Limited | Hyderabad, IN                Dec 2017 – Present Project Analyst Infosys | Delhi, IN                Apr 2017 – Nov 2017 Software Developer HCL Technologies | Hyderabad, IN                Jun 2016 – Mar 2017 Software Engineer  \""
   ]
  },
  {
   "cell_type": "code",
   "execution_count": 54,
   "id": "a0d16625",
   "metadata": {},
   "outputs": [
    {
     "data": {
      "text/plain": [
       "[('Apr', '2017', 'Nov', '2017'), ('Jun', '2016', 'Mar', '2017')]"
      ]
     },
     "execution_count": 54,
     "metadata": {},
     "output_type": "execute_result"
    }
   ],
   "source": [
    "regex = re.compile('(?P<month>[a-zA-Z]+)\\s+(?P<year>\\d{4})\\s+\\–\\s+(?P<month1>[a-zA-Z]+)\\s+(?P<year1>\\d{4})')\n",
    "mat = re.findall(regex, text)\n",
    "mat"
   ]
  },
  {
   "cell_type": "code",
   "execution_count": 131,
   "id": "0caf8cd7",
   "metadata": {},
   "outputs": [],
   "source": [
    "a = '31.9'"
   ]
  },
  {
   "cell_type": "code",
   "execution_count": 132,
   "id": "7d12168f",
   "metadata": {},
   "outputs": [],
   "source": [
    "b = float(a)"
   ]
  },
  {
   "cell_type": "code",
   "execution_count": 133,
   "id": "fd5983d6",
   "metadata": {},
   "outputs": [
    {
     "data": {
      "text/plain": [
       "31"
      ]
     },
     "execution_count": 133,
     "metadata": {},
     "output_type": "execute_result"
    }
   ],
   "source": [
    "int(b)"
   ]
  },
  {
   "cell_type": "code",
   "execution_count": 24,
   "id": "324c1d08",
   "metadata": {},
   "outputs": [],
   "source": [
    "k = \"11 , 45, 10 and 1.25 ,9 , 2\""
   ]
  },
  {
   "cell_type": "code",
   "execution_count": 25,
   "id": "1752f92d",
   "metadata": {},
   "outputs": [],
   "source": [
    "s = re.findall(r\"\\d[1-9]|\\d.\\d+\",k)"
   ]
  },
  {
   "cell_type": "code",
   "execution_count": 26,
   "id": "ca0c006d",
   "metadata": {},
   "outputs": [
    {
     "data": {
      "text/plain": [
       "3"
      ]
     },
     "execution_count": 26,
     "metadata": {},
     "output_type": "execute_result"
    }
   ],
   "source": [
    "len(s)"
   ]
  },
  {
   "cell_type": "code",
   "execution_count": 27,
   "id": "f27ebb7d",
   "metadata": {},
   "outputs": [
    {
     "data": {
      "text/plain": [
       "['11', '45', '1.25']"
      ]
     },
     "execution_count": 27,
     "metadata": {},
     "output_type": "execute_result"
    }
   ],
   "source": [
    "s"
   ]
  },
  {
   "cell_type": "code",
   "execution_count": 31,
   "id": "875d6ac2",
   "metadata": {},
   "outputs": [
    {
     "data": {
      "text/plain": [
       "3"
      ]
     },
     "execution_count": 31,
     "metadata": {},
     "output_type": "execute_result"
    }
   ],
   "source": [
    "len(re.findall(r\"\\d[1-9]|\\d.\\d+\",k)) "
   ]
  },
  {
   "cell_type": "code",
   "execution_count": 32,
   "id": "65470162",
   "metadata": {},
   "outputs": [],
   "source": [
    "a = \"11\""
   ]
  },
  {
   "cell_type": "code",
   "execution_count": 35,
   "id": "4bc1de50",
   "metadata": {},
   "outputs": [
    {
     "data": {
      "text/plain": [
       "False"
      ]
     },
     "execution_count": 35,
     "metadata": {},
     "output_type": "execute_result"
    }
   ],
   "source": [
    "len(a) != 2"
   ]
  },
  {
   "cell_type": "code",
   "execution_count": 40,
   "id": "f4da183f",
   "metadata": {},
   "outputs": [],
   "source": [
    "s = \"sellerVERIFIED OWNER    \""
   ]
  },
  {
   "cell_type": "code",
   "execution_count": 42,
   "id": "1ec9feb2",
   "metadata": {},
   "outputs": [
    {
     "data": {
      "text/plain": [
       "'sellerVERIFIED '"
      ]
     },
     "execution_count": 42,
     "metadata": {},
     "output_type": "execute_result"
    }
   ],
   "source": [
    "s.split(\"OWNER\")[0]"
   ]
  },
  {
   "cell_type": "code",
   "execution_count": 46,
   "id": "f4b264e9",
   "metadata": {},
   "outputs": [],
   "source": [
    "s = \"Vasavi GroupAGENT0\""
   ]
  },
  {
   "cell_type": "code",
   "execution_count": 6,
   "id": "37c02591",
   "metadata": {},
   "outputs": [
    {
     "data": {
      "text/plain": [
       "True"
      ]
     },
     "execution_count": 6,
     "metadata": {},
     "output_type": "execute_result"
    }
   ],
   "source": [
    "\"BUILDER\" in s"
   ]
  },
  {
   "cell_type": "code",
   "execution_count": 47,
   "id": "7e69a5e2",
   "metadata": {},
   "outputs": [],
   "source": [
    "d = []\n",
    "k = []\n",
    "if \"AGENT0\" in s:\n",
    "    a = re.findall(r\"AGENT\",s)\n",
    "    k.append(s.split(\"AGENT\")[0])\n",
    "    d.append(a[0])"
   ]
  },
  {
   "cell_type": "code",
   "execution_count": 48,
   "id": "93e69b26",
   "metadata": {},
   "outputs": [
    {
     "data": {
      "text/plain": [
       "['AGENT']"
      ]
     },
     "execution_count": 48,
     "metadata": {},
     "output_type": "execute_result"
    }
   ],
   "source": [
    "d"
   ]
  },
  {
   "cell_type": "code",
   "execution_count": 49,
   "id": "784fc341",
   "metadata": {},
   "outputs": [
    {
     "data": {
      "text/plain": [
       "['Vasavi Group']"
      ]
     },
     "execution_count": 49,
     "metadata": {},
     "output_type": "execute_result"
    }
   ],
   "source": [
    "k"
   ]
  },
  {
   "cell_type": "code",
   "execution_count": null,
   "id": "6cc9a753",
   "metadata": {},
   "outputs": [],
   "source": []
  }
 ],
 "metadata": {
  "kernelspec": {
   "display_name": "Python 3 (ipykernel)",
   "language": "python",
   "name": "python3"
  },
  "language_info": {
   "codemirror_mode": {
    "name": "ipython",
    "version": 3
   },
   "file_extension": ".py",
   "mimetype": "text/x-python",
   "name": "python",
   "nbconvert_exporter": "python",
   "pygments_lexer": "ipython3",
   "version": "3.9.7"
  }
 },
 "nbformat": 4,
 "nbformat_minor": 5
}
