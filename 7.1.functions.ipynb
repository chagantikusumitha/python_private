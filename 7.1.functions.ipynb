{
 "cells": [
  {
   "cell_type": "markdown",
   "id": "922467d2",
   "metadata": {},
   "source": [
    "# USER DEFINED FUNCTIONS"
   ]
  },
  {
   "cell_type": "markdown",
   "id": "f7fefcab",
   "metadata": {},
   "source": [
    "## 1.Functions without parameter"
   ]
  },
  {
   "cell_type": "code",
   "execution_count": 7,
   "id": "53b18a32",
   "metadata": {},
   "outputs": [],
   "source": [
    "# global variable\n",
    "z = 30 "
   ]
  },
  {
   "cell_type": "code",
   "execution_count": 12,
   "id": "fab0b1b4",
   "metadata": {},
   "outputs": [],
   "source": [
    "def summation():\n",
    "#     local variable\n",
    "    x = 10\n",
    "    y = 20\n",
    "    print(x + y)"
   ]
  },
  {
   "cell_type": "code",
   "execution_count": 13,
   "id": "c6affd38",
   "metadata": {},
   "outputs": [
    {
     "name": "stdout",
     "output_type": "stream",
     "text": [
      "30\n"
     ]
    }
   ],
   "source": [
    "summation()"
   ]
  },
  {
   "cell_type": "code",
   "execution_count": 6,
   "id": "caaffb98",
   "metadata": {},
   "outputs": [
    {
     "ename": "NameError",
     "evalue": "name 'x' is not defined",
     "output_type": "error",
     "traceback": [
      "\u001b[1;31m---------------------------------------------------------------------------\u001b[0m",
      "\u001b[1;31mNameError\u001b[0m                                 Traceback (most recent call last)",
      "\u001b[1;32mC:\\Users\\KUSUMI~1\\AppData\\Local\\Temp/ipykernel_5736/1353120783.py\u001b[0m in \u001b[0;36m<module>\u001b[1;34m\u001b[0m\n\u001b[1;32m----> 1\u001b[1;33m \u001b[0mprint\u001b[0m\u001b[1;33m(\u001b[0m\u001b[0mx\u001b[0m\u001b[1;33m)\u001b[0m\u001b[1;33m\u001b[0m\u001b[1;33m\u001b[0m\u001b[0m\n\u001b[0m",
      "\u001b[1;31mNameError\u001b[0m: name 'x' is not defined"
     ]
    }
   ],
   "source": [
    "print(x)"
   ]
  },
  {
   "cell_type": "code",
   "execution_count": 3,
   "id": "a5918c46",
   "metadata": {},
   "outputs": [],
   "source": [
    "# global variable\n",
    "z = 30 "
   ]
  },
  {
   "cell_type": "code",
   "execution_count": 15,
   "id": "bb6b25d2",
   "metadata": {},
   "outputs": [],
   "source": [
    "def summation():\n",
    "    x = 10\n",
    "    y = 20\n",
    "    print(x + y + z)"
   ]
  },
  {
   "cell_type": "code",
   "execution_count": 16,
   "id": "bb0d68e6",
   "metadata": {},
   "outputs": [
    {
     "name": "stdout",
     "output_type": "stream",
     "text": [
      "60\n"
     ]
    }
   ],
   "source": [
    "summation()"
   ]
  },
  {
   "cell_type": "code",
   "execution_count": 17,
   "id": "de71ed59",
   "metadata": {},
   "outputs": [],
   "source": [
    "def summation():\n",
    "    x = 10\n",
    "    y = 20\n",
    "    A = x + y + z\n",
    "    print(A)"
   ]
  },
  {
   "cell_type": "code",
   "execution_count": 19,
   "id": "fb71bcf2",
   "metadata": {},
   "outputs": [
    {
     "name": "stdout",
     "output_type": "stream",
     "text": [
      "60\n"
     ]
    }
   ],
   "source": [
    "summation()"
   ]
  },
  {
   "cell_type": "code",
   "execution_count": 20,
   "id": "5b51c478",
   "metadata": {},
   "outputs": [
    {
     "ename": "NameError",
     "evalue": "name 'A' is not defined",
     "output_type": "error",
     "traceback": [
      "\u001b[1;31m---------------------------------------------------------------------------\u001b[0m",
      "\u001b[1;31mNameError\u001b[0m                                 Traceback (most recent call last)",
      "\u001b[1;32mC:\\Users\\KUSUMI~1\\AppData\\Local\\Temp/ipykernel_5736/378453753.py\u001b[0m in \u001b[0;36m<module>\u001b[1;34m\u001b[0m\n\u001b[1;32m----> 1\u001b[1;33m \u001b[0mA\u001b[0m\u001b[1;33m\u001b[0m\u001b[1;33m\u001b[0m\u001b[0m\n\u001b[0m",
      "\u001b[1;31mNameError\u001b[0m: name 'A' is not defined"
     ]
    }
   ],
   "source": [
    "A"
   ]
  },
  {
   "cell_type": "code",
   "execution_count": 16,
   "id": "0ff2161d",
   "metadata": {},
   "outputs": [],
   "source": [
    "# fns without parameters\n",
    "def summation():\n",
    "    x = 10\n",
    "    y = 20\n",
    "    A = x + y + z\n",
    "    print(A)"
   ]
  },
  {
   "cell_type": "code",
   "execution_count": 17,
   "id": "f226f443",
   "metadata": {},
   "outputs": [
    {
     "name": "stdout",
     "output_type": "stream",
     "text": [
      "60\n"
     ]
    }
   ],
   "source": [
    "summation()"
   ]
  },
  {
   "cell_type": "code",
   "execution_count": 25,
   "id": "7c5eb532",
   "metadata": {},
   "outputs": [
    {
     "data": {
      "text/plain": [
       "60"
      ]
     },
     "execution_count": 25,
     "metadata": {},
     "output_type": "execute_result"
    }
   ],
   "source": [
    "A"
   ]
  },
  {
   "cell_type": "code",
   "execution_count": 30,
   "id": "65efa5a5",
   "metadata": {},
   "outputs": [],
   "source": [
    "# fns with parameters\n",
    "\n",
    "def summation(x, y, z):\n",
    "    print(x + y + z)"
   ]
  },
  {
   "cell_type": "code",
   "execution_count": 31,
   "id": "bdb64b98",
   "metadata": {},
   "outputs": [
    {
     "name": "stdout",
     "output_type": "stream",
     "text": [
      "60\n"
     ]
    }
   ],
   "source": [
    "summation(10, 20, 30)"
   ]
  },
  {
   "cell_type": "code",
   "execution_count": 33,
   "id": "a13d1fba",
   "metadata": {},
   "outputs": [
    {
     "name": "stdout",
     "output_type": "stream",
     "text": [
      "180\n"
     ]
    }
   ],
   "source": [
    "# code reusability\n",
    "summation(40, 50, 90)"
   ]
  },
  {
   "cell_type": "code",
   "execution_count": 3,
   "id": "c97f0c8c",
   "metadata": {},
   "outputs": [],
   "source": [
    "num = [2,45,7,8,90,34]"
   ]
  },
  {
   "cell_type": "code",
   "execution_count": 4,
   "id": "80b2151c",
   "metadata": {},
   "outputs": [],
   "source": [
    "def even(z):\n",
    "    for i in z:\n",
    "        if i % 2 == 0:\n",
    "            print(i)"
   ]
  },
  {
   "cell_type": "code",
   "execution_count": 5,
   "id": "ce88e6b8",
   "metadata": {},
   "outputs": [
    {
     "name": "stdout",
     "output_type": "stream",
     "text": [
      "2\n",
      "8\n",
      "90\n",
      "34\n"
     ]
    }
   ],
   "source": [
    "even(num)"
   ]
  },
  {
   "cell_type": "code",
   "execution_count": 44,
   "id": "47bc5164",
   "metadata": {},
   "outputs": [],
   "source": [
    "l = [1,25,1,2,26,3,2,25,9,26,9]"
   ]
  },
  {
   "cell_type": "code",
   "execution_count": 50,
   "id": "ff4c4210",
   "metadata": {},
   "outputs": [],
   "source": [
    "def unique(a):\n",
    "        s = set(l)\n",
    "        print(list(s))     "
   ]
  },
  {
   "cell_type": "code",
   "execution_count": 51,
   "id": "93586c55",
   "metadata": {},
   "outputs": [
    {
     "name": "stdout",
     "output_type": "stream",
     "text": [
      "[1, 2, 3, 9, 25, 26]\n"
     ]
    }
   ],
   "source": [
    "unique(l)"
   ]
  },
  {
   "cell_type": "code",
   "execution_count": null,
   "id": "6be7a8fa",
   "metadata": {},
   "outputs": [],
   "source": [
    "name\n",
    "age\n",
    "city\n",
    "state\n",
    "college\n",
    "branch\n",
    "mobile"
   ]
  },
  {
   "cell_type": "code",
   "execution_count": 69,
   "id": "e991d56d",
   "metadata": {},
   "outputs": [
    {
     "name": "stdout",
     "output_type": "stream",
     "text": [
      "enter name :kush\n",
      " age  :21\n",
      "city: hyd\n",
      "state: ts\n",
      "college: st.peters\n",
      " branchbtech cse\n",
      "phn no6304845363\n"
     ]
    }
   ],
   "source": [
    "name = input(\"enter name :\")\n",
    "age = str(input(\" age  :\"))\n",
    "city = input(\"city: \")\n",
    "state = input(\"state: \")\n",
    "college = input(\"college: \")\n",
    "branch = input(\" branch\")\n",
    "mobile = input(\"phn no\")"
   ]
  },
  {
   "cell_type": "code",
   "execution_count": null,
   "id": "370160c8",
   "metadata": {},
   "outputs": [],
   "source": []
  },
  {
   "cell_type": "code",
   "execution_count": 70,
   "id": "06b3c03d",
   "metadata": {},
   "outputs": [],
   "source": [
    "def paragraph(a,b,c,d,e,f,g):\n",
    "    print(\"my name is \"+name +\" I am \" +age+ \"years old\" +\"I am from \"+ city+\",which is in \" + state +\" I studied in a \"+ college+\" ,in a course called \" + branch +\" My mobile number is \"+ mobile)\n",
    "    "
   ]
  },
  {
   "cell_type": "code",
   "execution_count": 71,
   "id": "14e7e927",
   "metadata": {},
   "outputs": [
    {
     "name": "stdout",
     "output_type": "stream",
     "text": [
      "my name is kush I am 21years oldI am from hyd,which is in ts I studied in a st.peters ,in a course called btech cse My mobile number is 6304845363\n"
     ]
    }
   ],
   "source": [
    "paragraph(name,age,city,state,college,branch,mobile)"
   ]
  },
  {
   "cell_type": "code",
   "execution_count": 82,
   "id": "b7eba81d",
   "metadata": {},
   "outputs": [],
   "source": [
    "marks = [89,93,12,35,42,67,91,50]\n",
    "names = ['X','Y','Z','A','B','C','D','E']"
   ]
  },
  {
   "cell_type": "code",
   "execution_count": 127,
   "id": "14fbce17",
   "metadata": {},
   "outputs": [],
   "source": [
    "d = {}\n",
    "def dictionary(a,b):\n",
    "    for i,j in zip(a,b):\n",
    "        d[i] = j\n",
    "    return d\n"
   ]
  },
  {
   "cell_type": "code",
   "execution_count": 128,
   "id": "759dbcfe",
   "metadata": {},
   "outputs": [
    {
     "data": {
      "text/plain": [
       "{'X': 89, 'Y': 93, 'Z': 12, 'A': 35, 'B': 42, 'C': 67, 'D': 91, 'E': 50}"
      ]
     },
     "execution_count": 128,
     "metadata": {},
     "output_type": "execute_result"
    }
   ],
   "source": [
    "dictionary(names,marks)"
   ]
  },
  {
   "cell_type": "markdown",
   "id": "7ff0893d",
   "metadata": {},
   "source": [
    "# #  2. Functions with Parameter"
   ]
  },
  {
   "cell_type": "code",
   "execution_count": 7,
   "id": "e42a1476",
   "metadata": {},
   "outputs": [],
   "source": [
    "def summation(x,y):\n",
    "    print(x+y)"
   ]
  },
  {
   "cell_type": "code",
   "execution_count": 8,
   "id": "d2cabcd3",
   "metadata": {},
   "outputs": [
    {
     "name": "stdout",
     "output_type": "stream",
     "text": [
      "27\n"
     ]
    }
   ],
   "source": [
    "summation(9,18)"
   ]
  },
  {
   "cell_type": "code",
   "execution_count": 9,
   "id": "3ca073bc",
   "metadata": {},
   "outputs": [
    {
     "name": "stdout",
     "output_type": "stream",
     "text": [
      "110\n"
     ]
    }
   ],
   "source": [
    "summation(10,100)"
   ]
  },
  {
   "cell_type": "markdown",
   "id": "5ed94174",
   "metadata": {},
   "source": [
    "# 3. Functions with n no. of parameters"
   ]
  },
  {
   "cell_type": "code",
   "execution_count": 10,
   "id": "a2142acc",
   "metadata": {},
   "outputs": [],
   "source": [
    "def numbers(* t):\n",
    "    print(list(t))"
   ]
  },
  {
   "cell_type": "code",
   "execution_count": 11,
   "id": "64699226",
   "metadata": {},
   "outputs": [
    {
     "name": "stdout",
     "output_type": "stream",
     "text": [
      "[1, 2, 3, 5, 45, 25]\n"
     ]
    }
   ],
   "source": [
    "numbers(1,2,3,5,45,25)"
   ]
  },
  {
   "cell_type": "markdown",
   "id": "0b41d494",
   "metadata": {},
   "source": [
    "# 4. Functions with n no. of keyword arguments"
   ]
  },
  {
   "cell_type": "code",
   "execution_count": 12,
   "id": "90f2637d",
   "metadata": {},
   "outputs": [],
   "source": [
    "def numbers2(** z):\n",
    "    print(z)"
   ]
  },
  {
   "cell_type": "code",
   "execution_count": 15,
   "id": "7d1fa02c",
   "metadata": {},
   "outputs": [
    {
     "name": "stdout",
     "output_type": "stream",
     "text": [
      "{'a': 1, 'b': 2}\n"
     ]
    }
   ],
   "source": [
    "numbers2(a= 1,b= 2)"
   ]
  },
  {
   "cell_type": "code",
   "execution_count": null,
   "id": "5f22c96a",
   "metadata": {},
   "outputs": [],
   "source": []
  }
 ],
 "metadata": {
  "kernelspec": {
   "display_name": "Python 3 (ipykernel)",
   "language": "python",
   "name": "python3"
  },
  "language_info": {
   "codemirror_mode": {
    "name": "ipython",
    "version": 3
   },
   "file_extension": ".py",
   "mimetype": "text/x-python",
   "name": "python",
   "nbconvert_exporter": "python",
   "pygments_lexer": "ipython3",
   "version": "3.9.7"
  }
 },
 "nbformat": 4,
 "nbformat_minor": 5
}
