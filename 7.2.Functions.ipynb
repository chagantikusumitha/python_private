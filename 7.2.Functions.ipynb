{
 "cells": [
  {
   "cell_type": "markdown",
   "id": "7bd7a3bb",
   "metadata": {},
   "source": [
    "# Lambda fn"
   ]
  },
  {
   "cell_type": "code",
   "execution_count": 1,
   "id": "e6ff5663",
   "metadata": {},
   "outputs": [
    {
     "data": {
      "text/plain": [
       "4"
      ]
     },
     "execution_count": 1,
     "metadata": {},
     "output_type": "execute_result"
    }
   ],
   "source": [
    "square2 = lambda x: x**2\n",
    "\n",
    "square2(2)"
   ]
  },
  {
   "cell_type": "code",
   "execution_count": 3,
   "id": "94a3a405",
   "metadata": {},
   "outputs": [
    {
     "data": {
      "text/plain": [
       "60"
      ]
     },
     "execution_count": 3,
     "metadata": {},
     "output_type": "execute_result"
    }
   ],
   "source": [
    "d = lambda x,y : x*y\n",
    "\n",
    "d(6,10)"
   ]
  },
  {
   "cell_type": "code",
   "execution_count": 4,
   "id": "2c4d6197",
   "metadata": {},
   "outputs": [
    {
     "data": {
      "text/plain": [
       "16"
      ]
     },
     "execution_count": 4,
     "metadata": {},
     "output_type": "execute_result"
    }
   ],
   "source": [
    "d = lambda x,y : x+y\n",
    "\n",
    "d(6,10)"
   ]
  },
  {
   "cell_type": "code",
   "execution_count": 5,
   "id": "1ee80e7c",
   "metadata": {},
   "outputs": [],
   "source": [
    "s = lambda a: \"even\" if a%2 == 0 else \"odd\""
   ]
  },
  {
   "cell_type": "code",
   "execution_count": 6,
   "id": "fd799be7",
   "metadata": {},
   "outputs": [
    {
     "data": {
      "text/plain": [
       "'even'"
      ]
     },
     "execution_count": 6,
     "metadata": {},
     "output_type": "execute_result"
    }
   ],
   "source": [
    "s(10)"
   ]
  },
  {
   "cell_type": "code",
   "execution_count": 7,
   "id": "830ec574",
   "metadata": {},
   "outputs": [
    {
     "data": {
      "text/plain": [
       "'odd'"
      ]
     },
     "execution_count": 7,
     "metadata": {},
     "output_type": "execute_result"
    }
   ],
   "source": [
    "s(5)"
   ]
  },
  {
   "cell_type": "code",
   "execution_count": 10,
   "id": "34c7cb90",
   "metadata": {},
   "outputs": [
    {
     "data": {
      "text/plain": [
       "'hello'"
      ]
     },
     "execution_count": 10,
     "metadata": {},
     "output_type": "execute_result"
    }
   ],
   "source": [
    "# parameters/arguments is optional\n",
    "f = lambda : \"hello\"\n",
    "f()"
   ]
  },
  {
   "cell_type": "code",
   "execution_count": 6,
   "id": "9126ffba",
   "metadata": {},
   "outputs": [],
   "source": [
    "d = lambda x,y,z=10, a=10: x+y+z"
   ]
  },
  {
   "cell_type": "code",
   "execution_count": 7,
   "id": "3307b7d4",
   "metadata": {},
   "outputs": [
    {
     "data": {
      "text/plain": [
       "13"
      ]
     },
     "execution_count": 7,
     "metadata": {},
     "output_type": "execute_result"
    }
   ],
   "source": [
    "d(1,2)"
   ]
  },
  {
   "cell_type": "code",
   "execution_count": 12,
   "id": "73758b4c",
   "metadata": {},
   "outputs": [
    {
     "data": {
      "text/plain": [
       "13"
      ]
     },
     "execution_count": 12,
     "metadata": {},
     "output_type": "execute_result"
    }
   ],
   "source": [
    "d(1,2)"
   ]
  },
  {
   "cell_type": "code",
   "execution_count": 13,
   "id": "bca505eb",
   "metadata": {},
   "outputs": [
    {
     "data": {
      "text/plain": [
       "12"
      ]
     },
     "execution_count": 13,
     "metadata": {},
     "output_type": "execute_result"
    }
   ],
   "source": [
    "d(5,4,3)"
   ]
  },
  {
   "cell_type": "markdown",
   "id": "28dbd9f4",
   "metadata": {},
   "source": [
    "# filter fn\n"
   ]
  },
  {
   "cell_type": "code",
   "execution_count": 15,
   "id": "27c72bd4",
   "metadata": {},
   "outputs": [
    {
     "name": "stdout",
     "output_type": "stream",
     "text": [
      "False\n",
      "False\n",
      "True\n",
      "False\n"
     ]
    }
   ],
   "source": [
    "def iseven(x):\n",
    "    for i in x:\n",
    "        if(i%2==0):\n",
    "            print(\"True\")\n",
    "        else:\n",
    "            print(\"False\")\n",
    "numbers=[1,3,4,5]\n",
    "iseven(numbers)"
   ]
  },
  {
   "cell_type": "code",
   "execution_count": 18,
   "id": "080fa763",
   "metadata": {},
   "outputs": [
    {
     "data": {
      "text/plain": [
       "[4, 10, 12, 12]"
      ]
     },
     "execution_count": 18,
     "metadata": {},
     "output_type": "execute_result"
    }
   ],
   "source": [
    "k = lambda x:x%2==0\n",
    "numbers=[1,3,4,5,10,11,12,12]\n",
    "list(filter(k,numbers))"
   ]
  },
  {
   "cell_type": "code",
   "execution_count": 19,
   "id": "04c42ec1",
   "metadata": {},
   "outputs": [
    {
     "data": {
      "text/plain": [
       "[4, 10, 12, 12]"
      ]
     },
     "execution_count": 19,
     "metadata": {},
     "output_type": "execute_result"
    }
   ],
   "source": [
    "list(filter(lambda x:x%2==0,numbers))"
   ]
  },
  {
   "cell_type": "code",
   "execution_count": 20,
   "id": "b826110c",
   "metadata": {},
   "outputs": [
    {
     "data": {
      "text/plain": [
       "[3, 6, 9, 12, 15, 18, 21, 24, 27, 30]"
      ]
     },
     "execution_count": 20,
     "metadata": {},
     "output_type": "execute_result"
    }
   ],
   "source": [
    "list(filter(lambda x:x%3==0,range(3,31)))"
   ]
  },
  {
   "cell_type": "markdown",
   "id": "3fba0949",
   "metadata": {},
   "source": [
    "# map fn"
   ]
  },
  {
   "cell_type": "code",
   "execution_count": 21,
   "id": "5c3306a5",
   "metadata": {},
   "outputs": [
    {
     "name": "stdout",
     "output_type": "stream",
     "text": [
      "1 27 64 125 "
     ]
    }
   ],
   "source": [
    "def cubenumber(x):\n",
    "    for i in x:\n",
    "        print(i**3,end=\" \")\n",
    "        \n",
    "numbers=[1,3,4,5]\n",
    "cubenumber(numbers)"
   ]
  },
  {
   "cell_type": "code",
   "execution_count": 22,
   "id": "5b9489e3",
   "metadata": {},
   "outputs": [
    {
     "data": {
      "text/plain": [
       "[1, 27, 64, 125]"
      ]
     },
     "execution_count": 22,
     "metadata": {},
     "output_type": "execute_result"
    }
   ],
   "source": [
    "l = lambda x: (x**3)\n",
    "list(map(l,numbers))"
   ]
  },
  {
   "cell_type": "code",
   "execution_count": 23,
   "id": "28d862ec",
   "metadata": {},
   "outputs": [
    {
     "data": {
      "text/plain": [
       "[1, 27, 64, 125]"
      ]
     },
     "execution_count": 23,
     "metadata": {},
     "output_type": "execute_result"
    }
   ],
   "source": [
    "list(map(lambda x: (x**3),numbers))"
   ]
  },
  {
   "cell_type": "code",
   "execution_count": 28,
   "id": "9c3f12ff",
   "metadata": {},
   "outputs": [
    {
     "data": {
      "text/plain": [
       "2.0"
      ]
     },
     "execution_count": 28,
     "metadata": {},
     "output_type": "execute_result"
    }
   ],
   "source": [
    "import math\n",
    "math.sqrt(4)"
   ]
  },
  {
   "cell_type": "code",
   "execution_count": 29,
   "id": "79ce240a",
   "metadata": {},
   "outputs": [],
   "source": [
    "t = (1,2,3,4,5,6)"
   ]
  },
  {
   "cell_type": "code",
   "execution_count": 33,
   "id": "75affc62",
   "metadata": {},
   "outputs": [
    {
     "data": {
      "text/plain": [
       "(1, 4, 9, 16, 25, 36)"
      ]
     },
     "execution_count": 33,
     "metadata": {},
     "output_type": "execute_result"
    }
   ],
   "source": [
    "tuple(map(lambda x:(x**2),t))"
   ]
  },
  {
   "cell_type": "markdown",
   "id": "d31de3c6",
   "metadata": {},
   "source": [
    "# List Comprehension"
   ]
  },
  {
   "cell_type": "code",
   "execution_count": 38,
   "id": "f66c6f7f",
   "metadata": {},
   "outputs": [
    {
     "data": {
      "text/plain": [
       "[2, 4, 8, 4]"
      ]
     },
     "execution_count": 38,
     "metadata": {},
     "output_type": "execute_result"
    }
   ],
   "source": [
    "numbers = [2,4,5,7,8,4]\n",
    "even =[]\n",
    "for i in numbers:\n",
    "    if(i%2 == 0):\n",
    "        even.append(i)\n",
    "even"
   ]
  },
  {
   "cell_type": "code",
   "execution_count": 40,
   "id": "5010bc79",
   "metadata": {},
   "outputs": [
    {
     "data": {
      "text/plain": [
       "[2, 4, 5, 7, 8, 4]"
      ]
     },
     "execution_count": 40,
     "metadata": {},
     "output_type": "execute_result"
    }
   ],
   "source": [
    "even = [i for i in numbers]\n",
    "even"
   ]
  },
  {
   "cell_type": "code",
   "execution_count": 44,
   "id": "8fea46b3",
   "metadata": {},
   "outputs": [
    {
     "data": {
      "text/plain": [
       "[2, 4, 8, 4]"
      ]
     },
     "execution_count": 44,
     "metadata": {},
     "output_type": "execute_result"
    }
   ],
   "source": [
    "# for if loops\n",
    "even = [i for i in numbers if (i%2 == 0)]\n",
    "even"
   ]
  },
  {
   "cell_type": "code",
   "execution_count": 45,
   "id": "b9fed362",
   "metadata": {},
   "outputs": [
    {
     "data": {
      "text/plain": [
       "['even', 'even', 'odd', 'odd', 'even', 'even']"
      ]
     },
     "execution_count": 45,
     "metadata": {},
     "output_type": "execute_result"
    }
   ],
   "source": [
    "numbers = [2,4,5,7,8,4]\n",
    "even =[]\n",
    "for i in numbers:\n",
    "    if(i%2 == 0):\n",
    "        even.append(\"even\")\n",
    "    else:\n",
    "        even.append(\"odd\")\n",
    "even"
   ]
  },
  {
   "cell_type": "code",
   "execution_count": 46,
   "id": "fadfb8a1",
   "metadata": {},
   "outputs": [
    {
     "data": {
      "text/plain": [
       "['even', 'even', 'odd', 'odd', 'even', 'even']"
      ]
     },
     "execution_count": 46,
     "metadata": {},
     "output_type": "execute_result"
    }
   ],
   "source": [
    "# for if and else loops\n",
    "even = [\"even\" if (i%2 == 0) else \"odd\" for i in numbers ]\n",
    "even"
   ]
  },
  {
   "cell_type": "markdown",
   "id": "954ff2be",
   "metadata": {},
   "source": [
    "# Zip() function"
   ]
  },
  {
   "cell_type": "code",
   "execution_count": 49,
   "id": "88df23b3",
   "metadata": {},
   "outputs": [
    {
     "name": "stdout",
     "output_type": "stream",
     "text": [
      "(2, 5)\n",
      "(4, 4)\n",
      "(5, 2)\n",
      "(6, 3)\n",
      "(1, 8)\n",
      "(7, 9)\n"
     ]
    }
   ],
   "source": [
    "l1 = [2,4,5,6,1,7]\n",
    "l2 = [5,4,2,3,8,9]\n",
    "for i in zip(l1,l2):\n",
    "    print(i)"
   ]
  },
  {
   "cell_type": "code",
   "execution_count": 51,
   "id": "aedebe16",
   "metadata": {},
   "outputs": [
    {
     "name": "stdout",
     "output_type": "stream",
     "text": [
      "2 5\n",
      "4 4\n",
      "5 2\n",
      "6 3\n",
      "1 8\n",
      "7 9\n"
     ]
    }
   ],
   "source": [
    "l1 = [2,4,5,6,1,7]\n",
    "l2 = [5,4,2,3,8,9]\n",
    "for i,j in zip(l1,l2):\n",
    "    print(i,j)"
   ]
  },
  {
   "cell_type": "code",
   "execution_count": 52,
   "id": "7c4919ef",
   "metadata": {},
   "outputs": [
    {
     "name": "stdout",
     "output_type": "stream",
     "text": [
      "10\n",
      "16\n",
      "10\n",
      "18\n",
      "8\n",
      "63\n"
     ]
    }
   ],
   "source": [
    "l1 = [2,4,5,6,1,7]\n",
    "l2 = [5,4,2,3,8,9]\n",
    "for i,j in zip(l1,l2):\n",
    "    print(i*j)"
   ]
  },
  {
   "cell_type": "code",
   "execution_count": 56,
   "id": "dffd9163",
   "metadata": {},
   "outputs": [
    {
     "name": "stdout",
     "output_type": "stream",
     "text": [
      "40\n",
      "128\n",
      "70\n",
      "54\n",
      "48\n",
      "63\n"
     ]
    }
   ],
   "source": [
    "l1 = [2,4,5,6,1,7]\n",
    "l2 = [5,4,2,3,8,9]\n",
    "l3 = [4,8,7,3,6,1]\n",
    "for i,j,k in zip(l1,l2,l3):\n",
    "    print(i*j*k)"
   ]
  },
  {
   "cell_type": "code",
   "execution_count": 58,
   "id": "619c9828",
   "metadata": {},
   "outputs": [
    {
     "name": "stdout",
     "output_type": "stream",
     "text": [
      "2 5\n",
      "4 4\n",
      "5 2\n",
      "6 3\n",
      "1 8\n",
      "7 9\n"
     ]
    }
   ],
   "source": [
    "l1 = [2,4,5,6,1,7]\n",
    "l2 = [5,4,2,3,8,9,4,8,7,3,6,1]\n",
    "for i,j in zip(l1,l2):\n",
    "    print(i,j)"
   ]
  },
  {
   "cell_type": "code",
   "execution_count": 59,
   "id": "9d0856f6",
   "metadata": {},
   "outputs": [
    {
     "name": "stdout",
     "output_type": "stream",
     "text": [
      "2 5 1\n",
      "4 4 2\n"
     ]
    }
   ],
   "source": [
    "l1 = [2,4,5,6,1,7]\n",
    "l2 = [5,4,2,3,8,9,4,8,7,3,6,1]\n",
    "l3 = [1,2]\n",
    "for i,j,k in zip(l1,l2,l3):\n",
    "    print(i,j,k)"
   ]
  },
  {
   "cell_type": "markdown",
   "id": "6459feb4",
   "metadata": {},
   "source": [
    "# Enumerate() Function "
   ]
  },
  {
   "cell_type": "code",
   "execution_count": 60,
   "id": "3ac4fa5a",
   "metadata": {},
   "outputs": [
    {
     "name": "stdout",
     "output_type": "stream",
     "text": [
      "(0, 2)\n",
      "(1, 4)\n",
      "(2, 5)\n",
      "(3, 6)\n",
      "(4, 1)\n",
      "(5, 7)\n"
     ]
    }
   ],
   "source": [
    "l = [2,4,5,6,1,7]\n",
    "for i in enumerate(l):\n",
    "    print(i)"
   ]
  },
  {
   "cell_type": "code",
   "execution_count": 61,
   "id": "733e3187",
   "metadata": {},
   "outputs": [
    {
     "name": "stdout",
     "output_type": "stream",
     "text": [
      "0 2\n",
      "1 4\n",
      "2 5\n",
      "3 6\n",
      "4 1\n",
      "5 7\n"
     ]
    }
   ],
   "source": [
    "l = [2,4,5,6,1,7]\n",
    "for i,j in enumerate(l):\n",
    "    print(i,j)"
   ]
  },
  {
   "cell_type": "code",
   "execution_count": null,
   "id": "a11ea2fe",
   "metadata": {},
   "outputs": [],
   "source": []
  }
 ],
 "metadata": {
  "kernelspec": {
   "display_name": "Python 3 (ipykernel)",
   "language": "python",
   "name": "python3"
  },
  "language_info": {
   "codemirror_mode": {
    "name": "ipython",
    "version": 3
   },
   "file_extension": ".py",
   "mimetype": "text/x-python",
   "name": "python",
   "nbconvert_exporter": "python",
   "pygments_lexer": "ipython3",
   "version": "3.9.7"
  }
 },
 "nbformat": 4,
 "nbformat_minor": 5
}
