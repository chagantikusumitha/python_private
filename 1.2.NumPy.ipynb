{
 "cells": [
  {
   "cell_type": "code",
   "execution_count": 2,
   "id": "951a1e1d",
   "metadata": {},
   "outputs": [],
   "source": [
    "import numpy as np"
   ]
  },
  {
   "cell_type": "code",
   "execution_count": 2,
   "id": "cff8cd58",
   "metadata": {},
   "outputs": [],
   "source": [
    "a = [1,2,3,4,5,6,5,4,7,2,3]"
   ]
  },
  {
   "cell_type": "code",
   "execution_count": 3,
   "id": "dfae9d00",
   "metadata": {},
   "outputs": [
    {
     "name": "stdout",
     "output_type": "stream",
     "text": [
      "[1 2 3 4 5 6 5 4 7 2 3]\n"
     ]
    }
   ],
   "source": [
    "print(np.array(a))"
   ]
  },
  {
   "cell_type": "code",
   "execution_count": 4,
   "id": "b437b904",
   "metadata": {},
   "outputs": [],
   "source": [
    "b = np.array(a)"
   ]
  },
  {
   "cell_type": "code",
   "execution_count": 5,
   "id": "424aea33",
   "metadata": {},
   "outputs": [
    {
     "data": {
      "text/plain": [
       "1"
      ]
     },
     "execution_count": 5,
     "metadata": {},
     "output_type": "execute_result"
    }
   ],
   "source": [
    "b[0]"
   ]
  },
  {
   "cell_type": "code",
   "execution_count": 6,
   "id": "5a9f6520",
   "metadata": {},
   "outputs": [
    {
     "data": {
      "text/plain": [
       "4"
      ]
     },
     "execution_count": 6,
     "metadata": {},
     "output_type": "execute_result"
    }
   ],
   "source": [
    "b[3]"
   ]
  },
  {
   "cell_type": "code",
   "execution_count": 7,
   "id": "8ba75533",
   "metadata": {},
   "outputs": [],
   "source": [
    "b[3] = 999"
   ]
  },
  {
   "cell_type": "code",
   "execution_count": 8,
   "id": "c381f9c6",
   "metadata": {},
   "outputs": [
    {
     "data": {
      "text/plain": [
       "array([  1,   2,   3, 999,   5,   6,   5,   4,   7,   2,   3])"
      ]
     },
     "execution_count": 8,
     "metadata": {},
     "output_type": "execute_result"
    }
   ],
   "source": [
    "b"
   ]
  },
  {
   "cell_type": "code",
   "execution_count": 9,
   "id": "b3e8270d",
   "metadata": {},
   "outputs": [
    {
     "data": {
      "text/plain": [
       "1037"
      ]
     },
     "execution_count": 9,
     "metadata": {},
     "output_type": "execute_result"
    }
   ],
   "source": [
    "b.sum()"
   ]
  },
  {
   "cell_type": "code",
   "execution_count": 10,
   "id": "d0056aa4",
   "metadata": {},
   "outputs": [
    {
     "data": {
      "text/plain": [
       "94.27272727272727"
      ]
     },
     "execution_count": 10,
     "metadata": {},
     "output_type": "execute_result"
    }
   ],
   "source": [
    "b.mean()"
   ]
  },
  {
   "cell_type": "code",
   "execution_count": 11,
   "id": "139a7a51",
   "metadata": {},
   "outputs": [
    {
     "data": {
      "text/plain": [
       "286.1052225093199"
      ]
     },
     "execution_count": 11,
     "metadata": {},
     "output_type": "execute_result"
    }
   ],
   "source": [
    "b.std()"
   ]
  },
  {
   "cell_type": "code",
   "execution_count": 12,
   "id": "33645b97",
   "metadata": {},
   "outputs": [
    {
     "data": {
      "text/plain": [
       "81856.19834710745"
      ]
     },
     "execution_count": 12,
     "metadata": {},
     "output_type": "execute_result"
    }
   ],
   "source": [
    "b.var()"
   ]
  },
  {
   "cell_type": "code",
   "execution_count": 15,
   "id": "18d0058d",
   "metadata": {},
   "outputs": [
    {
     "name": "stdout",
     "output_type": "stream",
     "text": [
      "[3 4 5 6 5 4]\n"
     ]
    }
   ],
   "source": [
    "print(b[2:8])"
   ]
  },
  {
   "cell_type": "code",
   "execution_count": 13,
   "id": "cd0bb07a",
   "metadata": {},
   "outputs": [
    {
     "name": "stdout",
     "output_type": "stream",
     "text": [
      "[[ 1  2  3]\n",
      " [ 5  6  7]\n",
      " [ 8  9 10]]\n"
     ]
    }
   ],
   "source": [
    "A = [[1,2,3],[5,6,7],[8,9,10]]\n",
    "print(np.array(A))"
   ]
  },
  {
   "cell_type": "code",
   "execution_count": 14,
   "id": "f7b8ba71",
   "metadata": {},
   "outputs": [],
   "source": [
    "A2 = np.array(A)"
   ]
  },
  {
   "cell_type": "code",
   "execution_count": 22,
   "id": "c71edcf5",
   "metadata": {},
   "outputs": [
    {
     "data": {
      "text/plain": [
       "array([ 6,  7,  8,  9, 10])"
      ]
     },
     "execution_count": 22,
     "metadata": {},
     "output_type": "execute_result"
    }
   ],
   "source": [
    "A2[A2 > 5]"
   ]
  },
  {
   "cell_type": "code",
   "execution_count": 23,
   "id": "3f4fb5e0",
   "metadata": {},
   "outputs": [
    {
     "data": {
      "text/plain": [
       "array([[False, False, False],\n",
       "       [False,  True,  True],\n",
       "       [ True,  True,  True]])"
      ]
     },
     "execution_count": 23,
     "metadata": {},
     "output_type": "execute_result"
    }
   ],
   "source": [
    "A2 > 5"
   ]
  },
  {
   "cell_type": "code",
   "execution_count": 16,
   "id": "d3d997a4",
   "metadata": {},
   "outputs": [
    {
     "data": {
      "text/plain": [
       "array([14, 17, 20])"
      ]
     },
     "execution_count": 16,
     "metadata": {},
     "output_type": "execute_result"
    }
   ],
   "source": [
    "A2.sum(axis = 0)\n",
    "#sum of colums"
   ]
  },
  {
   "cell_type": "code",
   "execution_count": 19,
   "id": "3e71100c",
   "metadata": {},
   "outputs": [
    {
     "data": {
      "text/plain": [
       "array([ 6, 18, 27])"
      ]
     },
     "execution_count": 19,
     "metadata": {},
     "output_type": "execute_result"
    }
   ],
   "source": [
    "A2.sum(axis = 1)\n",
    "#sum of rows"
   ]
  },
  {
   "cell_type": "code",
   "execution_count": 19,
   "id": "8d2c9fed",
   "metadata": {},
   "outputs": [
    {
     "data": {
      "text/plain": [
       "2"
      ]
     },
     "execution_count": 19,
     "metadata": {},
     "output_type": "execute_result"
    }
   ],
   "source": [
    "A2[0,1]"
   ]
  },
  {
   "cell_type": "code",
   "execution_count": 20,
   "id": "133698d2",
   "metadata": {},
   "outputs": [
    {
     "data": {
      "text/plain": [
       "10"
      ]
     },
     "execution_count": 20,
     "metadata": {},
     "output_type": "execute_result"
    }
   ],
   "source": [
    "A2[2,2]"
   ]
  },
  {
   "cell_type": "code",
   "execution_count": 22,
   "id": "16c43008",
   "metadata": {},
   "outputs": [
    {
     "data": {
      "text/plain": [
       "array([ 3,  7, 10])"
      ]
     },
     "execution_count": 22,
     "metadata": {},
     "output_type": "execute_result"
    }
   ],
   "source": [
    "A2[0:,2]"
   ]
  },
  {
   "cell_type": "code",
   "execution_count": 24,
   "id": "da110acb",
   "metadata": {},
   "outputs": [
    {
     "data": {
      "text/plain": [
       "array([8, 9])"
      ]
     },
     "execution_count": 24,
     "metadata": {},
     "output_type": "execute_result"
    }
   ],
   "source": [
    "A2[2,0:2]"
   ]
  },
  {
   "cell_type": "code",
   "execution_count": 25,
   "id": "c39ae754",
   "metadata": {},
   "outputs": [
    {
     "data": {
      "text/plain": [
       "array([[2, 3],\n",
       "       [6, 7]])"
      ]
     },
     "execution_count": 25,
     "metadata": {},
     "output_type": "execute_result"
    }
   ],
   "source": [
    "A2[0:2,1:]"
   ]
  },
  {
   "cell_type": "code",
   "execution_count": 26,
   "id": "cacc847c",
   "metadata": {},
   "outputs": [
    {
     "name": "stdout",
     "output_type": "stream",
     "text": [
      "[[False False False]\n",
      " [False  True  True]\n",
      " [ True  True  True]]\n"
     ]
    }
   ],
   "source": [
    "print(A2>5)"
   ]
  },
  {
   "cell_type": "code",
   "execution_count": 28,
   "id": "c11ee332",
   "metadata": {},
   "outputs": [
    {
     "name": "stdout",
     "output_type": "stream",
     "text": [
      "[ 6  7  8  9 10]\n"
     ]
    }
   ],
   "source": [
    "print(A2[(A2>5)])"
   ]
  },
  {
   "cell_type": "code",
   "execution_count": 30,
   "id": "9a76c8ef",
   "metadata": {},
   "outputs": [
    {
     "data": {
      "text/plain": [
       "array([[False, False, False],\n",
       "       [ True,  True,  True],\n",
       "       [ True, False, False]])"
      ]
     },
     "execution_count": 30,
     "metadata": {},
     "output_type": "execute_result"
    }
   ],
   "source": [
    "(A2 > 3) & (A2 < 9)"
   ]
  },
  {
   "cell_type": "code",
   "execution_count": 32,
   "id": "d469086a",
   "metadata": {},
   "outputs": [
    {
     "name": "stdout",
     "output_type": "stream",
     "text": [
      "[5 6 7 8]\n"
     ]
    }
   ],
   "source": [
    "print(A2[(A2 > 3) & (A2 < 9)])"
   ]
  },
  {
   "cell_type": "code",
   "execution_count": null,
   "id": "c802f449",
   "metadata": {},
   "outputs": [],
   "source": [
    "print(A2[(A2[0] & (A2 < 9)])"
   ]
  },
  {
   "cell_type": "code",
   "execution_count": 33,
   "id": "11379a30",
   "metadata": {},
   "outputs": [],
   "source": [
    "arr1 = np.array([[10,20],[30,40]])\n",
    "arr2 = np.array([[40,50],[70,80]])"
   ]
  },
  {
   "cell_type": "code",
   "execution_count": 34,
   "id": "821ef28d",
   "metadata": {},
   "outputs": [
    {
     "name": "stdout",
     "output_type": "stream",
     "text": [
      "[[10 20]\n",
      " [30 40]]\n"
     ]
    }
   ],
   "source": [
    "print(arr1)"
   ]
  },
  {
   "cell_type": "code",
   "execution_count": 35,
   "id": "290696c9",
   "metadata": {},
   "outputs": [
    {
     "name": "stdout",
     "output_type": "stream",
     "text": [
      "[[10 20 40 50]\n",
      " [30 40 70 80]]\n"
     ]
    }
   ],
   "source": [
    "print(np.hstack((arr1,arr2)))"
   ]
  },
  {
   "cell_type": "code",
   "execution_count": 37,
   "id": "5e86a23f",
   "metadata": {},
   "outputs": [
    {
     "name": "stdout",
     "output_type": "stream",
     "text": [
      "[[10 20 40 50]\n",
      " [30 40 70 80]]\n"
     ]
    }
   ],
   "source": [
    "print(np.concatenate((arr1,arr2),axis = 1))"
   ]
  },
  {
   "cell_type": "code",
   "execution_count": 38,
   "id": "2456824b",
   "metadata": {},
   "outputs": [
    {
     "name": "stdout",
     "output_type": "stream",
     "text": [
      "[[10 20]\n",
      " [30 40]\n",
      " [40 50]\n",
      " [70 80]]\n"
     ]
    }
   ],
   "source": [
    "print(np.concatenate((arr1,arr2),axis = 0))"
   ]
  },
  {
   "cell_type": "code",
   "execution_count": 39,
   "id": "216475ee",
   "metadata": {},
   "outputs": [
    {
     "name": "stdout",
     "output_type": "stream",
     "text": [
      "[[10 20]\n",
      " [30 40]\n",
      " [40 50]\n",
      " [70 80]]\n"
     ]
    }
   ],
   "source": [
    "print(np.vstack((arr1,arr2)))"
   ]
  },
  {
   "cell_type": "code",
   "execution_count": 40,
   "id": "1ac157dc",
   "metadata": {},
   "outputs": [
    {
     "name": "stdout",
     "output_type": "stream",
     "text": [
      "[[10 30]\n",
      " [20 40]]\n"
     ]
    }
   ],
   "source": [
    "print(np.transpose(arr1))"
   ]
  },
  {
   "cell_type": "code",
   "execution_count": 41,
   "id": "a630b38a",
   "metadata": {},
   "outputs": [
    {
     "name": "stdout",
     "output_type": "stream",
     "text": [
      "[[10 20]\n",
      " [30 40]]\n"
     ]
    }
   ],
   "source": [
    "print(arr1)"
   ]
  },
  {
   "cell_type": "code",
   "execution_count": 24,
   "id": "d937ee88",
   "metadata": {},
   "outputs": [],
   "source": [
    "B1 = np.array([5,10,15,20])\n",
    "B2 = np.array([2,5,6,7])\n",
    "B3 = np.array([2])"
   ]
  },
  {
   "cell_type": "code",
   "execution_count": 25,
   "id": "47367d82",
   "metadata": {},
   "outputs": [
    {
     "data": {
      "text/plain": [
       "array([ 7, 15, 21, 27])"
      ]
     },
     "execution_count": 25,
     "metadata": {},
     "output_type": "execute_result"
    }
   ],
   "source": [
    "B1 + B2"
   ]
  },
  {
   "cell_type": "code",
   "execution_count": 26,
   "id": "15123b48",
   "metadata": {},
   "outputs": [
    {
     "data": {
      "text/plain": [
       "array([ 3,  5,  9, 13])"
      ]
     },
     "execution_count": 26,
     "metadata": {},
     "output_type": "execute_result"
    }
   ],
   "source": [
    "B1 - B2"
   ]
  },
  {
   "cell_type": "code",
   "execution_count": 27,
   "id": "e4341676",
   "metadata": {},
   "outputs": [
    {
     "data": {
      "text/plain": [
       "array([ 7, 12, 17, 22])"
      ]
     },
     "execution_count": 27,
     "metadata": {},
     "output_type": "execute_result"
    }
   ],
   "source": [
    "B1 + B3"
   ]
  },
  {
   "cell_type": "code",
   "execution_count": null,
   "id": "bb999414",
   "metadata": {},
   "outputs": [],
   "source": []
  },
  {
   "cell_type": "code",
   "execution_count": 28,
   "id": "574cd22a",
   "metadata": {},
   "outputs": [
    {
     "data": {
      "text/plain": [
       "array([ 10,  50,  90, 140])"
      ]
     },
     "execution_count": 28,
     "metadata": {},
     "output_type": "execute_result"
    }
   ],
   "source": [
    "B1 * B2"
   ]
  },
  {
   "cell_type": "code",
   "execution_count": 29,
   "id": "a7ecadbf",
   "metadata": {},
   "outputs": [
    {
     "data": {
      "text/plain": [
       "array([10, 20, 30, 40])"
      ]
     },
     "execution_count": 29,
     "metadata": {},
     "output_type": "execute_result"
    }
   ],
   "source": [
    "B1 * B3"
   ]
  },
  {
   "cell_type": "code",
   "execution_count": 33,
   "id": "22e64dda",
   "metadata": {},
   "outputs": [],
   "source": [
    "C1 = np.array([[5,10,15],[11,12,20],[21,22,23]])\n",
    "C2 = np.array([[2,5],[6,7],[8,9]])"
   ]
  },
  {
   "cell_type": "code",
   "execution_count": 37,
   "id": "9639bdd9",
   "metadata": {},
   "outputs": [
    {
     "name": "stdout",
     "output_type": "stream",
     "text": [
      "[[ 5 10 15]\n",
      " [11 12 20]\n",
      " [21 22 23]]\n"
     ]
    }
   ],
   "source": [
    "print(C1)"
   ]
  },
  {
   "cell_type": "code",
   "execution_count": 36,
   "id": "6588f53a",
   "metadata": {},
   "outputs": [
    {
     "data": {
      "text/plain": [
       "array([[190, 230],\n",
       "       [254, 319],\n",
       "       [358, 466]])"
      ]
     },
     "execution_count": 36,
     "metadata": {},
     "output_type": "execute_result"
    }
   ],
   "source": [
    "#multiplication we do manually or with calci by using dot or @\n",
    "C1.dot(C2)"
   ]
  },
  {
   "cell_type": "code",
   "execution_count": 39,
   "id": "fbd65732",
   "metadata": {},
   "outputs": [
    {
     "data": {
      "text/plain": [
       "array([[ 5, 11, 21],\n",
       "       [10, 12, 22],\n",
       "       [15, 20, 23]])"
      ]
     },
     "execution_count": 39,
     "metadata": {},
     "output_type": "execute_result"
    }
   ],
   "source": [
    "#transpose\n",
    "C1.T"
   ]
  },
  {
   "cell_type": "code",
   "execution_count": 40,
   "id": "64af126d",
   "metadata": {},
   "outputs": [
    {
     "data": {
      "text/plain": [
       "array([[190, 230],\n",
       "       [254, 319],\n",
       "       [358, 466]])"
      ]
     },
     "execution_count": 40,
     "metadata": {},
     "output_type": "execute_result"
    }
   ],
   "source": [
    "C1 @ C2"
   ]
  },
  {
   "cell_type": "code",
   "execution_count": 42,
   "id": "a30d9622",
   "metadata": {},
   "outputs": [
    {
     "data": {
      "text/plain": [
       "array([[244, 291],\n",
       "       [268, 332],\n",
       "       [334, 422]])"
      ]
     },
     "execution_count": 42,
     "metadata": {},
     "output_type": "execute_result"
    }
   ],
   "source": [
    "C1.T.dot(C2)"
   ]
  },
  {
   "cell_type": "code",
   "execution_count": 43,
   "id": "e5715f63",
   "metadata": {},
   "outputs": [
    {
     "data": {
      "text/plain": [
       "array([[244, 291],\n",
       "       [268, 332],\n",
       "       [334, 422]])"
      ]
     },
     "execution_count": 43,
     "metadata": {},
     "output_type": "execute_result"
    }
   ],
   "source": [
    "C1.T @(C2)"
   ]
  },
  {
   "cell_type": "code",
   "execution_count": 44,
   "id": "bce171e6",
   "metadata": {},
   "outputs": [],
   "source": [
    "import numpy as np"
   ]
  },
  {
   "cell_type": "code",
   "execution_count": 45,
   "id": "adfcb779",
   "metadata": {},
   "outputs": [
    {
     "name": "stdout",
     "output_type": "stream",
     "text": [
      "[[57 22 37 86 50]\n",
      " [39 82 16 72  4]\n",
      " [53 45 53 23 28]\n",
      " [28 66 96 51 69]\n",
      " [56 77 79 58 84]]\n",
      "96\n",
      "4\n"
     ]
    }
   ],
   "source": [
    "list = np.random.randint(1,100,(5,5))\n",
    "print(list)\n",
    "print(np.max(list))\n",
    "print(np.min(list))"
   ]
  },
  {
   "cell_type": "code",
   "execution_count": 50,
   "id": "0c67b8bc",
   "metadata": {},
   "outputs": [
    {
     "name": "stdout",
     "output_type": "stream",
     "text": [
      "[79 35 29 52 73  4 29 14 30 49]\n",
      "[4, 14, 29, 29, 30, 35, 49, 52, 73, 79]\n"
     ]
    }
   ],
   "source": [
    "list = np.random.randint(1,100,10)\n",
    "print(list)\n",
    "print(sorted(list))"
   ]
  },
  {
   "cell_type": "code",
   "execution_count": 51,
   "id": "d619c1a4",
   "metadata": {},
   "outputs": [],
   "source": [
    "a = np.array([3,4,5])"
   ]
  },
  {
   "cell_type": "code",
   "execution_count": 52,
   "id": "7616e425",
   "metadata": {},
   "outputs": [],
   "source": [
    "b = np.array([3,5,4])"
   ]
  },
  {
   "cell_type": "code",
   "execution_count": 53,
   "id": "0bec6aea",
   "metadata": {},
   "outputs": [
    {
     "data": {
      "text/plain": [
       "array([ True, False, False])"
      ]
     },
     "execution_count": 53,
     "metadata": {},
     "output_type": "execute_result"
    }
   ],
   "source": [
    "a == b"
   ]
  },
  {
   "cell_type": "code",
   "execution_count": 58,
   "id": "7aca422a",
   "metadata": {},
   "outputs": [
    {
     "name": "stdout",
     "output_type": "stream",
     "text": [
      "[[ 1 22  2 70 20]\n",
      " [23 70 42 42  3]\n",
      " [65 77 78 10 82]\n",
      " [43 79  7 84 15]\n",
      " [48 95 92  4 63]]\n",
      "\n",
      " [[ 1 22  2 70 20]\n",
      " [23 70 42 42  3]\n",
      " [65 77 78 10 82]]\n"
     ]
    }
   ],
   "source": [
    "l = np.random.randint(1,100,(5,5))\n",
    "print(l)\n",
    "print(\"\\n\",l[0:3,:])"
   ]
  },
  {
   "cell_type": "code",
   "execution_count": 59,
   "id": "cc5c8c02",
   "metadata": {},
   "outputs": [
    {
     "name": "stdout",
     "output_type": "stream",
     "text": [
      "[32 73 13 96 95 76 79 17 19 21]\n",
      "[13, 17, 19, 21, 32, 73, 76, 79, 95, 96]\n",
      "[96, 95, 79, 76, 73, 32, 21, 19, 17, 13]\n"
     ]
    }
   ],
   "source": [
    "list = np.random.randint(1,100,10)\n",
    "print(list)\n",
    "print(sorted(list))\n",
    "print(sorted(list,reverse = True))"
   ]
  },
  {
   "cell_type": "code",
   "execution_count": 79,
   "id": "7056556c",
   "metadata": {},
   "outputs": [
    {
     "name": "stdout",
     "output_type": "stream",
     "text": [
      "[ 8  7 86 63 69 30 65 21 14 28  8 47 15  3 93]\n",
      "[93, 86, 69, 65, 63, 47, 30, 28, 21, 15, 14, 8, 8, 7, 3]\n"
     ]
    }
   ],
   "source": [
    "list = np.random.randint(1,100,15)\n",
    "print(list)\n",
    "S = sorted(list,reverse = True)\n",
    "print(S)"
   ]
  },
  {
   "cell_type": "code",
   "execution_count": 81,
   "id": "4b74d4a1",
   "metadata": {},
   "outputs": [
    {
     "data": {
      "text/plain": [
       "[-1, 86, 69, 65, 63, 47, 30, 28, 21, 15, 14, 8, 8, 7, 3]"
      ]
     },
     "execution_count": 81,
     "metadata": {},
     "output_type": "execute_result"
    }
   ],
   "source": [
    "S[0] = -1\n",
    "S"
   ]
  },
  {
   "cell_type": "code",
   "execution_count": 3,
   "id": "6b95394c",
   "metadata": {},
   "outputs": [
    {
     "name": "stdout",
     "output_type": "stream",
     "text": [
      "[[1 2 3 4]\n",
      " [3 5 4 2]\n",
      " [4 6 1 7]\n",
      " [5 3 3 1]\n",
      " [0 4 3 2]\n",
      " [1 9 8 3]]\n"
     ]
    }
   ],
   "source": [
    "#find the rows for which 1st value in the row is greater than 0\n",
    "A = [[1,2,3,4],[3,5,4,2],[4,6,1,7],[5,3,3,1],[0,4,3,2],[1,9,8,3]]\n",
    "A1 = np.array(A)\n",
    "print(A1)"
   ]
  },
  {
   "cell_type": "code",
   "execution_count": 6,
   "id": "710da24c",
   "metadata": {},
   "outputs": [
    {
     "name": "stdout",
     "output_type": "stream",
     "text": [
      "[3 5 4 2]\n",
      "[4 6 1 7]\n",
      "[5 3 3 1]\n"
     ]
    }
   ],
   "source": [
    "for i in A1:\n",
    "    if i[0] > 2:\n",
    "        print(i)"
   ]
  },
  {
   "cell_type": "code",
   "execution_count": null,
   "id": "e1dc7df6",
   "metadata": {},
   "outputs": [],
   "source": []
  }
 ],
 "metadata": {
  "kernelspec": {
   "display_name": "Python 3 (ipykernel)",
   "language": "python",
   "name": "python3"
  },
  "language_info": {
   "codemirror_mode": {
    "name": "ipython",
    "version": 3
   },
   "file_extension": ".py",
   "mimetype": "text/x-python",
   "name": "python",
   "nbconvert_exporter": "python",
   "pygments_lexer": "ipython3",
   "version": "3.9.7"
  }
 },
 "nbformat": 4,
 "nbformat_minor": 5
}
