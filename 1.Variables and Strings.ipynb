{
 "cells": [
  {
   "cell_type": "code",
   "execution_count": 2,
   "id": "49f3b736",
   "metadata": {},
   "outputs": [
    {
     "name": "stdout",
     "output_type": "stream",
     "text": [
      "100\n"
     ]
    }
   ],
   "source": [
    "A=100\n",
    "print(A)\n"
   ]
  },
  {
   "cell_type": "code",
   "execution_count": 3,
   "id": "a2616b07",
   "metadata": {},
   "outputs": [
    {
     "data": {
      "text/plain": [
       "int"
      ]
     },
     "execution_count": 3,
     "metadata": {},
     "output_type": "execute_result"
    }
   ],
   "source": [
    "type(A)"
   ]
  },
  {
   "cell_type": "code",
   "execution_count": 4,
   "id": "deceda23",
   "metadata": {},
   "outputs": [
    {
     "data": {
      "text/plain": [
       "2485335643600"
      ]
     },
     "execution_count": 4,
     "metadata": {},
     "output_type": "execute_result"
    }
   ],
   "source": [
    "id(A)"
   ]
  },
  {
   "cell_type": "code",
   "execution_count": 5,
   "id": "f61864ce",
   "metadata": {},
   "outputs": [
    {
     "name": "stdout",
     "output_type": "stream",
     "text": [
      "32.78\n"
     ]
    }
   ],
   "source": [
    "T=32.78\n",
    "print(T)"
   ]
  },
  {
   "cell_type": "code",
   "execution_count": 7,
   "id": "47cc9a17",
   "metadata": {},
   "outputs": [
    {
     "data": {
      "text/plain": [
       "2485415533808"
      ]
     },
     "execution_count": 7,
     "metadata": {},
     "output_type": "execute_result"
    }
   ],
   "source": [
    "id(T)"
   ]
  },
  {
   "cell_type": "code",
   "execution_count": 15,
   "id": "73feae93",
   "metadata": {},
   "outputs": [
    {
     "name": "stdout",
     "output_type": "stream",
     "text": [
      "100\n"
     ]
    }
   ],
   "source": [
    "A=100\n",
    "print(A)"
   ]
  },
  {
   "cell_type": "code",
   "execution_count": 16,
   "id": "404a2f5f",
   "metadata": {},
   "outputs": [
    {
     "name": "stdout",
     "output_type": "stream",
     "text": [
      "Hyderabad\n"
     ]
    }
   ],
   "source": [
    "city=\"Hyderabad\"\n",
    "print(city)"
   ]
  },
  {
   "cell_type": "code",
   "execution_count": 17,
   "id": "e06a5b8a",
   "metadata": {},
   "outputs": [
    {
     "data": {
      "text/plain": [
       "400"
      ]
     },
     "execution_count": 17,
     "metadata": {},
     "output_type": "execute_result"
    }
   ],
   "source": [
    "B=300\n",
    "A+B"
   ]
  },
  {
   "cell_type": "code",
   "execution_count": 18,
   "id": "d0acee6b",
   "metadata": {},
   "outputs": [
    {
     "data": {
      "text/plain": [
       "-200"
      ]
     },
     "execution_count": 18,
     "metadata": {},
     "output_type": "execute_result"
    }
   ],
   "source": [
    "A-B"
   ]
  },
  {
   "cell_type": "code",
   "execution_count": 19,
   "id": "989ad531",
   "metadata": {},
   "outputs": [
    {
     "data": {
      "text/plain": [
       "30000"
      ]
     },
     "execution_count": 19,
     "metadata": {},
     "output_type": "execute_result"
    }
   ],
   "source": [
    "A*B"
   ]
  },
  {
   "cell_type": "code",
   "execution_count": 20,
   "id": "627a520b",
   "metadata": {},
   "outputs": [
    {
     "data": {
      "text/plain": [
       "0.3333333333333333"
      ]
     },
     "execution_count": 20,
     "metadata": {},
     "output_type": "execute_result"
    }
   ],
   "source": [
    "A/B"
   ]
  },
  {
   "cell_type": "code",
   "execution_count": 21,
   "id": "9792a9af",
   "metadata": {},
   "outputs": [
    {
     "data": {
      "text/plain": [
       "100"
      ]
     },
     "execution_count": 21,
     "metadata": {},
     "output_type": "execute_result"
    }
   ],
   "source": [
    "A%B"
   ]
  },
  {
   "cell_type": "code",
   "execution_count": 22,
   "id": "ff964d16",
   "metadata": {},
   "outputs": [
    {
     "data": {
      "text/plain": [
       "3.0"
      ]
     },
     "execution_count": 22,
     "metadata": {},
     "output_type": "execute_result"
    }
   ],
   "source": [
    "B/A"
   ]
  },
  {
   "cell_type": "code",
   "execution_count": 23,
   "id": "1cc74f0e",
   "metadata": {},
   "outputs": [
    {
     "data": {
      "text/plain": [
       "0"
      ]
     },
     "execution_count": 23,
     "metadata": {},
     "output_type": "execute_result"
    }
   ],
   "source": [
    "B%A"
   ]
  },
  {
   "cell_type": "code",
   "execution_count": 24,
   "id": "10b7d1ba",
   "metadata": {},
   "outputs": [
    {
     "data": {
      "text/plain": [
       "9.151921903599755"
      ]
     },
     "execution_count": 24,
     "metadata": {},
     "output_type": "execute_result"
    }
   ],
   "source": [
    "B/T"
   ]
  },
  {
   "cell_type": "code",
   "execution_count": 25,
   "id": "2d613aac",
   "metadata": {},
   "outputs": [
    {
     "data": {
      "text/plain": [
       "9.0"
      ]
     },
     "execution_count": 25,
     "metadata": {},
     "output_type": "execute_result"
    }
   ],
   "source": [
    "B//T"
   ]
  },
  {
   "cell_type": "code",
   "execution_count": 26,
   "id": "e968f938",
   "metadata": {},
   "outputs": [
    {
     "data": {
      "text/plain": [
       "4.97999999999999"
      ]
     },
     "execution_count": 26,
     "metadata": {},
     "output_type": "execute_result"
    }
   ],
   "source": [
    "B%T"
   ]
  },
  {
   "cell_type": "code",
   "execution_count": 27,
   "id": "af64d032",
   "metadata": {},
   "outputs": [
    {
     "data": {
      "text/plain": [
       "132.78"
      ]
     },
     "execution_count": 27,
     "metadata": {},
     "output_type": "execute_result"
    }
   ],
   "source": [
    "A+T"
   ]
  },
  {
   "cell_type": "code",
   "execution_count": 28,
   "id": "e244f5ca",
   "metadata": {},
   "outputs": [
    {
     "data": {
      "text/plain": [
       "67.22"
      ]
     },
     "execution_count": 28,
     "metadata": {},
     "output_type": "execute_result"
    }
   ],
   "source": [
    "A-T"
   ]
  },
  {
   "cell_type": "code",
   "execution_count": 29,
   "id": "9d25c877",
   "metadata": {},
   "outputs": [
    {
     "ename": "TypeError",
     "evalue": "unsupported operand type(s) for +: 'int' and 'str'",
     "output_type": "error",
     "traceback": [
      "\u001b[1;31m---------------------------------------------------------------------------\u001b[0m",
      "\u001b[1;31mTypeError\u001b[0m                                 Traceback (most recent call last)",
      "\u001b[1;32mC:\\Users\\KUSUMI~1\\AppData\\Local\\Temp/ipykernel_7612/1340789275.py\u001b[0m in \u001b[0;36m<module>\u001b[1;34m\u001b[0m\n\u001b[1;32m----> 1\u001b[1;33m \u001b[0mA\u001b[0m\u001b[1;33m+\u001b[0m\u001b[0mcity\u001b[0m\u001b[1;33m\u001b[0m\u001b[1;33m\u001b[0m\u001b[0m\n\u001b[0m",
      "\u001b[1;31mTypeError\u001b[0m: unsupported operand type(s) for +: 'int' and 'str'"
     ]
    }
   ],
   "source": [
    "A+city"
   ]
  },
  {
   "cell_type": "code",
   "execution_count": 31,
   "id": "49a14e58",
   "metadata": {},
   "outputs": [
    {
     "data": {
      "text/plain": [
       "'100Hyderabad'"
      ]
     },
     "execution_count": 31,
     "metadata": {},
     "output_type": "execute_result"
    }
   ],
   "source": [
    "A=\"100\"\n",
    "A+city"
   ]
  },
  {
   "cell_type": "code",
   "execution_count": 34,
   "id": "2e8e41fe",
   "metadata": {},
   "outputs": [
    {
     "data": {
      "text/plain": [
       "'100'"
      ]
     },
     "execution_count": 34,
     "metadata": {},
     "output_type": "execute_result"
    }
   ],
   "source": [
    "A=100\n",
    "str(A)"
   ]
  },
  {
   "cell_type": "code",
   "execution_count": 35,
   "id": "1750bf09",
   "metadata": {},
   "outputs": [
    {
     "data": {
      "text/plain": [
       "'100Hyderabad'"
      ]
     },
     "execution_count": 35,
     "metadata": {},
     "output_type": "execute_result"
    }
   ],
   "source": [
    "str(A)+city"
   ]
  },
  {
   "cell_type": "code",
   "execution_count": 38,
   "id": "0e6cc0e0",
   "metadata": {},
   "outputs": [
    {
     "data": {
      "text/plain": [
       "'32.78Hyderabad'"
      ]
     },
     "execution_count": 38,
     "metadata": {},
     "output_type": "execute_result"
    }
   ],
   "source": [
    "str(T)+city"
   ]
  },
  {
   "cell_type": "code",
   "execution_count": 44,
   "id": "11db76dd",
   "metadata": {},
   "outputs": [
    {
     "data": {
      "text/plain": [
       "'100 Hyderabad'"
      ]
     },
     "execution_count": 44,
     "metadata": {},
     "output_type": "execute_result"
    }
   ],
   "source": [
    "str(A)+\" \"+city "
   ]
  },
  {
   "cell_type": "code",
   "execution_count": 45,
   "id": "e6bcf1e3",
   "metadata": {},
   "outputs": [
    {
     "data": {
      "text/plain": [
       "32"
      ]
     },
     "execution_count": 45,
     "metadata": {},
     "output_type": "execute_result"
    }
   ],
   "source": [
    "int(T)"
   ]
  },
  {
   "cell_type": "code",
   "execution_count": 47,
   "id": "661c9a42",
   "metadata": {},
   "outputs": [
    {
     "data": {
      "text/plain": [
       "132"
      ]
     },
     "execution_count": 47,
     "metadata": {},
     "output_type": "execute_result"
    }
   ],
   "source": [
    "A+int(T)"
   ]
  },
  {
   "cell_type": "code",
   "execution_count": 48,
   "id": "069a9e4a",
   "metadata": {},
   "outputs": [
    {
     "ename": "ValueError",
     "evalue": "invalid literal for int() with base 10: 'Hyderabad'",
     "output_type": "error",
     "traceback": [
      "\u001b[1;31m---------------------------------------------------------------------------\u001b[0m",
      "\u001b[1;31mValueError\u001b[0m                                Traceback (most recent call last)",
      "\u001b[1;32mC:\\Users\\KUSUMI~1\\AppData\\Local\\Temp/ipykernel_7612/3949568159.py\u001b[0m in \u001b[0;36m<module>\u001b[1;34m\u001b[0m\n\u001b[1;32m----> 1\u001b[1;33m \u001b[0mint\u001b[0m\u001b[1;33m(\u001b[0m\u001b[0mcity\u001b[0m\u001b[1;33m)\u001b[0m\u001b[1;33m\u001b[0m\u001b[1;33m\u001b[0m\u001b[0m\n\u001b[0m",
      "\u001b[1;31mValueError\u001b[0m: invalid literal for int() with base 10: 'Hyderabad'"
     ]
    }
   ],
   "source": [
    "int(city)"
   ]
  },
  {
   "cell_type": "code",
   "execution_count": 49,
   "id": "624dc102",
   "metadata": {},
   "outputs": [
    {
     "name": "stdout",
     "output_type": "stream",
     "text": [
      "228\n"
     ]
    }
   ],
   "source": [
    "P=\"228\"\n",
    "print(P)"
   ]
  },
  {
   "cell_type": "code",
   "execution_count": 50,
   "id": "5dcf8e55",
   "metadata": {},
   "outputs": [
    {
     "data": {
      "text/plain": [
       "228"
      ]
     },
     "execution_count": 50,
     "metadata": {},
     "output_type": "execute_result"
    }
   ],
   "source": [
    "int(P)"
   ]
  },
  {
   "cell_type": "code",
   "execution_count": 51,
   "id": "f6c40035",
   "metadata": {},
   "outputs": [
    {
     "data": {
      "text/plain": [
       "400.0"
      ]
     },
     "execution_count": 51,
     "metadata": {},
     "output_type": "execute_result"
    }
   ],
   "source": [
    "float(A)+B"
   ]
  },
  {
   "cell_type": "code",
   "execution_count": 60,
   "id": "69814d03",
   "metadata": {},
   "outputs": [],
   "source": [
    "name=\"kushmitha\"\n",
    "age=21\n",
    "city=\"hyderabad\"\n",
    "temparature=97.5\n",
    "country=\"india\""
   ]
  },
  {
   "cell_type": "code",
   "execution_count": 57,
   "id": "46afa7f6",
   "metadata": {},
   "outputs": [
    {
     "name": "stdout",
     "output_type": "stream",
     "text": [
      "21\n"
     ]
    }
   ],
   "source": [
    "print(age)"
   ]
  },
  {
   "cell_type": "code",
   "execution_count": 63,
   "id": "748533b3",
   "metadata": {},
   "outputs": [],
   "source": [
    "age=20"
   ]
  },
  {
   "cell_type": "code",
   "execution_count": 64,
   "id": "74e0932c",
   "metadata": {},
   "outputs": [
    {
     "name": "stdout",
     "output_type": "stream",
     "text": [
      "20\n"
     ]
    }
   ],
   "source": [
    "print(age)"
   ]
  },
  {
   "cell_type": "code",
   "execution_count": 66,
   "id": "261c66f2",
   "metadata": {},
   "outputs": [],
   "source": [
    "age=age-1"
   ]
  },
  {
   "cell_type": "code",
   "execution_count": 67,
   "id": "83606d12",
   "metadata": {},
   "outputs": [
    {
     "name": "stdout",
     "output_type": "stream",
     "text": [
      "19\n"
     ]
    }
   ],
   "source": [
    "print(age)"
   ]
  },
  {
   "cell_type": "code",
   "execution_count": 70,
   "id": "b63a5bfb",
   "metadata": {},
   "outputs": [
    {
     "data": {
      "text/plain": [
       "'My name is kushmitha.'"
      ]
     },
     "execution_count": 70,
     "metadata": {},
     "output_type": "execute_result"
    }
   ],
   "source": [
    "\"My name is \" +name+\".\""
   ]
  },
  {
   "cell_type": "code",
   "execution_count": 73,
   "id": "5e479d6b",
   "metadata": {},
   "outputs": [
    {
     "data": {
      "text/plain": [
       "'I am 19 years old'"
      ]
     },
     "execution_count": 73,
     "metadata": {},
     "output_type": "execute_result"
    }
   ],
   "source": [
    "\"I am \"+str(age)+\" years old\""
   ]
  },
  {
   "cell_type": "code",
   "execution_count": 74,
   "id": "8b83fb6d",
   "metadata": {},
   "outputs": [
    {
     "data": {
      "text/plain": [
       "'I live in hyderabad'"
      ]
     },
     "execution_count": 74,
     "metadata": {},
     "output_type": "execute_result"
    }
   ],
   "source": [
    "\"I live in \"+city"
   ]
  },
  {
   "cell_type": "code",
   "execution_count": 76,
   "id": "6881a01a",
   "metadata": {},
   "outputs": [
    {
     "data": {
      "text/plain": [
       "'Where temparature is of 97.5.'"
      ]
     },
     "execution_count": 76,
     "metadata": {},
     "output_type": "execute_result"
    }
   ],
   "source": [
    "\"Where temparature is of \"+str(temparature)"
   ]
  },
  {
   "cell_type": "code",
   "execution_count": 77,
   "id": "bada3dc9",
   "metadata": {},
   "outputs": [
    {
     "data": {
      "text/plain": [
       "'which is in india.'"
      ]
     },
     "execution_count": 77,
     "metadata": {},
     "output_type": "execute_result"
    }
   ],
   "source": [
    "\"which is in \"+country+\".\""
   ]
  },
  {
   "cell_type": "code",
   "execution_count": 84,
   "id": "d6df6007",
   "metadata": {},
   "outputs": [
    {
     "data": {
      "text/plain": [
       "'My name is kushmitha.I am 19 years old.I live in hyderabad Where temparature is of 97.5 ,which is in india.'"
      ]
     },
     "execution_count": 84,
     "metadata": {},
     "output_type": "execute_result"
    }
   ],
   "source": [
    "\"My name is \" +name+\".\"+\"I am \"+str(age)+\" years old\"+\".\"+\"I live in \"+city+\" \"\"Where temparature is of \"+str(temparature)+\" ,\"+\"which is in \"+country+\".\""
   ]
  },
  {
   "cell_type": "code",
   "execution_count": 1,
   "id": "346894ac",
   "metadata": {},
   "outputs": [],
   "source": [
    "name=\"Kushmitha\""
   ]
  },
  {
   "cell_type": "code",
   "execution_count": 2,
   "id": "590c3253",
   "metadata": {},
   "outputs": [
    {
     "data": {
      "text/plain": [
       "'i'"
      ]
     },
     "execution_count": 2,
     "metadata": {},
     "output_type": "execute_result"
    }
   ],
   "source": [
    "name[5]"
   ]
  },
  {
   "cell_type": "code",
   "execution_count": 3,
   "id": "c6999468",
   "metadata": {},
   "outputs": [
    {
     "data": {
      "text/plain": [
       "' '"
      ]
     },
     "execution_count": 3,
     "metadata": {},
     "output_type": "execute_result"
    }
   ],
   "source": [
    "c=\"Machine Learning\"\n",
    "c[7]"
   ]
  },
  {
   "cell_type": "code",
   "execution_count": 4,
   "id": "321f65bb",
   "metadata": {},
   "outputs": [
    {
     "data": {
      "text/plain": [
       "'L'"
      ]
     },
     "execution_count": 4,
     "metadata": {},
     "output_type": "execute_result"
    }
   ],
   "source": [
    "c[8]"
   ]
  },
  {
   "cell_type": "code",
   "execution_count": 5,
   "id": "5fffdcc1",
   "metadata": {},
   "outputs": [
    {
     "data": {
      "text/plain": [
       "'n'"
      ]
     },
     "execution_count": 5,
     "metadata": {},
     "output_type": "execute_result"
    }
   ],
   "source": [
    "c[12]"
   ]
  },
  {
   "cell_type": "code",
   "execution_count": 9,
   "id": "00816987",
   "metadata": {},
   "outputs": [
    {
     "data": {
      "text/plain": [
       "'McieLan'"
      ]
     },
     "execution_count": 9,
     "metadata": {},
     "output_type": "execute_result"
    }
   ],
   "source": [
    "c[0:14:2]"
   ]
  },
  {
   "cell_type": "code",
   "execution_count": 11,
   "id": "9b2d1ebc",
   "metadata": {},
   "outputs": [
    {
     "data": {
      "text/plain": [
       "'Learn'"
      ]
     },
     "execution_count": 11,
     "metadata": {},
     "output_type": "execute_result"
    }
   ],
   "source": [
    "c[8:13:1]"
   ]
  },
  {
   "cell_type": "code",
   "execution_count": 12,
   "id": "966a3d6f",
   "metadata": {},
   "outputs": [
    {
     "data": {
      "text/plain": [
       "'McieLann'"
      ]
     },
     "execution_count": 12,
     "metadata": {},
     "output_type": "execute_result"
    }
   ],
   "source": [
    "c[0:16:2]"
   ]
  },
  {
   "cell_type": "code",
   "execution_count": 13,
   "id": "10b59202",
   "metadata": {},
   "outputs": [
    {
     "data": {
      "text/plain": [
       "'Mheeng'"
      ]
     },
     "execution_count": 13,
     "metadata": {},
     "output_type": "execute_result"
    }
   ],
   "source": [
    "c[0:16:3]"
   ]
  },
  {
   "cell_type": "code",
   "execution_count": 14,
   "id": "4d75a27f",
   "metadata": {},
   "outputs": [
    {
     "data": {
      "text/plain": [
       "'Mac'"
      ]
     },
     "execution_count": 14,
     "metadata": {},
     "output_type": "execute_result"
    }
   ],
   "source": [
    "c[ :3:1]"
   ]
  },
  {
   "cell_type": "code",
   "execution_count": 15,
   "id": "205b9f10",
   "metadata": {},
   "outputs": [
    {
     "data": {
      "text/plain": [
       "'ing'"
      ]
     },
     "execution_count": 15,
     "metadata": {},
     "output_type": "execute_result"
    }
   ],
   "source": [
    "c[13: :1]"
   ]
  },
  {
   "cell_type": "code",
   "execution_count": 16,
   "id": "b1e9f0cb",
   "metadata": {},
   "outputs": [
    {
     "data": {
      "text/plain": [
       "'Machine Learning'"
      ]
     },
     "execution_count": 16,
     "metadata": {},
     "output_type": "execute_result"
    }
   ],
   "source": [
    "c[ : :1]"
   ]
  },
  {
   "cell_type": "code",
   "execution_count": 17,
   "id": "a85e209a",
   "metadata": {},
   "outputs": [
    {
     "data": {
      "text/plain": [
       "'Machine Learning'"
      ]
     },
     "execution_count": 17,
     "metadata": {},
     "output_type": "execute_result"
    }
   ],
   "source": [
    "c[ : : ]"
   ]
  },
  {
   "cell_type": "code",
   "execution_count": 33,
   "id": "b80ca86e",
   "metadata": {},
   "outputs": [],
   "source": [
    "name=\"Kushmitha\"\n",
    "age=21\n",
    "city=\"hyd\"\n",
    "state=\"Telangana\"\n",
    "aadhar=65486465463\n",
    "pan=\"IOKB5834\"\n",
    "country=\"India\"\n",
    "mobile=6304843235"
   ]
  },
  {
   "cell_type": "code",
   "execution_count": 22,
   "id": "dcb42376",
   "metadata": {},
   "outputs": [
    {
     "data": {
      "text/plain": [
       "'Kua'"
      ]
     },
     "execution_count": 22,
     "metadata": {},
     "output_type": "execute_result"
    }
   ],
   "source": [
    "name[0:2:1]+name[8]"
   ]
  },
  {
   "cell_type": "code",
   "execution_count": 42,
   "id": "16bf5d35",
   "metadata": {},
   "outputs": [
    {
     "data": {
      "text/plain": [
       "'2'"
      ]
     },
     "execution_count": 42,
     "metadata": {},
     "output_type": "execute_result"
    }
   ],
   "source": [
    "str(age)[0]"
   ]
  },
  {
   "cell_type": "code",
   "execution_count": 31,
   "id": "958bf417",
   "metadata": {},
   "outputs": [
    {
     "data": {
      "text/plain": [
       "'yd'"
      ]
     },
     "execution_count": 31,
     "metadata": {},
     "output_type": "execute_result"
    }
   ],
   "source": [
    "city[1: : ]"
   ]
  },
  {
   "cell_type": "code",
   "execution_count": 35,
   "id": "85568cd8",
   "metadata": {},
   "outputs": [
    {
     "data": {
      "text/plain": [
       "'ela'"
      ]
     },
     "execution_count": 35,
     "metadata": {},
     "output_type": "execute_result"
    }
   ],
   "source": [
    "state[1:4:1]"
   ]
  },
  {
   "cell_type": "code",
   "execution_count": 47,
   "id": "cb5d71e1",
   "metadata": {},
   "outputs": [
    {
     "data": {
      "text/plain": [
       "'654463'"
      ]
     },
     "execution_count": 47,
     "metadata": {},
     "output_type": "execute_result"
    }
   ],
   "source": [
    "str(aadhar)[0:3]+str(aadhar)[8: ]"
   ]
  },
  {
   "cell_type": "code",
   "execution_count": 43,
   "id": "f316fb35",
   "metadata": {},
   "outputs": [
    {
     "data": {
      "text/plain": [
       "'IO584'"
      ]
     },
     "execution_count": 43,
     "metadata": {},
     "output_type": "execute_result"
    }
   ],
   "source": [
    "pan[ :2]+pan[4:6]+pan[7]"
   ]
  },
  {
   "cell_type": "code",
   "execution_count": 48,
   "id": "e8bfac81",
   "metadata": {},
   "outputs": [
    {
     "data": {
      "text/plain": [
       "'Ind'"
      ]
     },
     "execution_count": 48,
     "metadata": {},
     "output_type": "execute_result"
    }
   ],
   "source": [
    "country[0:3:]"
   ]
  },
  {
   "cell_type": "code",
   "execution_count": 49,
   "id": "8b0c58ba",
   "metadata": {},
   "outputs": [
    {
     "data": {
      "text/plain": [
       "'43235'"
      ]
     },
     "execution_count": 49,
     "metadata": {},
     "output_type": "execute_result"
    }
   ],
   "source": [
    "str(mobile)[5: ]"
   ]
  },
  {
   "cell_type": "code",
   "execution_count": 50,
   "id": "658b6466",
   "metadata": {},
   "outputs": [
    {
     "data": {
      "text/plain": [
       "'Kua2ydela654463IO584Ind43235'"
      ]
     },
     "execution_count": 50,
     "metadata": {},
     "output_type": "execute_result"
    }
   ],
   "source": [
    "name[0:2:1]+name[8]+str(age)[0]+city[1: : ]+state[1:4:1]+str(aadhar)[0:3]+str(aadhar)[8: ]+pan[ :2]+pan[4:6]+pan[7]+country[0:3:]+str(mobile)[5: ]"
   ]
  },
  {
   "cell_type": "code",
   "execution_count": 51,
   "id": "e5da41b2",
   "metadata": {},
   "outputs": [],
   "source": [
    "c=\"Machine Learning\""
   ]
  },
  {
   "cell_type": "code",
   "execution_count": 53,
   "id": "90325325",
   "metadata": {},
   "outputs": [
    {
     "data": {
      "text/plain": [
       "2"
      ]
     },
     "execution_count": 53,
     "metadata": {},
     "output_type": "execute_result"
    }
   ],
   "source": [
    "c.count(\"i\")"
   ]
  },
  {
   "cell_type": "code",
   "execution_count": 54,
   "id": "b3493282",
   "metadata": {},
   "outputs": [
    {
     "data": {
      "text/plain": [
       "0"
      ]
     },
     "execution_count": 54,
     "metadata": {},
     "output_type": "execute_result"
    }
   ],
   "source": [
    "c.count(\"z\")"
   ]
  },
  {
   "cell_type": "code",
   "execution_count": 56,
   "id": "eb5cf63a",
   "metadata": {},
   "outputs": [
    {
     "data": {
      "text/plain": [
       "4"
      ]
     },
     "execution_count": 56,
     "metadata": {},
     "output_type": "execute_result"
    }
   ],
   "source": [
    "c.find(\"i\")"
   ]
  },
  {
   "cell_type": "code",
   "execution_count": 57,
   "id": "06c97f73",
   "metadata": {},
   "outputs": [
    {
     "data": {
      "text/plain": [
       "13"
      ]
     },
     "execution_count": 57,
     "metadata": {},
     "output_type": "execute_result"
    }
   ],
   "source": [
    "c.find(\"i\",5)"
   ]
  },
  {
   "cell_type": "code",
   "execution_count": 58,
   "id": "ce265541",
   "metadata": {},
   "outputs": [
    {
     "data": {
      "text/plain": [
       "'Deep Learning'"
      ]
     },
     "execution_count": 58,
     "metadata": {},
     "output_type": "execute_result"
    }
   ],
   "source": [
    "c.replace(\"Machine\",\"Deep\")"
   ]
  },
  {
   "cell_type": "code",
   "execution_count": 59,
   "id": "630190d0",
   "metadata": {},
   "outputs": [
    {
     "name": "stdout",
     "output_type": "stream",
     "text": [
      "Machine Learning\n"
     ]
    }
   ],
   "source": [
    "print(c)"
   ]
  },
  {
   "cell_type": "code",
   "execution_count": 60,
   "id": "e00f1459",
   "metadata": {},
   "outputs": [],
   "source": [
    "c=c.replace(\"Machine\",\"Deep\")"
   ]
  },
  {
   "cell_type": "code",
   "execution_count": 61,
   "id": "849330eb",
   "metadata": {},
   "outputs": [
    {
     "name": "stdout",
     "output_type": "stream",
     "text": [
      "Deep Learning\n"
     ]
    }
   ],
   "source": [
    "print(c)"
   ]
  },
  {
   "cell_type": "code",
   "execution_count": 62,
   "id": "9e7197f0",
   "metadata": {},
   "outputs": [
    {
     "data": {
      "text/plain": [
       "['Deep', 'Learning']"
      ]
     },
     "execution_count": 62,
     "metadata": {},
     "output_type": "execute_result"
    }
   ],
   "source": [
    "c.split()"
   ]
  },
  {
   "cell_type": "code",
   "execution_count": 63,
   "id": "53604fa2",
   "metadata": {},
   "outputs": [
    {
     "data": {
      "text/plain": [
       "['deep', 'learn', 'ing', 'concepts']"
      ]
     },
     "execution_count": 63,
     "metadata": {},
     "output_type": "execute_result"
    }
   ],
   "source": [
    "c=\"deep learn ing concepts\"\n",
    "c.split()"
   ]
  },
  {
   "cell_type": "code",
   "execution_count": 64,
   "id": "3b92fcbe",
   "metadata": {},
   "outputs": [
    {
     "data": {
      "text/plain": [
       "['d', '', 'p l', 'arn ing conc', 'pts']"
      ]
     },
     "execution_count": 64,
     "metadata": {},
     "output_type": "execute_result"
    }
   ],
   "source": [
    "c.split(\"e\")"
   ]
  },
  {
   "cell_type": "code",
   "execution_count": 1,
   "id": "012a79b2",
   "metadata": {},
   "outputs": [],
   "source": [
    "text=\"A learning management system (LMS) is a software application or web-based technology used to plan, implement and assess a specific learning process. It is used for eLearning practices and, in its most common form, consists of two elements: a server that performs the base functionality and a user interface that is operated by instructors, students and administrators.\""
   ]
  },
  {
   "cell_type": "code",
   "execution_count": 2,
   "id": "79b8b1d6",
   "metadata": {},
   "outputs": [
    {
     "data": {
      "text/plain": [
       "'A learning management system (LMS) was a software application or web-based technology used to plan, implement and assess a specific learning process. It was used for eLearning practices and, in its most common form, conswasts of two elements: a server that performs the base functionality and a user interface that was operated by instructors, students and adminwastrators.'"
      ]
     },
     "execution_count": 2,
     "metadata": {},
     "output_type": "execute_result"
    }
   ],
   "source": [
    "text.replace(\"is\",\"was\")"
   ]
  },
  {
   "cell_type": "code",
   "execution_count": 73,
   "id": "a74bff1a",
   "metadata": {
    "scrolled": true
   },
   "outputs": [
    {
     "data": {
      "text/plain": [
       "'A learning management system (LMS) is a software application or web-based technology used to plan, implement and assess a specific learning process. It is used for eLearning practices and, in its most common form, consists of two elements: a server that performs at base functionality and a user interface that is operated by instructors, students and administrators.'"
      ]
     },
     "execution_count": 73,
     "metadata": {},
     "output_type": "execute_result"
    }
   ],
   "source": [
    "text.replace(\"the\",\"at\")"
   ]
  },
  {
   "cell_type": "code",
   "execution_count": 72,
   "id": "cac7d1de",
   "metadata": {},
   "outputs": [
    {
     "data": {
      "text/plain": [
       "['A learning management system (LMS) is a software application or web-based technology used to plan, implement and assess a specific learning process',\n",
       " ' It is used for eLearning practices and, in its most common form, consists of two elements: a server that performs the base functionality and a user interface that is operated by instructors, students and administrators',\n",
       " '']"
      ]
     },
     "execution_count": 72,
     "metadata": {},
     "output_type": "execute_result"
    }
   ],
   "source": [
    "text.split(\".\")"
   ]
  },
  {
   "cell_type": "code",
   "execution_count": 6,
   "id": "21923473",
   "metadata": {},
   "outputs": [],
   "source": [
    "S=\"machine Learning\""
   ]
  },
  {
   "cell_type": "code",
   "execution_count": 8,
   "id": "173875fe",
   "metadata": {},
   "outputs": [
    {
     "data": {
      "text/plain": [
       "'MACHINE LEARNING'"
      ]
     },
     "execution_count": 8,
     "metadata": {},
     "output_type": "execute_result"
    }
   ],
   "source": [
    "S.upper()"
   ]
  },
  {
   "cell_type": "code",
   "execution_count": 9,
   "id": "2e8480d9",
   "metadata": {},
   "outputs": [
    {
     "data": {
      "text/plain": [
       "'machine learning'"
      ]
     },
     "execution_count": 9,
     "metadata": {},
     "output_type": "execute_result"
    }
   ],
   "source": [
    "S.lower()"
   ]
  },
  {
   "cell_type": "code",
   "execution_count": 10,
   "id": "6aa96317",
   "metadata": {},
   "outputs": [
    {
     "data": {
      "text/plain": [
       "'Machine Learning'"
      ]
     },
     "execution_count": 10,
     "metadata": {},
     "output_type": "execute_result"
    }
   ],
   "source": [
    "S.title()"
   ]
  },
  {
   "cell_type": "code",
   "execution_count": 11,
   "id": "9076adfd",
   "metadata": {},
   "outputs": [
    {
     "data": {
      "text/plain": [
       "'Machine learning'"
      ]
     },
     "execution_count": 11,
     "metadata": {},
     "output_type": "execute_result"
    }
   ],
   "source": [
    "S.capitalize()"
   ]
  },
  {
   "cell_type": "code",
   "execution_count": 12,
   "id": "76868cdb",
   "metadata": {},
   "outputs": [
    {
     "data": {
      "text/plain": [
       "False"
      ]
     },
     "execution_count": 12,
     "metadata": {},
     "output_type": "execute_result"
    }
   ],
   "source": [
    "S.isdigit()"
   ]
  },
  {
   "cell_type": "code",
   "execution_count": 17,
   "id": "58357377",
   "metadata": {},
   "outputs": [],
   "source": [
    "t=\"777\""
   ]
  },
  {
   "cell_type": "code",
   "execution_count": 18,
   "id": "40d08653",
   "metadata": {},
   "outputs": [
    {
     "data": {
      "text/plain": [
       "True"
      ]
     },
     "execution_count": 18,
     "metadata": {},
     "output_type": "execute_result"
    }
   ],
   "source": [
    "t.isdigit()"
   ]
  },
  {
   "cell_type": "code",
   "execution_count": 19,
   "id": "3c402054",
   "metadata": {},
   "outputs": [],
   "source": [
    "t=\"5647jnjh\""
   ]
  },
  {
   "cell_type": "code",
   "execution_count": 20,
   "id": "1c2c71ef",
   "metadata": {},
   "outputs": [
    {
     "data": {
      "text/plain": [
       "False"
      ]
     },
     "execution_count": 20,
     "metadata": {},
     "output_type": "execute_result"
    }
   ],
   "source": [
    "t.isdigit()"
   ]
  },
  {
   "cell_type": "code",
   "execution_count": 21,
   "id": "79f29839",
   "metadata": {},
   "outputs": [],
   "source": [
    "s=\" Machine Learning \""
   ]
  },
  {
   "cell_type": "code",
   "execution_count": 22,
   "id": "bbc57ba5",
   "metadata": {},
   "outputs": [
    {
     "data": {
      "text/plain": [
       "'Machine Learning'"
      ]
     },
     "execution_count": 22,
     "metadata": {},
     "output_type": "execute_result"
    }
   ],
   "source": [
    "s.strip()"
   ]
  },
  {
   "cell_type": "code",
   "execution_count": 25,
   "id": "beaffa82",
   "metadata": {},
   "outputs": [
    {
     "data": {
      "text/plain": [
       "str"
      ]
     },
     "execution_count": 25,
     "metadata": {},
     "output_type": "execute_result"
    }
   ],
   "source": [
    "type(s)"
   ]
  },
  {
   "cell_type": "code",
   "execution_count": 26,
   "id": "0e9c2f51",
   "metadata": {},
   "outputs": [
    {
     "data": {
      "text/plain": [
       "16"
      ]
     },
     "execution_count": 26,
     "metadata": {},
     "output_type": "execute_result"
    }
   ],
   "source": [
    "len(S)"
   ]
  },
  {
   "cell_type": "code",
   "execution_count": 27,
   "id": "9f9ea193",
   "metadata": {},
   "outputs": [
    {
     "name": "stdout",
     "output_type": "stream",
     "text": [
      " Machine Learning \n"
     ]
    }
   ],
   "source": [
    "print(s)"
   ]
  },
  {
   "cell_type": "code",
   "execution_count": null,
   "id": "7546fc15",
   "metadata": {},
   "outputs": [],
   "source": []
  }
 ],
 "metadata": {
  "kernelspec": {
   "display_name": "Python 3 (ipykernel)",
   "language": "python",
   "name": "python3"
  },
  "language_info": {
   "codemirror_mode": {
    "name": "ipython",
    "version": 3
   },
   "file_extension": ".py",
   "mimetype": "text/x-python",
   "name": "python",
   "nbconvert_exporter": "python",
   "pygments_lexer": "ipython3",
   "version": "3.9.7"
  }
 },
 "nbformat": 4,
 "nbformat_minor": 5
}
