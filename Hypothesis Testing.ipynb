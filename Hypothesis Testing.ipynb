{
 "cells": [
  {
   "cell_type": "markdown",
   "id": "3ba3c908",
   "metadata": {},
   "source": [
    "### Hypothesis Testing:\n",
    "\n",
    "The actual test begins by considering two hypotheses. They are called the null hypothesis and the alternative hypothesis. These hypotheses contain opposing viewpoints.\n",
    "\n",
    "- H0: The null hypothesis: It is a statement about the population that either is believed to be true or is used to put forth an argument unless it can be shown to be incorrect beyond a reasonable doubt.\n",
    "\n",
    "- Ha: The alternative hypothesis: It is a claim about the population that is contradictory to H0 and what we conclude when we reject H0.\n",
    "\n",
    "Since the null and alternative hypotheses are contradictory, you must examine evidence to decide if you have enough evidence to reject the null hypothesis or not. The evidence is in the form of sample data."
   ]
  },
  {
   "cell_type": "markdown",
   "id": "53e91d84",
   "metadata": {},
   "source": [
    "**Example-1:**\n",
    "\n",
    "A principal at a certain school claims that the students in his school are above average intelligence. \n",
    "A random sample of thirty students IQ scores have a mean score of 112.5. Is there sufficient evidence to \n",
    "support the principal’s claim? The mean population IQ is 100 with a standard deviation of 15."
   ]
  },
  {
   "cell_type": "markdown",
   "id": "17c44777",
   "metadata": {},
   "source": [
    "Step - 1:\n",
    "    - H0: The students in his school are not above average intelligence.\n",
    "    - H1: The students in his school are above average intelligence.\n",
    "    \n",
    "Step - 2:\n",
    "    - level of significance $\\alpha$ = 0.05"
   ]
  },
  {
   "cell_type": "code",
   "execution_count": 1,
   "id": "aa260cf8",
   "metadata": {},
   "outputs": [],
   "source": [
    "alpha = 0.05"
   ]
  },
  {
   "cell_type": "code",
   "execution_count": 2,
   "id": "65b91bee",
   "metadata": {},
   "outputs": [
    {
     "data": {
      "text/plain": [
       "4.487637339278753"
      ]
     },
     "execution_count": 2,
     "metadata": {},
     "output_type": "execute_result"
    }
   ],
   "source": [
    "sample_mean = 112.5\n",
    "pop_mean = 100\n",
    "sample_size = 30\n",
    "sd = 15\n",
    "numerator = sample_mean - pop_mean\n",
    "denominator = sd/(sample_size - 1)**0.5\n",
    "t_score = numerator/denominator\n",
    "t_score"
   ]
  },
  {
   "cell_type": "code",
   "execution_count": 3,
   "id": "e50045e1",
   "metadata": {},
   "outputs": [],
   "source": [
    "from scipy import stats"
   ]
  },
  {
   "cell_type": "code",
   "execution_count": 4,
   "id": "bf3d4f3c",
   "metadata": {},
   "outputs": [],
   "source": [
    "p_val = 1 - stats.t.cdf(t_score,sample_size - 1)"
   ]
  },
  {
   "cell_type": "code",
   "execution_count": 9,
   "id": "6dee3ba6",
   "metadata": {},
   "outputs": [
    {
     "name": "stdout",
     "output_type": "stream",
     "text": [
      "Reject H0: The students in his school are above average intelligence.\n"
     ]
    }
   ],
   "source": [
    "if p_val <= alpha:\n",
    "    print(\"Reject H0: The students in his school are above average intelligence.\")\n",
    "else:\n",
    "    print(\"Reject H1: The students in his school are not above average intelligence.\")"
   ]
  },
  {
   "cell_type": "markdown",
   "id": "48e92561",
   "metadata": {},
   "source": [
    "**Example - 2**\n",
    "\n",
    "Blood glucose levels for obese patients have a mean of 100 with a standard deviation of 15. \n",
    "A researcher thinks that a diet high in raw cornstarch will have a positive or negative effect \n",
    "on blood glucose levels. \n",
    "A sample of 30 patients who have tried the raw cornstarch diet have a mean glucose level of 140. \n",
    " Test the hypothesis that the raw cornstarch had an effect.\n",
    "\n"
   ]
  },
  {
   "cell_type": "code",
   "execution_count": 5,
   "id": "fd43acf8",
   "metadata": {},
   "outputs": [],
   "source": [
    "alpha = 0.05"
   ]
  },
  {
   "cell_type": "code",
   "execution_count": 6,
   "id": "b307946c",
   "metadata": {},
   "outputs": [
    {
     "data": {
      "text/plain": [
       "14.36043948569201"
      ]
     },
     "execution_count": 6,
     "metadata": {},
     "output_type": "execute_result"
    }
   ],
   "source": [
    "sample_mean = 140\n",
    "pop_mean = 100\n",
    "sample_size = 30\n",
    "sd = 15\n",
    "numerator = sample_mean - pop_mean\n",
    "denominator = sd/(sample_size - 1)**0.5\n",
    "t_score = numerator/denominator\n",
    "t_score"
   ]
  },
  {
   "cell_type": "code",
   "execution_count": 7,
   "id": "fd16bb1e",
   "metadata": {},
   "outputs": [],
   "source": [
    "p_val = 2*( 1 - stats.t.cdf(t_score,sample_size - 1))"
   ]
  },
  {
   "cell_type": "code",
   "execution_count": 8,
   "id": "d37343bf",
   "metadata": {},
   "outputs": [
    {
     "data": {
      "text/plain": [
       "1.0436096431476471e-14"
      ]
     },
     "execution_count": 8,
     "metadata": {},
     "output_type": "execute_result"
    }
   ],
   "source": [
    "p_val"
   ]
  },
  {
   "cell_type": "code",
   "execution_count": 11,
   "id": "001c4d44",
   "metadata": {},
   "outputs": [
    {
     "name": "stdout",
     "output_type": "stream",
     "text": [
      "Reject H0: diet high in raw cornstarch will have a positive or negative effect on blood glucose levels.\n"
     ]
    }
   ],
   "source": [
    "if p_val <= alpha:\n",
    "    print(\"Reject H0: diet high in raw cornstarch will have a positive or negative effect on blood glucose levels.\")\n",
    "else:\n",
    "    print(\"Reject H1: diet high in raw cornstarch will not have any positive or negative effect on blood glucose levels\")"
   ]
  },
  {
   "cell_type": "markdown",
   "id": "a2047efe",
   "metadata": {},
   "source": [
    "**Example-3:** \n",
    "\n",
    "A sample of 200 people has a mean age of 21 with a population standard deviation (σ) of 5. \n",
    "Test the hypothesis that the population mean is 18.9 at α = 0.05."
   ]
  },
  {
   "cell_type": "markdown",
   "id": "33f76ab9",
   "metadata": {},
   "source": [
    "**Example-4:** \n",
    "\n",
    "Say your friend, told you that he thinks data scientists earn more than 125,000 dollars per year. \n",
    "You doubt him, so you design a test to see who’s right. sample mean is 100000 and std is \n",
    "200 of 200 observations."
   ]
  },
  {
   "cell_type": "markdown",
   "id": "6a1e324b",
   "metadata": {},
   "source": [
    "**Example-5:**\n",
    "\n",
    "A medical trial is conducted to test whether or not a new medicine reduces cholesterol by 25%. \n",
    "State the null and alternative hypotheses."
   ]
  },
  {
   "cell_type": "markdown",
   "id": "b17f0c7f",
   "metadata": {},
   "source": [
    "**Example-6:** \n",
    "\n",
    "We want to test if it takes fewer than 45 minutes to teach a lesson plan. \n",
    "State the null and alternative hypotheses. Fill in the correct symbol ( =, ≠, ≥, <, ≤, >) \n",
    "for the null and alternative hypotheses.\n",
    "- H0: μ __ 45 \n",
    "- Ha:μ __ 45"
   ]
  },
  {
   "cell_type": "markdown",
   "id": "dbb51f6e",
   "metadata": {},
   "source": [
    "**Example-7:** \n",
    "\n",
    "\n",
    "On a state driver’s test, about 40% pass the test on the first try. We want to test if more than 40% \n",
    "pass on the first try. Fill in the correct symbol (=, ≠, ≥, <, ≤, >) for the null and alternative hypotheses.\n",
    "- H0: p __ 0.40 \n",
    "- Ha: p __ 0.40"
   ]
  },
  {
   "cell_type": "markdown",
   "id": "f0020bce",
   "metadata": {},
   "source": [
    "**Example-8:**\n",
    "\n",
    "A factory is producing the bolts with the average diameter 21mm. A random sample pf 25 bolts has a mean diameter 22.6mm and standard deviation 3mm. Can we assune that the sample has been drawn from the population at 5% level of significance"
   ]
  },
  {
   "cell_type": "code",
   "execution_count": null,
   "id": "f6301511",
   "metadata": {},
   "outputs": [],
   "source": []
  }
 ],
 "metadata": {
  "kernelspec": {
   "display_name": "Python 3 (ipykernel)",
   "language": "python",
   "name": "python3"
  },
  "language_info": {
   "codemirror_mode": {
    "name": "ipython",
    "version": 3
   },
   "file_extension": ".py",
   "mimetype": "text/x-python",
   "name": "python",
   "nbconvert_exporter": "python",
   "pygments_lexer": "ipython3",
   "version": "3.9.7"
  }
 },
 "nbformat": 4,
 "nbformat_minor": 5
}
