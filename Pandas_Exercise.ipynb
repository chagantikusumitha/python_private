{
 "cells": [
  {
   "cell_type": "markdown",
   "metadata": {},
   "source": [
    "# Use Pivot in excel and then do it in python"
   ]
  },
  {
   "cell_type": "markdown",
   "metadata": {},
   "source": [
    "1) Total number of rows and columns  \n",
    "2) Which columns are categorical  \n",
    "3) Which columns are numerical  \n",
    "4) Number of missing values for each column?   \n",
    "5) Number of orders from each country?   \n",
    "6) Which country has highest orders   \n",
    "7) Which Sales channel has more profit in general? and which Sales channel has more profit per order?    \n",
    "8) Number of orders for each item_type?  \n",
    "9) Which item_type has lowest orders?  \n",
    "10) Which item_type is most profitable?  \n",
    "11)  How many Orders have Priority of \"H\"  \n",
    "12) Which year has highest orders  \n",
    "13) Which is least profitable Item_Type  \n",
    "14) What is average Unit_selling price of different Item_types   \n",
    "15) Which Item_Type has most units sold  \n",
    "16) Which Sales_Channel has least number of orders  \n",
    "17) Number of orders for each country and region combination   \n",
    "18) Which country is taking more dispatch_time   \n",
    "19) What is average disptach time for different Order Priorities   \n",
    "20) Are there any duplicate Order_ID's?   \n",
    "\n",
    "21) Create a new column  Total_Revenue   \n",
    "Units_Sold multiplied by Unit_SellingPrice\n",
    "\n",
    "22) Create a new column  Total_Cost   \n",
    "Units_Sold multiplied by Unit_MakingCost\n",
    "\n",
    "23) Create a new column Total_Profit   \n",
    "#Total_Profit is nothing but Total_Revenue -  Total_Cost   \n",
    "\n",
    "24) Create a new column Dipatch_Time   \n",
    "Google how to convert date columns to date format and subtract Order_Date from Ship_Date   \n",
    "\n",
    "##### Difficult  \n",
    "25) Create a new data frame with 3 columns  to have these values \n",
    "Month, Year, Number of Orders   "
   ]
  }
 ],
 "metadata": {
  "kernelspec": {
   "display_name": "Python 3 (ipykernel)",
   "language": "python",
   "name": "python3"
  },
  "language_info": {
   "codemirror_mode": {
    "name": "ipython",
    "version": 3
   },
   "file_extension": ".py",
   "mimetype": "text/x-python",
   "name": "python",
   "nbconvert_exporter": "python",
   "pygments_lexer": "ipython3",
   "version": "3.9.7"
  }
 },
 "nbformat": 4,
 "nbformat_minor": 2
}
