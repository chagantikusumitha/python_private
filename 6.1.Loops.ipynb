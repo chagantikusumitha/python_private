{
 "cells": [
  {
   "cell_type": "code",
   "execution_count": 1,
   "id": "a4fd0c32",
   "metadata": {},
   "outputs": [],
   "source": [
    "l=[20,40,60,80,50]"
   ]
  },
  {
   "cell_type": "code",
   "execution_count": 8,
   "id": "94125535",
   "metadata": {},
   "outputs": [
    {
     "name": "stdout",
     "output_type": "stream",
     "text": [
      "22\n",
      "42\n",
      "62\n",
      "82\n",
      "52\n"
     ]
    }
   ],
   "source": [
    "for i in l:\n",
    "    print(i+2)"
   ]
  },
  {
   "cell_type": "code",
   "execution_count": 6,
   "id": "638b7020",
   "metadata": {},
   "outputs": [
    {
     "name": "stdout",
     "output_type": "stream",
     "text": [
      "22\n",
      "42\n",
      "62\n",
      "82\n",
      "52\n",
      "23\n",
      "43\n",
      "63\n",
      "83\n",
      "53\n"
     ]
    }
   ],
   "source": [
    "for i in l:\n",
    "    print(i+2)\n",
    "for i in l:\n",
    "    print(i+3)"
   ]
  },
  {
   "cell_type": "code",
   "execution_count": 11,
   "id": "b3fe8eb1",
   "metadata": {},
   "outputs": [
    {
     "name": "stdout",
     "output_type": "stream",
     "text": [
      "22 42 62 82 52 "
     ]
    }
   ],
   "source": [
    "for i in l:\n",
    "    print(i+2,end=\" \")"
   ]
  },
  {
   "cell_type": "code",
   "execution_count": 12,
   "id": "83397191",
   "metadata": {},
   "outputs": [],
   "source": [
    "l=[20,33,60,80,90]"
   ]
  },
  {
   "cell_type": "code",
   "execution_count": 17,
   "id": "e0f7b525",
   "metadata": {},
   "outputs": [
    {
     "name": "stdout",
     "output_type": "stream",
     "text": [
      "fail\n",
      "fail\n",
      "pass\n",
      "pass\n",
      "pass\n"
     ]
    }
   ],
   "source": [
    "for i in l:\n",
    "    if(i < 36):\n",
    "      print(\"fail\")\n",
    "    else:\n",
    "      print(\"pass\")"
   ]
  },
  {
   "cell_type": "code",
   "execution_count": 21,
   "id": "ec7939ba",
   "metadata": {},
   "outputs": [
    {
     "name": "stdout",
     "output_type": "stream",
     "text": [
      "90\n"
     ]
    }
   ],
   "source": [
    "m=0\n",
    "for i in l:\n",
    "    if(m < i):\n",
    "        m = i\n",
    "print(m)"
   ]
  },
  {
   "cell_type": "code",
   "execution_count": 22,
   "id": "71f8fab7",
   "metadata": {},
   "outputs": [
    {
     "name": "stdout",
     "output_type": "stream",
     "text": [
      "415\n"
     ]
    }
   ],
   "source": [
    "L=[20,99,33,33,60,80,90]\n",
    "m=0\n",
    "for i in L:\n",
    "    m = m + i\n",
    "print(m)\n"
   ]
  },
  {
   "cell_type": "code",
   "execution_count": 23,
   "id": "059c98fc",
   "metadata": {},
   "outputs": [
    {
     "name": "stdout",
     "output_type": "stream",
     "text": [
      "99\n"
     ]
    }
   ],
   "source": [
    "m=0\n",
    "for i in L:\n",
    "    if(m < i):\n",
    "        m = i\n",
    "print(m)"
   ]
  },
  {
   "cell_type": "code",
   "execution_count": 29,
   "id": "a861ad9b",
   "metadata": {},
   "outputs": [
    {
     "name": "stdout",
     "output_type": "stream",
     "text": [
      "1 3 5 7 9 11 13 15 17 19 21 23 25 27 29 31 33 35 37 39 41 43 45 47 49 51 53 55 57 59 61 63 65 67 69 71 73 75 77 79 81 83 85 87 89 91 93 95 97 99 "
     ]
    }
   ],
   "source": [
    "for i in range(1,101):  \n",
    "    if( i % 2 == 1):                 \n",
    "        print(i,end=\" \")\n",
    "    "
   ]
  },
  {
   "cell_type": "code",
   "execution_count": 31,
   "id": "6999b923",
   "metadata": {},
   "outputs": [
    {
     "name": "stdout",
     "output_type": "stream",
     "text": [
      "1275\n"
     ]
    }
   ],
   "source": [
    "sum=0\n",
    "for i in range(0,51):\n",
    "    sum = sum + i\n",
    "print(sum)\n"
   ]
  },
  {
   "cell_type": "code",
   "execution_count": 37,
   "id": "6ee64006",
   "metadata": {},
   "outputs": [
    {
     "name": "stdout",
     "output_type": "stream",
     "text": [
      "Enter the number : 96\n",
      "96 * 1 = 96\n",
      "96 * 2 = 192\n",
      "96 * 3 = 288\n",
      "96 * 4 = 384\n",
      "96 * 5 = 480\n",
      "96 * 6 = 576\n",
      "96 * 7 = 672\n",
      "96 * 8 = 768\n",
      "96 * 9 = 864\n",
      "96 * 10 = 960\n"
     ]
    }
   ],
   "source": [
    "number = int(input (\"Enter the number : \"))      \n",
    "for i in range(1, 11):      \n",
    "   print (number, '*', i, '=', number * i)      "
   ]
  },
  {
   "cell_type": "code",
   "execution_count": 38,
   "id": "e99f0806",
   "metadata": {},
   "outputs": [
    {
     "name": "stdout",
     "output_type": "stream",
     "text": [
      "4\n",
      "8\n",
      "12\n",
      "16\n",
      "20\n",
      "24\n",
      "28\n",
      "32\n",
      "36\n",
      "40\n"
     ]
    }
   ],
   "source": [
    "n = 4\n",
    "for i in range(n,(n*10)+1,n):\n",
    "    print(i)"
   ]
  },
  {
   "cell_type": "code",
   "execution_count": null,
   "id": "095a357b",
   "metadata": {},
   "outputs": [],
   "source": []
  }
 ],
 "metadata": {
  "kernelspec": {
   "display_name": "Python 3 (ipykernel)",
   "language": "python",
   "name": "python3"
  },
  "language_info": {
   "codemirror_mode": {
    "name": "ipython",
    "version": 3
   },
   "file_extension": ".py",
   "mimetype": "text/x-python",
   "name": "python",
   "nbconvert_exporter": "python",
   "pygments_lexer": "ipython3",
   "version": "3.9.7"
  }
 },
 "nbformat": 4,
 "nbformat_minor": 5
}
