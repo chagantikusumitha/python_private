{
 "cells": [
  {
   "cell_type": "code",
   "execution_count": 14,
   "id": "2332c079",
   "metadata": {},
   "outputs": [
    {
     "name": "stdout",
     "output_type": "stream",
     "text": [
      "[10, 20, 3, 7, 8]\n"
     ]
    }
   ],
   "source": [
    "l=[10,20,3,10,20,7,3,8,7]\n",
    "L=[]\n",
    "for i in l:\n",
    "    if i not in L:\n",
    "        L.append(i)\n",
    "print(L)"
   ]
  },
  {
   "cell_type": "code",
   "execution_count": 22,
   "id": "ec2a531a",
   "metadata": {},
   "outputs": [
    {
     "name": "stdout",
     "output_type": "stream",
     "text": [
      "fail\n",
      "fail\n",
      "fail\n",
      "pass\n",
      "1st class\n",
      "1st class\n",
      "1st class\n",
      "1st class\n"
     ]
    }
   ],
   "source": [
    "marks=[22,30,35,60,67,80,85,93]\n",
    "for i in marks:\n",
    "    if(i<36):\n",
    "        print(\"fail\")\n",
    "    elif(i<=60):\n",
    "        print(\"pass\")\n",
    "    else:\n",
    "        print(\"1st class\")"
   ]
  },
  {
   "cell_type": "code",
   "execution_count": 26,
   "id": "2aefb1fc",
   "metadata": {},
   "outputs": [
    {
     "name": "stdout",
     "output_type": "stream",
     "text": [
      "fail\n",
      "fail\n",
      "fail\n",
      "pass\n",
      "1st class\n",
      "pass\n",
      "distinction\n",
      "pass\n",
      "distinction\n",
      "pass\n",
      "distinction\n",
      "pass\n",
      "distinction\n"
     ]
    }
   ],
   "source": [
    "marks=[22,30,35,60,67,80,85,93]\n",
    "for i in marks:\n",
    "    if(i<36):\n",
    "        print(\"fail\")\n",
    "    elif(i>=36)&(i<=60):\n",
    "        print(\"pass\")\n",
    "        print(\"1st class\")\n",
    "    elif(i>60)&(i<100):\n",
    "           print(\"pass\")\n",
    "           print(\"distinction\")"
   ]
  },
  {
   "cell_type": "code",
   "execution_count": 2,
   "id": "058e5fe7",
   "metadata": {},
   "outputs": [
    {
     "name": "stdout",
     "output_type": "stream",
     "text": [
      "prime number\n"
     ]
    }
   ],
   "source": [
    "num=11\n",
    "for i in range(2,num):\n",
    "    if(num%i)==0:\n",
    "        print(\"not a prime number\")\n",
    "else:\n",
    "        print(\"prime number\")"
   ]
  },
  {
   "cell_type": "code",
   "execution_count": 5,
   "id": "73f6debd",
   "metadata": {},
   "outputs": [
    {
     "name": "stdout",
     "output_type": "stream",
     "text": [
      "prime number\n"
     ]
    }
   ],
   "source": [
    "num=73\n",
    "for i in range(2,num):\n",
    "    if(num%i)==0:\n",
    "        print(\"not a prime number\")\n",
    "        break\n",
    "else:\n",
    "        print(\"prime number\")"
   ]
  },
  {
   "cell_type": "code",
   "execution_count": 48,
   "id": "e5d3a3ab",
   "metadata": {},
   "outputs": [
    {
     "name": "stdout",
     "output_type": "stream",
     "text": [
      "prime number\n"
     ]
    }
   ],
   "source": [
    "num=73\n",
    "for i in range(2,num):\n",
    "    if(num%i)==0:\n",
    "        print(\"not a prime number\")\n",
    "        break\n",
    "else:\n",
    "        print(\"prime number\")"
   ]
  },
  {
   "cell_type": "code",
   "execution_count": 78,
   "id": "8b2f619a",
   "metadata": {},
   "outputs": [
    {
     "name": "stdout",
     "output_type": "stream",
     "text": [
      "enter a value:malayalam\n",
      "palindrome\n"
     ]
    }
   ],
   "source": [
    "num=input(\"enter a value:\")\n",
    "s=num[ : :-1]\n",
    "if(s==num):\n",
    "    print(\"palindrome\")\n",
    "else:\n",
    "    print(\"not palindrome\")"
   ]
  },
  {
   "cell_type": "code",
   "execution_count": null,
   "id": "d3c9c9e9",
   "metadata": {},
   "outputs": [],
   "source": [
    "x=\"malayalam\"\n",
    "l=len(x)\n",
    "n=l//2"
   ]
  },
  {
   "cell_type": "code",
   "execution_count": 98,
   "id": "95685e88",
   "metadata": {},
   "outputs": [
    {
     "name": "stdout",
     "output_type": "stream",
     "text": [
      "alphabets: 7\n",
      "numbers: 2\n"
     ]
    }
   ],
   "source": [
    "str=\"python3.9\"\n",
    "alpha=0\n",
    "num=0\n",
    "for i in str:\n",
    "    if i.isdigit():\n",
    "        num=num+1\n",
    "    else:\n",
    "        alpha=alpha+1\n",
    "print(\"alphabets:\",alpha)\n",
    "print(\"numbers:\",num)"
   ]
  },
  {
   "cell_type": "code",
   "execution_count": null,
   "id": "a2a369ac",
   "metadata": {},
   "outputs": [],
   "source": []
  }
 ],
 "metadata": {
  "kernelspec": {
   "display_name": "Python 3 (ipykernel)",
   "language": "python",
   "name": "python3"
  },
  "language_info": {
   "codemirror_mode": {
    "name": "ipython",
    "version": 3
   },
   "file_extension": ".py",
   "mimetype": "text/x-python",
   "name": "python",
   "nbconvert_exporter": "python",
   "pygments_lexer": "ipython3",
   "version": "3.9.7"
  }
 },
 "nbformat": 4,
 "nbformat_minor": 5
}
