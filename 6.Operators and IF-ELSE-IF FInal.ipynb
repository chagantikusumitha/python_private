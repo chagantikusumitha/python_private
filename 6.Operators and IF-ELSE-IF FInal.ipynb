{
 "cells": [
  {
   "cell_type": "markdown",
   "metadata": {},
   "source": [
    "# Today's Agenda\n",
    "> ### What are different Operators Available in Python?\n",
    "> ### What is Conditional Statement?\n",
    "> ### What are the conditional statements available in Python?\n",
    "> ### How to use Operators in Conditional Statement?"
   ]
  },
  {
   "cell_type": "markdown",
   "metadata": {},
   "source": [
    "## What is operator?\n",
    "- Operators are used to perform operations on variables and values."
   ]
  },
  {
   "cell_type": "code",
   "execution_count": 1,
   "metadata": {},
   "outputs": [
    {
     "name": "stdout",
     "output_type": "stream",
     "text": [
      "30\n"
     ]
    }
   ],
   "source": [
    "# we use the + operator to add together two values\n",
    "print(10+20)"
   ]
  },
  {
   "cell_type": "markdown",
   "metadata": {},
   "source": [
    "## Types of Operators\n",
    "\n",
    "Python divides the operators in the following groups:\n",
    "\n",
    "- Arithmetic operators\n",
    "- Assignment operators\n",
    "- Comparison operators\n",
    "- Logical operators\n",
    "- Identity operators\n",
    "- Membership operators\n",
    "- Bitwise operators"
   ]
  },
  {
   "cell_type": "markdown",
   "metadata": {},
   "source": [
    "## Arithmetic Operators\n",
    "- #   +, - , /, %, *\n"
   ]
  },
  {
   "cell_type": "code",
   "execution_count": 2,
   "metadata": {},
   "outputs": [
    {
     "name": "stdout",
     "output_type": "stream",
     "text": [
      "9\n"
     ]
    }
   ],
   "source": [
    "print(5+4)"
   ]
  },
  {
   "cell_type": "code",
   "execution_count": 3,
   "metadata": {},
   "outputs": [
    {
     "name": "stdout",
     "output_type": "stream",
     "text": [
      "3\n"
     ]
    }
   ],
   "source": [
    "print(9-6)"
   ]
  },
  {
   "cell_type": "code",
   "execution_count": 4,
   "metadata": {},
   "outputs": [
    {
     "name": "stdout",
     "output_type": "stream",
     "text": [
      "ab\n"
     ]
    }
   ],
   "source": [
    "print(\"a\"+\"b\") # Concatination when it is string addition "
   ]
  },
  {
   "cell_type": "code",
   "execution_count": 5,
   "metadata": {},
   "outputs": [
    {
     "ename": "TypeError",
     "evalue": "can only concatenate str (not \"int\") to str",
     "output_type": "error",
     "traceback": [
      "\u001b[1;31m---------------------------------------------------------------------------\u001b[0m",
      "\u001b[1;31mTypeError\u001b[0m                                 Traceback (most recent call last)",
      "\u001b[1;32m<ipython-input-5-7c2aa6df4b6b>\u001b[0m in \u001b[0;36m<module>\u001b[1;34m\u001b[0m\n\u001b[1;32m----> 1\u001b[1;33m \u001b[0mprint\u001b[0m\u001b[1;33m(\u001b[0m\u001b[1;34m\"a\"\u001b[0m\u001b[1;33m+\u001b[0m\u001b[1;36m4\u001b[0m\u001b[1;33m)\u001b[0m\u001b[1;33m\u001b[0m\u001b[1;33m\u001b[0m\u001b[0m\n\u001b[0m",
      "\u001b[1;31mTypeError\u001b[0m: can only concatenate str (not \"int\") to str"
     ]
    }
   ],
   "source": [
    "print(\"a\"+4) # type cast will not allow between string and numeric "
   ]
  },
  {
   "cell_type": "code",
   "execution_count": 6,
   "metadata": {},
   "outputs": [
    {
     "name": "stdout",
     "output_type": "stream",
     "text": [
      "a4\n"
     ]
    }
   ],
   "source": [
    "print(\"a\"+\"4\") # here \"4\" is a string pleae make a note "
   ]
  },
  {
   "cell_type": "code",
   "execution_count": 7,
   "metadata": {},
   "outputs": [
    {
     "name": "stdout",
     "output_type": "stream",
     "text": [
      "aaaa\n"
     ]
    }
   ],
   "source": [
    "print(\"a\" * 4)"
   ]
  },
  {
   "cell_type": "code",
   "execution_count": 8,
   "metadata": {},
   "outputs": [
    {
     "name": "stdout",
     "output_type": "stream",
     "text": [
      "5.0\n"
     ]
    }
   ],
   "source": [
    "#for division, it will return float datatype\n",
    "print(10/2)"
   ]
  },
  {
   "cell_type": "code",
   "execution_count": 9,
   "metadata": {},
   "outputs": [
    {
     "name": "stdout",
     "output_type": "stream",
     "text": [
      "0\n"
     ]
    }
   ],
   "source": [
    "#modulo operator returns the reminder\n",
    "print(10%2)"
   ]
  },
  {
   "cell_type": "code",
   "execution_count": 10,
   "metadata": {},
   "outputs": [
    {
     "name": "stdout",
     "output_type": "stream",
     "text": [
      "5\n"
     ]
    }
   ],
   "source": [
    "#floor division   //\n",
    "\n",
    "print(10//2)  #when both the values are int, it returns integer"
   ]
  },
  {
   "cell_type": "code",
   "execution_count": 11,
   "metadata": {},
   "outputs": [
    {
     "name": "stdout",
     "output_type": "stream",
     "text": [
      "5.0\n"
     ]
    }
   ],
   "source": [
    "print(10.0//2) #if any of the value is float, then in return i will be getting float"
   ]
  },
  {
   "cell_type": "code",
   "execution_count": 12,
   "metadata": {},
   "outputs": [
    {
     "name": "stdout",
     "output_type": "stream",
     "text": [
      "14\n"
     ]
    }
   ],
   "source": [
    "#floor and ceil\n",
    "#floor - accepts numbers with decimal as parameter and returns integer which is smaller than itself\n",
    "#ceil - accepts numbers with decimal as parameter and returns integer which is greater than itself\n",
    "\n",
    "import math\n",
    "print(math.floor(14.2))"
   ]
  },
  {
   "cell_type": "code",
   "execution_count": 13,
   "metadata": {},
   "outputs": [
    {
     "name": "stdout",
     "output_type": "stream",
     "text": [
      "14\n"
     ]
    }
   ],
   "source": [
    "print(math.floor(14.6))"
   ]
  },
  {
   "cell_type": "code",
   "execution_count": 14,
   "metadata": {},
   "outputs": [
    {
     "name": "stdout",
     "output_type": "stream",
     "text": [
      "15\n"
     ]
    }
   ],
   "source": [
    "print(math.ceil(14.6))"
   ]
  },
  {
   "cell_type": "code",
   "execution_count": 15,
   "metadata": {},
   "outputs": [
    {
     "name": "stdout",
     "output_type": "stream",
     "text": [
      "22\n"
     ]
    }
   ],
   "source": [
    "print(math.ceil(21.1))"
   ]
  },
  {
   "cell_type": "markdown",
   "metadata": {},
   "source": [
    "## Comparison or Relational operators \n",
    "- >, >=, <, <="
   ]
  },
  {
   "cell_type": "code",
   "execution_count": 16,
   "metadata": {},
   "outputs": [
    {
     "name": "stdout",
     "output_type": "stream",
     "text": [
      "False\n"
     ]
    }
   ],
   "source": [
    "print(3<2)"
   ]
  },
  {
   "cell_type": "code",
   "execution_count": 17,
   "metadata": {},
   "outputs": [
    {
     "name": "stdout",
     "output_type": "stream",
     "text": [
      "True\n"
     ]
    }
   ],
   "source": [
    "print(4>=4)"
   ]
  },
  {
   "cell_type": "code",
   "execution_count": 18,
   "metadata": {},
   "outputs": [
    {
     "name": "stdout",
     "output_type": "stream",
     "text": [
      "2\n"
     ]
    }
   ],
   "source": [
    "#True - 1\n",
    "#False - 0\n",
    "print(True + True)"
   ]
  },
  {
   "cell_type": "code",
   "execution_count": 19,
   "metadata": {},
   "outputs": [
    {
     "name": "stdout",
     "output_type": "stream",
     "text": [
      "True\n"
     ]
    }
   ],
   "source": [
    "print(4<=6)"
   ]
  },
  {
   "cell_type": "markdown",
   "metadata": {},
   "source": [
    "### Equality  (==, !=) # to check whether given two values equal or not"
   ]
  },
  {
   "cell_type": "code",
   "execution_count": 20,
   "metadata": {},
   "outputs": [
    {
     "data": {
      "text/plain": [
       "False"
      ]
     },
     "execution_count": 20,
     "metadata": {},
     "output_type": "execute_result"
    }
   ],
   "source": [
    "3 ==4"
   ]
  },
  {
   "cell_type": "code",
   "execution_count": 21,
   "metadata": {},
   "outputs": [
    {
     "data": {
      "text/plain": [
       "True"
      ]
     },
     "execution_count": 21,
     "metadata": {},
     "output_type": "execute_result"
    }
   ],
   "source": [
    "3 !=4"
   ]
  },
  {
   "cell_type": "code",
   "execution_count": 22,
   "metadata": {},
   "outputs": [
    {
     "data": {
      "text/plain": [
       "True"
      ]
     },
     "execution_count": 22,
     "metadata": {},
     "output_type": "execute_result"
    }
   ],
   "source": [
    "x = 3\n",
    "y= 3\n",
    "x==y"
   ]
  },
  {
   "cell_type": "markdown",
   "metadata": {},
   "source": [
    "## Logical operators \n",
    "- (and/or/not)"
   ]
  },
  {
   "cell_type": "code",
   "execution_count": 23,
   "metadata": {},
   "outputs": [
    {
     "name": "stdout",
     "output_type": "stream",
     "text": [
      "False\n"
     ]
    }
   ],
   "source": [
    "x = 4\n",
    "y = 10\n",
    "\n",
    "print(x>5 and y>4)"
   ]
  },
  {
   "cell_type": "code",
   "execution_count": 24,
   "metadata": {},
   "outputs": [
    {
     "name": "stdout",
     "output_type": "stream",
     "text": [
      "True\n"
     ]
    }
   ],
   "source": [
    "z = 3\n",
    "print(x<5 and y>4 and z>1)"
   ]
  },
  {
   "cell_type": "code",
   "execution_count": 25,
   "metadata": {},
   "outputs": [
    {
     "name": "stdout",
     "output_type": "stream",
     "text": [
      "True\n"
     ]
    }
   ],
   "source": [
    "print(x<5 or y>4 and z>1)"
   ]
  },
  {
   "cell_type": "code",
   "execution_count": 26,
   "metadata": {},
   "outputs": [
    {
     "name": "stdout",
     "output_type": "stream",
     "text": [
      "True\n"
     ]
    }
   ],
   "source": [
    "print(x<5 or y<4)"
   ]
  },
  {
   "cell_type": "code",
   "execution_count": 27,
   "metadata": {},
   "outputs": [
    {
     "name": "stdout",
     "output_type": "stream",
     "text": [
      "True\n"
     ]
    }
   ],
   "source": [
    "print(x<5 or y>4 and z>5)"
   ]
  },
  {
   "cell_type": "code",
   "execution_count": 28,
   "metadata": {},
   "outputs": [
    {
     "name": "stdout",
     "output_type": "stream",
     "text": [
      "True\n"
     ]
    }
   ],
   "source": [
    "\n",
    "print(x<5 or y>4 and z>5)"
   ]
  },
  {
   "cell_type": "markdown",
   "metadata": {},
   "source": [
    "## Identity Operators\n",
    "\n",
    "> Identity operators are used to compare the objects, not if they are equal, but if they are actually the same object, with the same memory location:\n",
    "\n",
    "- is\n",
    "- is not"
   ]
  },
  {
   "cell_type": "code",
   "execution_count": 29,
   "metadata": {},
   "outputs": [
    {
     "data": {
      "text/plain": [
       "True"
      ]
     },
     "execution_count": 29,
     "metadata": {},
     "output_type": "execute_result"
    }
   ],
   "source": [
    "x = 4\n",
    "y = 4\n",
    "\n",
    "x == y"
   ]
  },
  {
   "cell_type": "code",
   "execution_count": 30,
   "metadata": {},
   "outputs": [
    {
     "data": {
      "text/plain": [
       "True"
      ]
     },
     "execution_count": 30,
     "metadata": {},
     "output_type": "execute_result"
    }
   ],
   "source": [
    "x is y"
   ]
  },
  {
   "cell_type": "code",
   "execution_count": 31,
   "metadata": {},
   "outputs": [],
   "source": [
    "l1 = [1,2,3]\n",
    "l2 = [1,2,3]"
   ]
  },
  {
   "cell_type": "code",
   "execution_count": 32,
   "metadata": {},
   "outputs": [
    {
     "data": {
      "text/plain": [
       "False"
      ]
     },
     "execution_count": 32,
     "metadata": {},
     "output_type": "execute_result"
    }
   ],
   "source": [
    "l1 is l2"
   ]
  },
  {
   "cell_type": "code",
   "execution_count": 33,
   "metadata": {},
   "outputs": [
    {
     "data": {
      "text/plain": [
       "True"
      ]
     },
     "execution_count": 33,
     "metadata": {},
     "output_type": "execute_result"
    }
   ],
   "source": [
    "l1[2] is l2[2]"
   ]
  },
  {
   "cell_type": "markdown",
   "metadata": {},
   "source": [
    "## membership operators\n",
    "\n",
    "> Membership operators are used to test if a sequence is presented in an object:\n",
    "\n",
    "- in  \n",
    "- not in"
   ]
  },
  {
   "cell_type": "code",
   "execution_count": 34,
   "metadata": {},
   "outputs": [
    {
     "data": {
      "text/plain": [
       "True"
      ]
     },
     "execution_count": 34,
     "metadata": {},
     "output_type": "execute_result"
    }
   ],
   "source": [
    "a = [\"sar\", \"tom\"]\n",
    "\n",
    "\"tom\" in a"
   ]
  },
  {
   "cell_type": "code",
   "execution_count": 35,
   "metadata": {},
   "outputs": [
    {
     "data": {
      "text/plain": [
       "False"
      ]
     },
     "execution_count": 35,
     "metadata": {},
     "output_type": "execute_result"
    }
   ],
   "source": [
    "\"a\" in a"
   ]
  },
  {
   "cell_type": "code",
   "execution_count": 36,
   "metadata": {},
   "outputs": [],
   "source": [
    "b = \" ny city is in india\""
   ]
  },
  {
   "cell_type": "code",
   "execution_count": 37,
   "metadata": {},
   "outputs": [
    {
     "data": {
      "text/plain": [
       "False"
      ]
     },
     "execution_count": 37,
     "metadata": {},
     "output_type": "execute_result"
    }
   ],
   "source": [
    "\"in\" not in b"
   ]
  },
  {
   "attachments": {
    "image.png": {
     "image/png": "[encoded data removed]"
    }
   },
   "cell_type": "markdown",
   "metadata": {},
   "source": [
    "## Bitwise Operators\n",
    "\n",
    "\n",
    "![image.png](attachment:image.png)\n",
    "\n"
   ]
  },
  {
   "cell_type": "code",
   "execution_count": 1,
   "metadata": {},
   "outputs": [],
   "source": [
    "a = 60            # 60 = 0011 1100 \n",
    "b = 13            # 13 = 0000 1101 \n",
    "c = 0 "
   ]
  },
  {
   "cell_type": "code",
   "execution_count": 2,
   "metadata": {},
   "outputs": [
    {
     "name": "stdout",
     "output_type": "stream",
     "text": [
      "Line 1 - Value of c is  12\n"
     ]
    }
   ],
   "source": [
    "c = a & b;        # 12 = 0000 1100\n",
    "print(\"Line 1 - Value of c is \", c)\n",
    "# returns 1 if both the bits are one else 0"
   ]
  },
  {
   "cell_type": "code",
   "execution_count": 41,
   "metadata": {},
   "outputs": [
    {
     "name": "stdout",
     "output_type": "stream",
     "text": [
      "Line 2 - Value of c is  61\n"
     ]
    }
   ],
   "source": [
    "c = a | b;        # 61 = 0011 1101 \n",
    "print (\"Line 2 - Value of c is \", c)\n",
    "# returns 1 if either of the bits are one else 0"
   ]
  },
  {
   "cell_type": "code",
   "execution_count": 42,
   "metadata": {},
   "outputs": [
    {
     "name": "stdout",
     "output_type": "stream",
     "text": [
      "Line 3 - Value of c is  49\n"
     ]
    }
   ],
   "source": [
    "c = a ^ b;        # 49 = 0011 0001\n",
    "print (\"Line 3 - Value of c is \", c)\n"
   ]
  },
  {
   "cell_type": "code",
   "execution_count": 43,
   "metadata": {},
   "outputs": [
    {
     "name": "stdout",
     "output_type": "stream",
     "text": [
      "Line 4 - Value of c is  -61\n"
     ]
    }
   ],
   "source": [
    "c = ~a;           # -61 = 1100 0011\n",
    "print (\"Line 4 - Value of c is \", c)"
   ]
  },
  {
   "cell_type": "code",
   "execution_count": 45,
   "metadata": {},
   "outputs": [
    {
     "name": "stdout",
     "output_type": "stream",
     "text": [
      "Line 5 - Value of c is  240\n"
     ]
    }
   ],
   "source": [
    "c = a << 2;       # 240 = 1111 0000\n",
    "print (\"Line 5 - Value of c is \", c)"
   ]
  },
  {
   "cell_type": "code",
   "execution_count": 46,
   "metadata": {},
   "outputs": [
    {
     "name": "stdout",
     "output_type": "stream",
     "text": [
      "Line 6 - Value of c is  15\n"
     ]
    }
   ],
   "source": [
    "c = a >> 2;       # 15 = 0000 1111\n",
    "print (\"Line 6 - Value of c is \", c)"
   ]
  },
  {
   "cell_type": "code",
   "execution_count": null,
   "metadata": {},
   "outputs": [],
   "source": []
  },
  {
   "cell_type": "code",
   "execution_count": null,
   "metadata": {},
   "outputs": [],
   "source": []
  },
  {
   "cell_type": "code",
   "execution_count": null,
   "metadata": {},
   "outputs": [],
   "source": []
  },
  {
   "cell_type": "markdown",
   "metadata": {},
   "source": [
    "# Python Conditional Statements\n",
    "> Conditionals help us to make decisions. They excecute blocks of code based on the truthfullness of some statements. The if  elif  else keywords actually help us to write conditionals\n",
    "\n",
    "- If\n",
    "- If-else\n",
    "- Elif\n",
    "- Nested if and if-else\n",
    "- Elif ladder"
   ]
  },
  {
   "cell_type": "markdown",
   "metadata": {},
   "source": [
    "# Python Indentation\n",
    "A simple if block -\n",
    "\n",
    "    if (number < 0):\n",
    "        printf(\"You entered \", number)\n",
    "    "
   ]
  },
  {
   "cell_type": "markdown",
   "metadata": {},
   "source": [
    "In Python, the code blocks are defined by a set of common or consistent number of spaces. This is called as **Python Indentation.**\n",
    "\n",
    " The block scope will end at the first unindented line.\n",
    "\n",
    "The best practice is to use **Tab** key.\n",
    "\n"
   ]
  },
  {
   "cell_type": "markdown",
   "metadata": {},
   "source": [
    "# 1. IF\n",
    "- The if keyword is used to check for a statement and execute the subsequent block of code based on the truthfullness of the statement. if statement contains the starter condition. As such, a condition has to be always given to the if block\n"
   ]
  },
  {
   "cell_type": "markdown",
   "metadata": {},
   "source": [
    "\n",
    "Syntax:\n",
    "\n",
    "if statement:\n",
    "    block_of_code"
   ]
  },
  {
   "cell_type": "code",
   "execution_count": 47,
   "metadata": {},
   "outputs": [
    {
     "name": "stdout",
     "output_type": "stream",
     "text": [
      "Inside the IF block\n",
      "5\n",
      "This is outside the IF block\n"
     ]
    }
   ],
   "source": [
    "i = 5 # unindented line, starting from the beggining of the code cell\n",
    "\n",
    "if(i < 10): # if block header: 'if' keyword - (condition that evaluates to a boolean value) - ends with ':'\n",
    "    print('Inside the IF block')\n",
    "    print(i)\n",
    "    \n",
    "print('This is outside the IF block')"
   ]
  },
  {
   "cell_type": "code",
   "execution_count": 48,
   "metadata": {},
   "outputs": [
    {
     "name": "stdout",
     "output_type": "stream",
     "text": [
      "This is outside the IF block\n"
     ]
    }
   ],
   "source": [
    "i = 15 # unindented line, starting from the beggining of the code cell\n",
    "\n",
    "if(i < 10): # if block header: 'if' keyword - (condition that evaluates to a boolean value) - ends with ':'\n",
    "    print('Inside the IF block')\n",
    "    print(i)\n",
    "    \n",
    "print('This is outside the IF block')"
   ]
  },
  {
   "cell_type": "markdown",
   "metadata": {},
   "source": [
    "### Boolean values are also represented as - True as 1 and False as 0"
   ]
  },
  {
   "cell_type": "code",
   "execution_count": 49,
   "metadata": {},
   "outputs": [
    {
     "name": "stdout",
     "output_type": "stream",
     "text": [
      "Inside IF\n",
      "Inside IF\n",
      "Inside IF\n"
     ]
    }
   ],
   "source": [
    "if(3-2):\n",
    "    print('Inside IF')\n",
    "    \n",
    "if(5-2):\n",
    "    print('Inside IF')\n",
    "\n",
    "if(3-5):\n",
    "    print('Inside IF')"
   ]
  },
  {
   "cell_type": "code",
   "execution_count": 50,
   "metadata": {},
   "outputs": [
    {
     "name": "stdout",
     "output_type": "stream",
     "text": [
      "Outside IF\n"
     ]
    }
   ],
   "source": [
    "if(3-3):\n",
    "    print('Inside IF')\n",
    "    \n",
    "print('Outside IF')"
   ]
  },
  {
   "cell_type": "markdown",
   "metadata": {},
   "source": [
    "### Operators in IF"
   ]
  },
  {
   "cell_type": "code",
   "execution_count": 51,
   "metadata": {},
   "outputs": [
    {
     "name": "stdout",
     "output_type": "stream",
     "text": [
      "65\n"
     ]
    }
   ],
   "source": [
    "# Using Membership Test\n",
    "\n",
    "mylist1 = [25,35,65,55]\n",
    "i = 65\n",
    "\n",
    "if(i in mylist1):  #remember membership operator \n",
    "    print(i)"
   ]
  },
  {
   "cell_type": "code",
   "execution_count": 52,
   "metadata": {},
   "outputs": [
    {
     "name": "stdout",
     "output_type": "stream",
     "text": [
      "Result: Pass\n"
     ]
    }
   ],
   "source": [
    "if(75 >= 35):\n",
    "    print('Result: Pass')"
   ]
  },
  {
   "cell_type": "markdown",
   "metadata": {},
   "source": [
    "### Question: WAP for passing the exam if the students meets the cutoff using 'if' condition"
   ]
  },
  {
   "cell_type": "code",
   "execution_count": 53,
   "metadata": {},
   "outputs": [
    {
     "name": "stdout",
     "output_type": "stream",
     "text": [
      "Enter the Marks:45\n",
      "Result: Pass\n",
      "Enter the Marks:50\n",
      "Result: Pass\n"
     ]
    }
   ],
   "source": [
    "cutoffscore = 35\n",
    "marksscored = input('Enter the Marks:')\n",
    "\n",
    "if(int(marksscored) >= cutoffscore):\n",
    "    print('Result: Pass')\n",
    "    \n",
    "    \n",
    "cutoffscore = 35\n",
    "marksscored = int(input('Enter the Marks:'))\n",
    "\n",
    "if(marksscored >= cutoffscore):\n",
    "    print('Result: Pass')"
   ]
  },
  {
   "cell_type": "markdown",
   "metadata": {},
   "source": [
    "# 2. IF-ELSE"
   ]
  },
  {
   "cell_type": "markdown",
   "metadata": {},
   "source": [
    "### using IF-ELSE"
   ]
  },
  {
   "cell_type": "code",
   "execution_count": null,
   "metadata": {},
   "outputs": [],
   "source": [
    "cutoffscore = 35\n",
    "marksscored = int(input('Enter the Marks:'))\n",
    "\n",
    "if(marksscored >= cutoffscore):\n",
    "    print('Result: Pass')\n",
    "else:\n",
    "    print('Result: Fail')"
   ]
  },
  {
   "cell_type": "markdown",
   "metadata": {},
   "source": [
    "## Check for the gien number is even or odd"
   ]
  },
  {
   "cell_type": "code",
   "execution_count": 59,
   "metadata": {},
   "outputs": [
    {
     "name": "stdout",
     "output_type": "stream",
     "text": [
      "Enter a number: 56\n",
      "Number is even\n"
     ]
    }
   ],
   "source": [
    "\n",
    "num = int(input('Enter a number: '))\n",
    "\n",
    "if num%2 == 0:\n",
    "    print('Number is even')\n",
    "else:\n",
    "    print('Number is odd')"
   ]
  },
  {
   "cell_type": "code",
   "execution_count": 60,
   "metadata": {},
   "outputs": [
    {
     "name": "stdout",
     "output_type": "stream",
     "text": [
      "Enter a number: 56\n",
      "Number is even\n"
     ]
    }
   ],
   "source": [
    "# Method -2:\n",
    "# write a code to check if a given number is even or not\n",
    "num = int(input('Enter a number: '))\n",
    "\n",
    "# if_block if if_condition else else_block\n",
    "print('Number is even') if num%2 == 0 else print('Number is odd')"
   ]
  },
  {
   "cell_type": "markdown",
   "metadata": {},
   "source": [
    "**Note: The short-hand notations will work only if the block of code is a single line code**"
   ]
  },
  {
   "cell_type": "markdown",
   "metadata": {},
   "source": [
    "# 3. ELSE\n",
    "- All the cases which aren't satisfied using the if statement are collected in the else block given by the else keyword. else block is the terminal block where all the edge cases are collected. As such, no statement has to be given when we are using the else"
   ]
  },
  {
   "cell_type": "code",
   "execution_count": 55,
   "metadata": {},
   "outputs": [
    {
     "name": "stdout",
     "output_type": "stream",
     "text": [
      "Enter the Marks:90\n",
      "Result: Pass with Distinction\n"
     ]
    }
   ],
   "source": [
    "cutoffscore = 35\n",
    "distinctioncutoff = 75 \n",
    "marksscored = int(input('Enter the Marks:'))\n",
    "\n",
    "# 3 Scenarios\n",
    "# - Pass\n",
    "# - Pass with Distinction\n",
    "# - Fail\n",
    "\n",
    "\n",
    "if(marksscored < cutoffscore):\n",
    "    print('Result: Fail')\n",
    "elif(marksscored >= distinctioncutoff):\n",
    "    print('Result: Pass with Distinction')\n",
    "else:\n",
    "    print('Result: Pass')"
   ]
  },
  {
   "cell_type": "markdown",
   "metadata": {},
   "source": [
    "# 4. Nested if & if-else"
   ]
  },
  {
   "cell_type": "code",
   "execution_count": 56,
   "metadata": {},
   "outputs": [
    {
     "name": "stdout",
     "output_type": "stream",
     "text": [
      "Enter the Marks:90\n",
      "Result: Pass\n",
      "Result: Pass with Distinction\n"
     ]
    }
   ],
   "source": [
    "cutoffscore = 35\n",
    "distinctioncutoff = 75 \n",
    "marksscored = int(input('Enter the Marks:'))\n",
    "\n",
    "if(marksscored>cutoffscore):\n",
    "    print('Result: Pass')\n",
    "    if(marksscored>=distinctioncutoff):\n",
    "        print('Result: Pass with Distinction')\n",
    "        "
   ]
  },
  {
   "cell_type": "markdown",
   "metadata": {},
   "source": [
    "### Problem on Tax Payment"
   ]
  },
  {
   "cell_type": "code",
   "execution_count": 57,
   "metadata": {},
   "outputs": [
    {
     "name": "stdout",
     "output_type": "stream",
     "text": [
      "Enter the taxable income:5.5\n",
      "Slab is 20% and Tax Payable is 1.1\n"
     ]
    }
   ],
   "source": [
    "taxable_income = float(input('Enter the taxable income:'))\n",
    "\n",
    "# taxable_income = taxable_income/100000\n",
    "\n",
    "# 0 - 2.5 - 0%\n",
    "# 2.5 - 5 - 5%\n",
    "# 5. - 10 - 20%\n",
    "# 10 or above - 30%\n",
    "\n",
    "if(taxable_income>=10): \n",
    "    print('Slab is{} and Tax Payable is {}'.format('30%',taxable_income*0.3))    \n",
    "else:\n",
    "    if(taxable_income<10 and taxable_income>=5):\n",
    "        print('Slab is {} and Tax Payable is {}'.format('20%',taxable_income*0.2)) \n",
    "    else:\n",
    "        if(taxable_income<5 and taxable_income>=2.5):\n",
    "            print('Slab is {} and Tax Payable is {}'.format('5%',taxable_income*0.05))\n",
    "        else:\n",
    "            print('Slab is {} and Tax Payable is {}'.format('0%',0))"
   ]
  },
  {
   "cell_type": "markdown",
   "metadata": {},
   "source": [
    "# 5. Elif Ladder\n",
    "- The `elif` keyword is used to check for those conditions which weren't done so by the previous statements. As a rule of thumb, if we're checking for n number of outcomes(n > 2), we'll be having n-2 number of elif statements"
   ]
  },
  {
   "cell_type": "code",
   "execution_count": 58,
   "metadata": {},
   "outputs": [
    {
     "name": "stdout",
     "output_type": "stream",
     "text": [
      "Enter the taxable income:1.9\n",
      "Slab is 0% and Tax Payable is 0\n"
     ]
    }
   ],
   "source": [
    "taxable_income = float(input('Enter the taxable income:'))\n",
    "\n",
    "# taxable_income = taxable_income/100000\n",
    "\n",
    "# 0 - 2.5 - 0%\n",
    "# 2.5 - 5 - 5%\n",
    "# 5. - 10 - 20%\n",
    "# 10 or above - 30%\n",
    "\n",
    "if(taxable_income>=10): \n",
    "    print('Slab is {} and Tax Payable is {}'.format('30%',taxable_income*0.3)) \n",
    "elif(taxable_income<10 and taxable_income>=5):\n",
    "    print('Slab is {} and Tax Payable is {}'.format('20%',taxable_income*0.2)) \n",
    "elif(taxable_income<5 and taxable_income>=2.5):\n",
    "    print('Slab is {} and Tax Payable is {}'.format('5%',taxable_income*0.05))\n",
    "else:\n",
    "    print('Slab is {} and Tax Payable is {}'.format('0%',0))"
   ]
  },
  {
   "cell_type": "markdown",
   "metadata": {},
   "source": [
    "### Write a program which will accept a word from the user and is going to check whether the word starts with a vowel or not"
   ]
  },
  {
   "cell_type": "code",
   "execution_count": 62,
   "metadata": {},
   "outputs": [
    {
     "name": "stdout",
     "output_type": "stream",
     "text": [
      "Enter the word you want to check: innomatics\n",
      "The word, Innomatics, starts with a vowel\n"
     ]
    }
   ],
   "source": [
    "# taking the input\n",
    "word = input('Enter the word you want to check: ')\n",
    "\n",
    "# creating a vowel list to refer to when checking \n",
    "vowels = ['a','e','i','o','u']\n",
    "\n",
    "# checking the condition\n",
    "if word[0].lower() in vowels:\n",
    "    print('The word, {}, starts with a vowel'.format(word.capitalize()))\n",
    "else:\n",
    "    print(\"The word, {}, doesn't start with a vowel\".format(word.capitalize()))"
   ]
  },
  {
   "cell_type": "markdown",
   "metadata": {},
   "source": [
    "### Write a program which will accept a word and a number from the user. Check if the word starts with a vowel and the number is even and write appropriate conditions accordingly"
   ]
  },
  {
   "cell_type": "code",
   "execution_count": 61,
   "metadata": {},
   "outputs": [
    {
     "name": "stdout",
     "output_type": "stream",
     "text": [
      "Enter the word you want to check for: ram\n",
      "Enter a number: 6\n",
      "Atleast one condition is satisfied\n"
     ]
    }
   ],
   "source": [
    "word = input('Enter the word you want to check for: ')\n",
    "num = int(input('Enter a number: '))\n",
    "\n",
    "vowels = ['a','e','i','o','u']\n",
    "\n",
    "if (word[0].lower() in vowels) and (num%2 == 0):\n",
    "    print('Both the conditions are satisfied')\n",
    "elif (word[0].lower() in vowels) or (num%2 == 0):\n",
    "    print('Atleast one condition is satisfied')\n",
    "else:\n",
    "    print('None of the conditions are satisfied')"
   ]
  },
  {
   "cell_type": "code",
   "execution_count": null,
   "metadata": {},
   "outputs": [],
   "source": []
  },
  {
   "cell_type": "code",
   "execution_count": null,
   "metadata": {},
   "outputs": [],
   "source": []
  },
  {
   "cell_type": "markdown",
   "metadata": {},
   "source": [
    "### Attendance Problem"
   ]
  },
  {
   "cell_type": "code",
   "execution_count": 67,
   "metadata": {},
   "outputs": [
    {
     "name": "stdout",
     "output_type": "stream",
     "text": [
      "What's your name: ram\n",
      "Sorry you are not allowed\n"
     ]
    }
   ],
   "source": [
    "atendees = ['Revan', 'Pranay', 'Akshay']\n",
    "trainer = 'Aditya'\n",
    "user_inp = input(\"What's your name: \")\n",
    "\n",
    "if user_inp == trainer:\n",
    "    print ('Welcome to the class')\n",
    "elif user_inp in atendees:\n",
    "    print ('Welcome to the class')\n",
    "else:\n",
    "    print ('Sorry you are not allowed')"
   ]
  },
  {
   "cell_type": "code",
   "execution_count": null,
   "metadata": {},
   "outputs": [],
   "source": []
  },
  {
   "cell_type": "code",
   "execution_count": null,
   "metadata": {},
   "outputs": [],
   "source": []
  },
  {
   "cell_type": "code",
   "execution_count": null,
   "metadata": {},
   "outputs": [],
   "source": []
  },
  {
   "cell_type": "code",
   "execution_count": null,
   "metadata": {},
   "outputs": [],
   "source": []
  },
  {
   "cell_type": "code",
   "execution_count": null,
   "metadata": {},
   "outputs": [],
   "source": []
  },
  {
   "cell_type": "code",
   "execution_count": 9,
   "metadata": {},
   "outputs": [
    {
     "name": "stdout",
     "output_type": "stream",
     "text": [
      "Please enter your name:banu\n"
     ]
    }
   ],
   "source": [
    "vowels = ['a','e','i','o','u']\n",
    "s_c = ['$','@','#']\n",
    "\n",
    "name = input(\"Please enter your name:\")"
   ]
  },
  {
   "cell_type": "code",
   "execution_count": 10,
   "metadata": {},
   "outputs": [
    {
     "data": {
      "text/plain": [
       "'banu'"
      ]
     },
     "execution_count": 10,
     "metadata": {},
     "output_type": "execute_result"
    }
   ],
   "source": [
    "name"
   ]
  },
  {
   "cell_type": "code",
   "execution_count": 11,
   "metadata": {},
   "outputs": [
    {
     "name": "stdout",
     "output_type": "stream",
     "text": [
      "First char does not fall into both the lists!!!\n"
     ]
    }
   ],
   "source": [
    "if (name[0].lower() in vowels):\n",
    "    print('First char is in vowels!!!')\n",
    "    if (name[0].lower() == 'a'):\n",
    "        print(\"Starts with a\")\n",
    "    else:\n",
    "        print(\"Not starting with a\")\n",
    "elif (name[0] in s_c):\n",
    "    print('First char is in Special Chars!!!')\n",
    "else:\n",
    "    print('First char does not fall into both the lists!!!')"
   ]
  },
  {
   "cell_type": "code",
   "execution_count": 3,
   "metadata": {},
   "outputs": [],
   "source": [
    "import random"
   ]
  },
  {
   "cell_type": "code",
   "execution_count": 24,
   "metadata": {},
   "outputs": [
    {
     "data": {
      "text/plain": [
       "5781"
      ]
     },
     "execution_count": 24,
     "metadata": {},
     "output_type": "execute_result"
    }
   ],
   "source": [
    "random.randrange(1000,9999)"
   ]
  },
  {
   "cell_type": "code",
   "execution_count": 23,
   "metadata": {},
   "outputs": [
    {
     "data": {
      "text/plain": [
       "4"
      ]
     },
     "execution_count": 23,
     "metadata": {},
     "output_type": "execute_result"
    }
   ],
   "source": [
    "random.randint(2,5)"
   ]
  }
 ],
 "metadata": {
  "kernelspec": {
   "display_name": "Python 3 (ipykernel)",
   "language": "python",
   "name": "python3"
  },
  "language_info": {
   "codemirror_mode": {
    "name": "ipython",
    "version": 3
   },
   "file_extension": ".py",
   "mimetype": "text/x-python",
   "name": "python",
   "nbconvert_exporter": "python",
   "pygments_lexer": "ipython3",
   "version": "3.9.7"
  }
 },
 "nbformat": 4,
 "nbformat_minor": 4
}
