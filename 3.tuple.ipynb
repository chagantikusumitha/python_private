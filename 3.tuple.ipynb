{
 "cells": [
  {
   "cell_type": "code",
   "execution_count": 1,
   "id": "5ae0f93b",
   "metadata": {},
   "outputs": [],
   "source": [
    "t = (2,4,5,8,10,4)"
   ]
  },
  {
   "cell_type": "code",
   "execution_count": 2,
   "id": "58d3cf46",
   "metadata": {},
   "outputs": [
    {
     "ename": "TypeError",
     "evalue": "'tuple' object does not support item assignment",
     "output_type": "error",
     "traceback": [
      "\u001b[1;31m---------------------------------------------------------------------------\u001b[0m",
      "\u001b[1;31mTypeError\u001b[0m                                 Traceback (most recent call last)",
      "\u001b[1;32mC:\\Users\\KUSUMI~1\\AppData\\Local\\Temp/ipykernel_11060/2001967207.py\u001b[0m in \u001b[0;36m<module>\u001b[1;34m\u001b[0m\n\u001b[1;32m----> 1\u001b[1;33m \u001b[0mt\u001b[0m\u001b[1;33m[\u001b[0m\u001b[1;36m3\u001b[0m\u001b[1;33m]\u001b[0m \u001b[1;33m=\u001b[0m \u001b[1;36m19\u001b[0m\u001b[1;33m\u001b[0m\u001b[1;33m\u001b[0m\u001b[0m\n\u001b[0m",
      "\u001b[1;31mTypeError\u001b[0m: 'tuple' object does not support item assignment"
     ]
    }
   ],
   "source": [
    "t[3] = 19"
   ]
  },
  {
   "cell_type": "code",
   "execution_count": 3,
   "id": "f47e82bc",
   "metadata": {},
   "outputs": [],
   "source": [
    "T = (2,4,5,8,'s',10,4)"
   ]
  },
  {
   "cell_type": "code",
   "execution_count": 4,
   "id": "f2d761c0",
   "metadata": {},
   "outputs": [
    {
     "name": "stdout",
     "output_type": "stream",
     "text": [
      "(2, 4, 5, 8, 10, 4)\n"
     ]
    }
   ],
   "source": [
    "print(t)"
   ]
  },
  {
   "cell_type": "code",
   "execution_count": 5,
   "id": "109ef9b6",
   "metadata": {},
   "outputs": [
    {
     "ename": "TypeError",
     "evalue": "'tuple' object doesn't support item deletion",
     "output_type": "error",
     "traceback": [
      "\u001b[1;31m---------------------------------------------------------------------------\u001b[0m",
      "\u001b[1;31mTypeError\u001b[0m                                 Traceback (most recent call last)",
      "\u001b[1;32mC:\\Users\\KUSUMI~1\\AppData\\Local\\Temp/ipykernel_11060/1535061248.py\u001b[0m in \u001b[0;36m<module>\u001b[1;34m\u001b[0m\n\u001b[1;32m----> 1\u001b[1;33m \u001b[1;32mdel\u001b[0m \u001b[0mt\u001b[0m\u001b[1;33m[\u001b[0m\u001b[1;36m3\u001b[0m\u001b[1;33m]\u001b[0m\u001b[1;33m\u001b[0m\u001b[1;33m\u001b[0m\u001b[0m\n\u001b[0m",
      "\u001b[1;31mTypeError\u001b[0m: 'tuple' object doesn't support item deletion"
     ]
    }
   ],
   "source": [
    "del t[3]"
   ]
  },
  {
   "cell_type": "code",
   "execution_count": 8,
   "id": "deb1ba4d",
   "metadata": {},
   "outputs": [],
   "source": [
    "# converting str data type to tuple"
   ]
  },
  {
   "cell_type": "code",
   "execution_count": 6,
   "id": "7687d08b",
   "metadata": {},
   "outputs": [],
   "source": [
    "t2 = tuple('string')"
   ]
  },
  {
   "cell_type": "code",
   "execution_count": 7,
   "id": "430b5f53",
   "metadata": {},
   "outputs": [
    {
     "name": "stdout",
     "output_type": "stream",
     "text": [
      "('s', 't', 'r', 'i', 'n', 'g')\n"
     ]
    }
   ],
   "source": [
    "print(t2)"
   ]
  },
  {
   "cell_type": "code",
   "execution_count": 9,
   "id": "667bbec0",
   "metadata": {},
   "outputs": [
    {
     "data": {
      "text/plain": [
       "(5, 8, 10, 4)"
      ]
     },
     "execution_count": 9,
     "metadata": {},
     "output_type": "execute_result"
    }
   ],
   "source": [
    "t[2: :]"
   ]
  },
  {
   "cell_type": "code",
   "execution_count": 11,
   "id": "69387a66",
   "metadata": {},
   "outputs": [
    {
     "data": {
      "text/plain": [
       "(2, 4, 5, 8, 10, 4)"
      ]
     },
     "execution_count": 11,
     "metadata": {},
     "output_type": "execute_result"
    }
   ],
   "source": [
    "t[ :]"
   ]
  },
  {
   "cell_type": "code",
   "execution_count": 14,
   "id": "33c6f194",
   "metadata": {},
   "outputs": [],
   "source": [
    "# we can delete the whole t tuple by del t"
   ]
  },
  {
   "cell_type": "code",
   "execution_count": 12,
   "id": "b2a0443c",
   "metadata": {},
   "outputs": [],
   "source": [
    "del t"
   ]
  },
  {
   "cell_type": "code",
   "execution_count": 13,
   "id": "e594a1d9",
   "metadata": {},
   "outputs": [
    {
     "ename": "NameError",
     "evalue": "name 't' is not defined",
     "output_type": "error",
     "traceback": [
      "\u001b[1;31m---------------------------------------------------------------------------\u001b[0m",
      "\u001b[1;31mNameError\u001b[0m                                 Traceback (most recent call last)",
      "\u001b[1;32mC:\\Users\\KUSUMI~1\\AppData\\Local\\Temp/ipykernel_11060/2058247866.py\u001b[0m in \u001b[0;36m<module>\u001b[1;34m\u001b[0m\n\u001b[1;32m----> 1\u001b[1;33m \u001b[0mprint\u001b[0m\u001b[1;33m(\u001b[0m\u001b[0mt\u001b[0m\u001b[1;33m)\u001b[0m\u001b[1;33m\u001b[0m\u001b[1;33m\u001b[0m\u001b[0m\n\u001b[0m",
      "\u001b[1;31mNameError\u001b[0m: name 't' is not defined"
     ]
    }
   ],
   "source": [
    "print(t)"
   ]
  },
  {
   "cell_type": "code",
   "execution_count": 15,
   "id": "df74cb76",
   "metadata": {},
   "outputs": [],
   "source": [
    "# tuple assigment"
   ]
  },
  {
   "cell_type": "code",
   "execution_count": 23,
   "id": "144ca6c1",
   "metadata": {},
   "outputs": [],
   "source": [
    "# tuplepacking\n",
    "t = ('Kush','hyd',9902837372,'Telangana')"
   ]
  },
  {
   "cell_type": "code",
   "execution_count": 29,
   "id": "bc533ddc",
   "metadata": {},
   "outputs": [],
   "source": [
    "# tuple unpacking\n",
    "(name,city,mobile,state) = t"
   ]
  },
  {
   "cell_type": "code",
   "execution_count": 26,
   "id": "48baa7b3",
   "metadata": {},
   "outputs": [
    {
     "name": "stdout",
     "output_type": "stream",
     "text": [
      "Kush\n"
     ]
    }
   ],
   "source": [
    "print(name)"
   ]
  },
  {
   "cell_type": "code",
   "execution_count": 27,
   "id": "bec8a99d",
   "metadata": {},
   "outputs": [
    {
     "name": "stdout",
     "output_type": "stream",
     "text": [
      "hyd\n"
     ]
    }
   ],
   "source": [
    "print(city)"
   ]
  },
  {
   "cell_type": "code",
   "execution_count": 28,
   "id": "6471d189",
   "metadata": {},
   "outputs": [
    {
     "ename": "ValueError",
     "evalue": "not enough values to unpack (expected 5, got 4)",
     "output_type": "error",
     "traceback": [
      "\u001b[1;31m---------------------------------------------------------------------------\u001b[0m",
      "\u001b[1;31mValueError\u001b[0m                                Traceback (most recent call last)",
      "\u001b[1;32mC:\\Users\\KUSUMI~1\\AppData\\Local\\Temp/ipykernel_11060/4101713249.py\u001b[0m in \u001b[0;36m<module>\u001b[1;34m\u001b[0m\n\u001b[1;32m----> 1\u001b[1;33m \u001b[1;33m(\u001b[0m\u001b[0mname\u001b[0m\u001b[1;33m,\u001b[0m\u001b[0mcity\u001b[0m\u001b[1;33m,\u001b[0m\u001b[0mmobile\u001b[0m\u001b[1;33m,\u001b[0m\u001b[0mstate\u001b[0m\u001b[1;33m,\u001b[0m\u001b[0mcountry\u001b[0m\u001b[1;33m)\u001b[0m \u001b[1;33m=\u001b[0m \u001b[0mt\u001b[0m\u001b[1;33m\u001b[0m\u001b[1;33m\u001b[0m\u001b[0m\n\u001b[0m",
      "\u001b[1;31mValueError\u001b[0m: not enough values to unpack (expected 5, got 4)"
     ]
    }
   ],
   "source": [
    "(name,city,mobile,state,country) = t"
   ]
  },
  {
   "cell_type": "code",
   "execution_count": 30,
   "id": "527dbeb1",
   "metadata": {},
   "outputs": [
    {
     "name": "stdout",
     "output_type": "stream",
     "text": [
      "9902837372\n"
     ]
    }
   ],
   "source": [
    "print(mobile)"
   ]
  },
  {
   "cell_type": "code",
   "execution_count": 31,
   "id": "fa4c8b65",
   "metadata": {},
   "outputs": [
    {
     "name": "stdout",
     "output_type": "stream",
     "text": [
      "Telangana\n"
     ]
    }
   ],
   "source": [
    "print(state)"
   ]
  },
  {
   "cell_type": "code",
   "execution_count": 34,
   "id": "5c4f0df3",
   "metadata": {},
   "outputs": [
    {
     "data": {
      "text/plain": [
       "[(1, 'kush', 'datascience', ['python', 'c']),\n",
       " (2, 'sam', 'datascience', ['python', 'java']),\n",
       " (3, 'sandhya', 'datascience', ['c', 'c++'])]"
      ]
     },
     "execution_count": 34,
     "metadata": {},
     "output_type": "execute_result"
    }
   ],
   "source": [
    "# list of tuples\n",
    "# homogeneous\n",
    "students = [(1, \"kush\", \"datascience\", [\"python\",\"c\"]),\n",
    "           (2, \"sam\", \"datascience\", [\"python\",\"java\"]),\n",
    "           (3,\"sandhya\", \"datascience\",[\"c\",\"c++\"]) ]\n",
    "students"
   ]
  },
  {
   "cell_type": "code",
   "execution_count": 35,
   "id": "e170ef69",
   "metadata": {},
   "outputs": [
    {
     "data": {
      "text/plain": [
       "(2, 'sam', 'datascience', ['python', 'java'])"
      ]
     },
     "execution_count": 35,
     "metadata": {},
     "output_type": "execute_result"
    }
   ],
   "source": [
    "students[1]"
   ]
  },
  {
   "cell_type": "code",
   "execution_count": 37,
   "id": "80412fde",
   "metadata": {},
   "outputs": [
    {
     "data": {
      "text/plain": [
       "['python', 'java']"
      ]
     },
     "execution_count": 37,
     "metadata": {},
     "output_type": "execute_result"
    }
   ],
   "source": [
    "# 2nd level slicing\n",
    "students[1][3]"
   ]
  },
  {
   "cell_type": "code",
   "execution_count": 38,
   "id": "5e237312",
   "metadata": {},
   "outputs": [
    {
     "data": {
      "text/plain": [
       "'sandhya'"
      ]
     },
     "execution_count": 38,
     "metadata": {},
     "output_type": "execute_result"
    }
   ],
   "source": [
    "students[2][1]"
   ]
  },
  {
   "cell_type": "code",
   "execution_count": 39,
   "id": "74790204",
   "metadata": {},
   "outputs": [
    {
     "data": {
      "text/plain": [
       "['c', 'c++']"
      ]
     },
     "execution_count": 39,
     "metadata": {},
     "output_type": "execute_result"
    }
   ],
   "source": [
    "students[2][3]"
   ]
  },
  {
   "cell_type": "code",
   "execution_count": 40,
   "id": "4ba6111b",
   "metadata": {},
   "outputs": [
    {
     "data": {
      "text/plain": [
       "'c++'"
      ]
     },
     "execution_count": 40,
     "metadata": {},
     "output_type": "execute_result"
    }
   ],
   "source": [
    "# 3rd level slicing\n",
    "students[2][3][1]"
   ]
  },
  {
   "cell_type": "code",
   "execution_count": 46,
   "id": "451b1960",
   "metadata": {},
   "outputs": [
    {
     "data": {
      "text/plain": [
       "[(1, 'kush', 'data science', ['python', 'c'])]"
      ]
     },
     "execution_count": 46,
     "metadata": {},
     "output_type": "execute_result"
    }
   ],
   "source": [
    "student = [(1, \"kush\", \"data science\", [\"python\",\"c\"])]\n",
    "student"
   ]
  },
  {
   "cell_type": "code",
   "execution_count": 47,
   "id": "6ef52b6a",
   "metadata": {},
   "outputs": [
    {
     "data": {
      "text/plain": [
       "(1, 'kush', 'data science', ['python', 'c'])"
      ]
     },
     "execution_count": 47,
     "metadata": {},
     "output_type": "execute_result"
    }
   ],
   "source": [
    "student[0]"
   ]
  },
  {
   "cell_type": "code",
   "execution_count": 48,
   "id": "6ce4c350",
   "metadata": {},
   "outputs": [
    {
     "data": {
      "text/plain": [
       "'data science'"
      ]
     },
     "execution_count": 48,
     "metadata": {},
     "output_type": "execute_result"
    }
   ],
   "source": [
    "student[0][2]"
   ]
  },
  {
   "cell_type": "code",
   "execution_count": 50,
   "id": "42b1b8b6",
   "metadata": {},
   "outputs": [
    {
     "data": {
      "text/plain": [
       "'science'"
      ]
     },
     "execution_count": 50,
     "metadata": {},
     "output_type": "execute_result"
    }
   ],
   "source": [
    "student[0][2][5:]"
   ]
  },
  {
   "cell_type": "code",
   "execution_count": 51,
   "id": "cf6e0870",
   "metadata": {},
   "outputs": [
    {
     "data": {
      "text/plain": [
       "['python', 'c']"
      ]
     },
     "execution_count": 51,
     "metadata": {},
     "output_type": "execute_result"
    }
   ],
   "source": [
    "student[0][3]"
   ]
  },
  {
   "cell_type": "code",
   "execution_count": 52,
   "id": "f07a12e5",
   "metadata": {},
   "outputs": [
    {
     "data": {
      "text/plain": [
       "'python'"
      ]
     },
     "execution_count": 52,
     "metadata": {},
     "output_type": "execute_result"
    }
   ],
   "source": [
    "student[0][3][0]"
   ]
  },
  {
   "cell_type": "code",
   "execution_count": 53,
   "id": "332efa7f",
   "metadata": {},
   "outputs": [
    {
     "data": {
      "text/plain": [
       "'py'"
      ]
     },
     "execution_count": 53,
     "metadata": {},
     "output_type": "execute_result"
    }
   ],
   "source": [
    "# 4th level slicing\n",
    "student[0][3][0][:2]"
   ]
  },
  {
   "cell_type": "code",
   "execution_count": 54,
   "id": "e5a44f9e",
   "metadata": {},
   "outputs": [
    {
     "data": {
      "text/plain": [
       "'java'"
      ]
     },
     "execution_count": 54,
     "metadata": {},
     "output_type": "execute_result"
    }
   ],
   "source": [
    "students[1][3][1]"
   ]
  },
  {
   "cell_type": "code",
   "execution_count": 56,
   "id": "c673e5c7",
   "metadata": {},
   "outputs": [
    {
     "data": {
      "text/plain": [
       "'ence'"
      ]
     },
     "execution_count": 56,
     "metadata": {},
     "output_type": "execute_result"
    }
   ],
   "source": [
    "students[2][2][7:]"
   ]
  },
  {
   "cell_type": "code",
   "execution_count": 58,
   "id": "54475b1e",
   "metadata": {},
   "outputs": [
    {
     "data": {
      "text/plain": [
       "'kus'"
      ]
     },
     "execution_count": 58,
     "metadata": {},
     "output_type": "execute_result"
    }
   ],
   "source": [
    "students[0][1][:3]"
   ]
  },
  {
   "cell_type": "code",
   "execution_count": 60,
   "id": "8f3254ab",
   "metadata": {},
   "outputs": [
    {
     "data": {
      "text/plain": [
       "('kush', 'datascience')"
      ]
     },
     "execution_count": 60,
     "metadata": {},
     "output_type": "execute_result"
    }
   ],
   "source": [
    "students[0][1:3]"
   ]
  },
  {
   "cell_type": "code",
   "execution_count": 61,
   "id": "bedc6633",
   "metadata": {},
   "outputs": [
    {
     "data": {
      "text/plain": [
       "('datascience', ['python', 'java'])"
      ]
     },
     "execution_count": 61,
     "metadata": {},
     "output_type": "execute_result"
    }
   ],
   "source": [
    "students[1][2:]"
   ]
  },
  {
   "cell_type": "code",
   "execution_count": 62,
   "id": "6884308e",
   "metadata": {},
   "outputs": [],
   "source": [
    "t1 = (2,5,7,9,1,7,44,66)"
   ]
  },
  {
   "cell_type": "code",
   "execution_count": 69,
   "id": "51e77399",
   "metadata": {},
   "outputs": [
    {
     "name": "stdout",
     "output_type": "stream",
     "text": [
      "even number: 3\n",
      "odd number: 4\n",
      "odd number: 6\n",
      "odd number: 8\n",
      "odd number: 0\n",
      "odd number: 6\n",
      "even number: 45\n",
      "even number: 67\n"
     ]
    }
   ],
   "source": [
    "# if even add 1 or odd sub 1\n",
    "for i in t1:\n",
    "    if(i%2==0):\n",
    "        print(\"even number:\",i+1)\n",
    "    else:\n",
    "        print(\"odd number:\",i-1)\n",
    "    "
   ]
  },
  {
   "cell_type": "code",
   "execution_count": 71,
   "id": "ab2758a5",
   "metadata": {},
   "outputs": [],
   "source": [
    "t2 = (2,5,7,9,1,7,44,66,15,23,30,12)"
   ]
  },
  {
   "cell_type": "code",
   "execution_count": 72,
   "id": "d2ff862d",
   "metadata": {},
   "outputs": [
    {
     "name": "stdout",
     "output_type": "stream",
     "text": [
      "9\n",
      "66\n",
      "15\n",
      "30\n",
      "12\n"
     ]
    }
   ],
   "source": [
    "# get me the multiples of 3\n",
    "for i in t2:\n",
    "    if(i%3==0):\n",
    "        print(i)"
   ]
  },
  {
   "cell_type": "code",
   "execution_count": 78,
   "id": "8b0a44f4",
   "metadata": {},
   "outputs": [
    {
     "name": "stdout",
     "output_type": "stream",
     "text": [
      "15\n",
      "30\n"
     ]
    }
   ],
   "source": [
    "# get me the multiples of 3 and 5\n",
    "for i in t2:\n",
    "    if(i%5==0) & (i%3==0):\n",
    "        print(i)"
   ]
  },
  {
   "cell_type": "code",
   "execution_count": 120,
   "id": "67e9282f",
   "metadata": {},
   "outputs": [
    {
     "name": "stdout",
     "output_type": "stream",
     "text": [
      "5\n",
      "9\n",
      "66\n",
      "15\n",
      "30\n",
      "12\n"
     ]
    }
   ],
   "source": [
    "# get me the multiples of 3 or 5\n",
    "for i in t2:\n",
    "    if(i%5==0) | (i%3==0):\n",
    "        print(i)"
   ]
  },
  {
   "cell_type": "code",
   "execution_count": 82,
   "id": "a456005c",
   "metadata": {},
   "outputs": [
    {
     "name": "stdout",
     "output_type": "stream",
     "text": [
      "257917446615233012"
     ]
    }
   ],
   "source": [
    "# get all numbers of t2 as single number\n",
    "for i in t2:\n",
    "    print(i,end=\"\")"
   ]
  },
  {
   "cell_type": "code",
   "execution_count": 84,
   "id": "327d80a8",
   "metadata": {},
   "outputs": [
    {
     "name": "stdout",
     "output_type": "stream",
     "text": [
      "2002 2009 2016 2023 2037 2044 2051 2058 2072 2079 2086 2093 2107 2114 2121 2128 2142 2149 2156 2163 2177 2184 2191 2198 2212 2219 2226 2233 2247 2254 2261 2268 2282 2289 2296 2303 2317 2324 2331 2338 2352 2359 2366 2373 2387 2394 2401 2408 2422 2429 2436 2443 2457 2464 2471 2478 2492 2499 2506 2513 2527 2534 2541 2548 2562 2569 2576 2583 2597 2604 2611 2618 2632 2639 2646 2653 2667 2674 2681 2688 2702 2709 2716 2723 2737 2744 2751 2758 2772 2779 2786 2793 2807 2814 2821 2828 2842 2849 2856 2863 2877 2884 2891 2898 2912 2919 2926 2933 2947 2954 2961 2968 2982 2989 2996 3003 3017 3024 3031 3038 3052 3059 3066 3073 3087 3094 3101 3108 3122 3129 3136 3143 3157 3164 3171 3178 3192 3199 "
     ]
    }
   ],
   "source": [
    "# write a pgm which will find all such numbers which are divisible by 7 but are not a multiple of 5,between 2000 and 3200(both included)\n",
    "for i in range(2000,3201):\n",
    "    if(i%7==0)&(i%5!=0):\n",
    "     print(i,end=\" \")"
   ]
  },
  {
   "cell_type": "code",
   "execution_count": 85,
   "id": "e5fac8e0",
   "metadata": {},
   "outputs": [],
   "source": [
    "# pgm and perform following conditions\n",
    "# take any number as input and,\n",
    "#  if number is odd,print \"odd number\";\n",
    "# if even in the range of 2 to 9,print \"units even\"\n",
    "# if num is even and in the range of 10 to 21,print \"tens even\"\n",
    "# even and greater than 22,print \"even number\""
   ]
  },
  {
   "cell_type": "code",
   "execution_count": 128,
   "id": "a6a547ac",
   "metadata": {},
   "outputs": [
    {
     "name": "stdout",
     "output_type": "stream",
     "text": [
      "enter a value:5\n"
     ]
    }
   ],
   "source": [
    "n = int(input(\"enter a value:\"))   "
   ]
  },
  {
   "cell_type": "code",
   "execution_count": 129,
   "id": "9f9df206",
   "metadata": {},
   "outputs": [
    {
     "data": {
      "text/plain": [
       "5"
      ]
     },
     "execution_count": 129,
     "metadata": {},
     "output_type": "execute_result"
    }
   ],
   "source": [
    "n"
   ]
  },
  {
   "cell_type": "code",
   "execution_count": 10,
   "id": "3e737e22",
   "metadata": {},
   "outputs": [
    {
     "name": "stdout",
     "output_type": "stream",
     "text": [
      "enter a value:66\n",
      "even number\n"
     ]
    }
   ],
   "source": [
    "n = int(input(\"enter a value:\"))\n",
    "if( n%2 != 0):\n",
    "    print(\"odd number\")\n",
    "elif(n%2==0)&(2<=n<=9):\n",
    "    print(\"units even\")\n",
    "elif(n%2==0)&(10<=n<=21):\n",
    "    print(\"tens even\")\n",
    "else:\n",
    "    print(\"even number\")"
   ]
  },
  {
   "cell_type": "code",
   "execution_count": null,
   "id": "13b3b4e3",
   "metadata": {},
   "outputs": [],
   "source": []
  }
 ],
 "metadata": {
  "kernelspec": {
   "display_name": "Python 3 (ipykernel)",
   "language": "python",
   "name": "python3"
  },
  "language_info": {
   "codemirror_mode": {
    "name": "ipython",
    "version": 3
   },
   "file_extension": ".py",
   "mimetype": "text/x-python",
   "name": "python",
   "nbconvert_exporter": "python",
   "pygments_lexer": "ipython3",
   "version": "3.9.7"
  }
 },
 "nbformat": 4,
 "nbformat_minor": 5
}
