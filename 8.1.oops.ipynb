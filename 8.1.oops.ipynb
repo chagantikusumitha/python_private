{
 "cells": [
  {
   "cell_type": "code",
   "execution_count": 2,
   "id": "fe361cbb",
   "metadata": {},
   "outputs": [],
   "source": [
    "class student:\n",
    "    college = \"JNTU\"\n",
    "    country = \"India\"\n",
    "    \n",
    "    def __init__(self,name,branch):\n",
    "        self.n = name\n",
    "        self.b = branch\n",
    "        print(\"name:\",self.n)\n",
    "        print(\"branch:\",self.b)"
   ]
  },
  {
   "cell_type": "code",
   "execution_count": 3,
   "id": "b08168ab",
   "metadata": {},
   "outputs": [
    {
     "ename": "TypeError",
     "evalue": "__init__() missing 2 required positional arguments: 'name' and 'branch'",
     "output_type": "error",
     "traceback": [
      "\u001b[1;31m---------------------------------------------------------------------------\u001b[0m",
      "\u001b[1;31mTypeError\u001b[0m                                 Traceback (most recent call last)",
      "\u001b[1;32mC:\\Users\\KUSUMI~1\\AppData\\Local\\Temp/ipykernel_7532/367909189.py\u001b[0m in \u001b[0;36m<module>\u001b[1;34m\u001b[0m\n\u001b[1;32m----> 1\u001b[1;33m \u001b[0mstudent\u001b[0m\u001b[1;33m(\u001b[0m\u001b[1;33m)\u001b[0m\u001b[1;33m\u001b[0m\u001b[1;33m\u001b[0m\u001b[0m\n\u001b[0m",
      "\u001b[1;31mTypeError\u001b[0m: __init__() missing 2 required positional arguments: 'name' and 'branch'"
     ]
    }
   ],
   "source": [
    "student()"
   ]
  },
  {
   "cell_type": "code",
   "execution_count": 5,
   "id": "f680e64c",
   "metadata": {},
   "outputs": [
    {
     "name": "stdout",
     "output_type": "stream",
     "text": [
      "name: kushmitha\n",
      "branch: CSE\n"
     ]
    },
    {
     "data": {
      "text/plain": [
       "<__main__.student at 0x20445168070>"
      ]
     },
     "execution_count": 5,
     "metadata": {},
     "output_type": "execute_result"
    }
   ],
   "source": [
    "student(\"kushmitha\",\"CSE\")"
   ]
  },
  {
   "cell_type": "code",
   "execution_count": 6,
   "id": "db16a5c5",
   "metadata": {},
   "outputs": [
    {
     "name": "stdout",
     "output_type": "stream",
     "text": [
      "name: kushmitha\n",
      "branch: CSE\n"
     ]
    }
   ],
   "source": [
    "S = student(\"kushmitha\",\"CSE\")"
   ]
  },
  {
   "cell_type": "code",
   "execution_count": 7,
   "id": "6c44e79d",
   "metadata": {},
   "outputs": [
    {
     "data": {
      "text/plain": [
       "'JNTU'"
      ]
     },
     "execution_count": 7,
     "metadata": {},
     "output_type": "execute_result"
    }
   ],
   "source": [
    "S.college"
   ]
  },
  {
   "cell_type": "code",
   "execution_count": 9,
   "id": "cb073d4d",
   "metadata": {},
   "outputs": [
    {
     "data": {
      "text/plain": [
       "'kushmitha'"
      ]
     },
     "execution_count": 9,
     "metadata": {},
     "output_type": "execute_result"
    }
   ],
   "source": [
    "S.n"
   ]
  },
  {
   "cell_type": "code",
   "execution_count": 10,
   "id": "fab22e68",
   "metadata": {},
   "outputs": [
    {
     "data": {
      "text/plain": [
       "'CSE'"
      ]
     },
     "execution_count": 10,
     "metadata": {},
     "output_type": "execute_result"
    }
   ],
   "source": [
    "S.b"
   ]
  },
  {
   "cell_type": "code",
   "execution_count": 11,
   "id": "46576a3c",
   "metadata": {},
   "outputs": [
    {
     "name": "stdout",
     "output_type": "stream",
     "text": [
      "name: sam\n",
      "branch: ece\n"
     ]
    }
   ],
   "source": [
    "S1 = student(\"sam\",\"ece\")"
   ]
  },
  {
   "cell_type": "code",
   "execution_count": 12,
   "id": "aaddad8f",
   "metadata": {},
   "outputs": [
    {
     "data": {
      "text/plain": [
       "'sam'"
      ]
     },
     "execution_count": 12,
     "metadata": {},
     "output_type": "execute_result"
    }
   ],
   "source": [
    "S1.n"
   ]
  },
  {
   "cell_type": "code",
   "execution_count": 13,
   "id": "ddc85cd3",
   "metadata": {},
   "outputs": [
    {
     "data": {
      "text/plain": [
       "'JNTU'"
      ]
     },
     "execution_count": 13,
     "metadata": {},
     "output_type": "execute_result"
    }
   ],
   "source": [
    "S1.college"
   ]
  },
  {
   "cell_type": "code",
   "execution_count": 14,
   "id": "923f1a07",
   "metadata": {},
   "outputs": [
    {
     "data": {
      "text/plain": [
       "'ece'"
      ]
     },
     "execution_count": 14,
     "metadata": {},
     "output_type": "execute_result"
    }
   ],
   "source": [
    "S1.b"
   ]
  },
  {
   "cell_type": "code",
   "execution_count": 16,
   "id": "bc43bb4e",
   "metadata": {},
   "outputs": [
    {
     "data": {
      "text/plain": [
       "'India'"
      ]
     },
     "execution_count": 16,
     "metadata": {},
     "output_type": "execute_result"
    }
   ],
   "source": [
    "S1.country"
   ]
  },
  {
   "cell_type": "code",
   "execution_count": 17,
   "id": "5f81d1e8",
   "metadata": {},
   "outputs": [],
   "source": [
    "class student:\n",
    "    college = \"JNTU\"\n",
    "    country = \"India\"\n",
    "    \n",
    "    def __init__(self,name,branch):\n",
    "        self.n = name\n",
    "        self.b = branch\n",
    "        print(\"name:\",self.n)\n",
    "        print(\"branch:\",self.b)\n",
    "    def register(self):\n",
    "        sub_name = self.n[:3]\n",
    "        sub_branch = self.b[0] + self.b[-1]\n",
    "        return sub_branch + sub_name"
   ]
  },
  {
   "cell_type": "code",
   "execution_count": 19,
   "id": "d4af0d5b",
   "metadata": {},
   "outputs": [
    {
     "name": "stdout",
     "output_type": "stream",
     "text": [
      "name: kushmitha\n",
      "branch: CSE\n"
     ]
    }
   ],
   "source": [
    "S3 = student(\"kushmitha\",\"CSE\")"
   ]
  },
  {
   "cell_type": "code",
   "execution_count": 20,
   "id": "4525ac21",
   "metadata": {},
   "outputs": [
    {
     "data": {
      "text/plain": [
       "'CEkus'"
      ]
     },
     "execution_count": 20,
     "metadata": {},
     "output_type": "execute_result"
    }
   ],
   "source": [
    "S3.register()"
   ]
  },
  {
   "cell_type": "code",
   "execution_count": 22,
   "id": "b1eaba33",
   "metadata": {},
   "outputs": [],
   "source": [
    "class student:\n",
    "    college = \"JNTU\"\n",
    "    country = \"India\"\n",
    "    \n",
    "    def __init__(self,name,branch):\n",
    "        self.n = name\n",
    "        self.b = branch\n",
    "        print(\"name:\",self.n)\n",
    "        print(\"branch:\",self.b)\n",
    "    def register(self):\n",
    "        sub_name = self.n[:3]\n",
    "        sub_branch = self.b[0] + self.b[-1]\n",
    "        return sub_branch + sub_name\n",
    "    def project_expo_register(self):\n",
    "        print(\"unique id:\",self.register())\n",
    "        if self.register()[0] == \"E\":\n",
    "            return True\n",
    "        else:\n",
    "            return False"
   ]
  },
  {
   "cell_type": "code",
   "execution_count": 23,
   "id": "073fd859",
   "metadata": {},
   "outputs": [
    {
     "name": "stdout",
     "output_type": "stream",
     "text": [
      "name: kushmitha\n",
      "branch: CSE\n"
     ]
    }
   ],
   "source": [
    "A = student(\"kushmitha\",\"CSE\")"
   ]
  },
  {
   "cell_type": "code",
   "execution_count": 24,
   "id": "42b1a85c",
   "metadata": {},
   "outputs": [
    {
     "name": "stdout",
     "output_type": "stream",
     "text": [
      "unique id: CEkus\n"
     ]
    },
    {
     "data": {
      "text/plain": [
       "False"
      ]
     },
     "execution_count": 24,
     "metadata": {},
     "output_type": "execute_result"
    }
   ],
   "source": [
    "A.project_expo_register()"
   ]
  },
  {
   "cell_type": "code",
   "execution_count": 25,
   "id": "37586cab",
   "metadata": {},
   "outputs": [
    {
     "name": "stdout",
     "output_type": "stream",
     "text": [
      "name: kushmitha\n",
      "branch: EEE\n"
     ]
    }
   ],
   "source": [
    "B = student(\"kushmitha\",\"EEE\")"
   ]
  },
  {
   "cell_type": "code",
   "execution_count": 26,
   "id": "e5572dee",
   "metadata": {},
   "outputs": [
    {
     "name": "stdout",
     "output_type": "stream",
     "text": [
      "unique id: EEkus\n"
     ]
    },
    {
     "data": {
      "text/plain": [
       "True"
      ]
     },
     "execution_count": 26,
     "metadata": {},
     "output_type": "execute_result"
    }
   ],
   "source": [
    "B.project_expo_register()"
   ]
  },
  {
   "cell_type": "code",
   "execution_count": 7,
   "id": "702a3441",
   "metadata": {},
   "outputs": [],
   "source": [
    "class student:\n",
    "    college = \"JNTU\"\n",
    "    country = \"India\"\n",
    "    \n",
    "    def __init__(self,name,branch):\n",
    "        self.n = name\n",
    "        self.b = branch\n",
    "        print(\"name:\",self.n)\n",
    "        print(\"branch:\",self.b)\n",
    "    def register(self):\n",
    "        sub_name = self.n[:3]\n",
    "        sub_branch = self.b[0] + self.b[-1]\n",
    "        return sub_branch + sub_name\n",
    "    def project_expo_register(self):\n",
    "        print(\"unique id:\",self.register())\n",
    "        if self.register()[0] == \"E\":\n",
    "            return True\n",
    "        else:\n",
    "            return False\n",
    "    def sports_comp(self):\n",
    "        print(self.project_expo_register())\n",
    "        if self.project_expo_register() == False:\n",
    "            return True\n",
    "        else:\n",
    "            return False"
   ]
  },
  {
   "cell_type": "code",
   "execution_count": 8,
   "id": "2837c526",
   "metadata": {},
   "outputs": [
    {
     "name": "stdout",
     "output_type": "stream",
     "text": [
      "name: Kush\n",
      "branch: MECH\n"
     ]
    }
   ],
   "source": [
    "D = student(\"Kush\",\"MECH\")"
   ]
  },
  {
   "cell_type": "code",
   "execution_count": 9,
   "id": "75feb14a",
   "metadata": {},
   "outputs": [
    {
     "data": {
      "text/plain": [
       "'MHKus'"
      ]
     },
     "execution_count": 9,
     "metadata": {},
     "output_type": "execute_result"
    }
   ],
   "source": [
    "D.register()"
   ]
  },
  {
   "cell_type": "code",
   "execution_count": 52,
   "id": "30ed9158",
   "metadata": {},
   "outputs": [
    {
     "name": "stdout",
     "output_type": "stream",
     "text": [
      "unique id: MHKus\n"
     ]
    },
    {
     "data": {
      "text/plain": [
       "False"
      ]
     },
     "execution_count": 52,
     "metadata": {},
     "output_type": "execute_result"
    }
   ],
   "source": [
    "D.project_expo_register()"
   ]
  },
  {
   "cell_type": "code",
   "execution_count": 53,
   "id": "b86084ab",
   "metadata": {},
   "outputs": [
    {
     "name": "stdout",
     "output_type": "stream",
     "text": [
      "unique id: MHKus\n",
      "False\n",
      "unique id: MHKus\n"
     ]
    },
    {
     "data": {
      "text/plain": [
       "True"
      ]
     },
     "execution_count": 53,
     "metadata": {},
     "output_type": "execute_result"
    }
   ],
   "source": [
    "D.sports_comp()"
   ]
  },
  {
   "cell_type": "code",
   "execution_count": 48,
   "id": "8da6c3bc",
   "metadata": {},
   "outputs": [],
   "source": [
    "class bankapplication:\n",
    "    city = \"Hyderabad\"\n",
    "    country = \"India\"\n",
    "    pincode = \"500049\"\n",
    "    IFSC = \"SBIN0005943\"\n",
    "    \n",
    "    def __init__(self,name,age,mobile,aadhar,pan,deposit_amount):\n",
    "        self.name = name\n",
    "        self.age = str(age)\n",
    "        self.m = str(mobile)\n",
    "        self.aadhar = str(aadhar)\n",
    "        self.pan = pan\n",
    "        self.d = deposit_amount\n",
    "        print(\"name : \",self.name)\n",
    "        print(\"age : \",self.age)\n",
    "        print(\"mobile : \",self.m)\n",
    "        print(\"aadhar : \",self.aadhar)\n",
    "        print(\"pan : \",self.pan)\n",
    "        print(\"deposit_amount : \",self.d)\n",
    "        \n",
    "    def check_deposit(self):\n",
    "        if self.d >= 6000:\n",
    "            return True\n",
    "        else:\n",
    "            return False\n",
    "    \n",
    "    def registration(self):\n",
    "        if self.check_deposit() == True:\n",
    "            sub_name = self.name[:2]\n",
    "            sub_age = self.age[1]\n",
    "            sub_mobile = self.m[:2] + self.m[:-3:-1]\n",
    "            sub_aadhar = self.aadhar[2:7]\n",
    "            sub_pan = self.pan[:2] + self.pan[:-5:-1]\n",
    "            unique_id = sub_name + sub_age + sub_mobile + sub_aadhar + sub_pan\n",
    "            print(\"unique_id : \",unique_id)\n",
    "            return True\n",
    "        else:\n",
    "            print(\"deposit 6000 or more than 6000 for registration\") \n",
    "            \n",
    "            "
   ]
  },
  {
   "cell_type": "code",
   "execution_count": 49,
   "id": "24a3216e",
   "metadata": {},
   "outputs": [
    {
     "name": "stdout",
     "output_type": "stream",
     "text": [
      "name :  kush\n",
      "age :  21\n",
      "mobile :  6304843235\n",
      "aadhar :  567824365489\n",
      "pan :  IOKBK8965\n",
      "deposit_amount :  6000\n"
     ]
    }
   ],
   "source": [
    "K = bankapplication(\"kush\",21,6304843235,567824365489,\"IOKBK8965\",6000)"
   ]
  },
  {
   "cell_type": "code",
   "execution_count": 50,
   "id": "b340afdf",
   "metadata": {},
   "outputs": [
    {
     "data": {
      "text/plain": [
       "True"
      ]
     },
     "execution_count": 50,
     "metadata": {},
     "output_type": "execute_result"
    }
   ],
   "source": [
    "K.check_deposit()"
   ]
  },
  {
   "cell_type": "code",
   "execution_count": 51,
   "id": "284a205b",
   "metadata": {},
   "outputs": [
    {
     "data": {
      "text/plain": [
       "'ku1635378243IO5698'"
      ]
     },
     "execution_count": 51,
     "metadata": {},
     "output_type": "execute_result"
    }
   ],
   "source": [
    "K.registration()"
   ]
  },
  {
   "cell_type": "code",
   "execution_count": 52,
   "id": "5530d589",
   "metadata": {},
   "outputs": [
    {
     "name": "stdout",
     "output_type": "stream",
     "text": [
      "name :  sam\n",
      "age :  24\n",
      "mobile :  9985765477\n",
      "aadhar :  568974123578\n",
      "pan :  IOKT5867\n",
      "deposit_amount :  5000\n"
     ]
    }
   ],
   "source": [
    "L = bankapplication(\"sam\",24,9985765477,568974123578,\"IOKT5867\",5000)"
   ]
  },
  {
   "cell_type": "code",
   "execution_count": 53,
   "id": "94d55cb5",
   "metadata": {},
   "outputs": [
    {
     "name": "stdout",
     "output_type": "stream",
     "text": [
      "deposit 6000 or more than 6000 for registration\n"
     ]
    }
   ],
   "source": [
    "L.registration()"
   ]
  },
  {
   "cell_type": "code",
   "execution_count": 9,
   "id": "b048b9a1",
   "metadata": {},
   "outputs": [],
   "source": [
    "class student:\n",
    "    college = \"JNTU\"\n",
    "    country = \"India\"\n",
    "    \n",
    "    def __init__(self,name,branch):\n",
    "        self.n = name\n",
    "        self.b = branch\n",
    "        print(\"name:\",self.n)\n",
    "        print(\"branch:\",self.b)\n",
    "    def register(self):\n",
    "        sub_name = self.n[:3]\n",
    "        sub_branch = self.b[0] + self.b[-1]\n",
    "        return sub_branch + sub_name + student.college\n",
    "    def project_expo_register(self):\n",
    "        print(\"unique id:\",self.register())\n",
    "        if self.register()[0] == \"E\":\n",
    "            return True\n",
    "        else:\n",
    "            return False\n",
    "    def sports_comp(self):\n",
    "        print(self.project_expo_register())\n",
    "        if self.project_expo_register() == False:\n",
    "            return True\n",
    "        else:\n",
    "            return False\n",
    "        \n",
    "    @staticmethod\n",
    "    def check_age(age):\n",
    "        if age > 20:\n",
    "            return True\n",
    "        else:\n",
    "            return False\n",
    "    @classmethod\n",
    "    def check_college(cls):\n",
    "        if(cls.college == \"JNTU\") & (cls.country == \"India\"):\n",
    "            return True\n",
    "        else:\n",
    "            return False"
   ]
  },
  {
   "cell_type": "code",
   "execution_count": 10,
   "id": "2fad2966",
   "metadata": {},
   "outputs": [
    {
     "name": "stdout",
     "output_type": "stream",
     "text": [
      "name: kushmitha\n",
      "branch: CSE\n"
     ]
    }
   ],
   "source": [
    "S = student(\"kushmitha\",\"CSE\")"
   ]
  },
  {
   "cell_type": "code",
   "execution_count": 11,
   "id": "362353d3",
   "metadata": {},
   "outputs": [
    {
     "data": {
      "text/plain": [
       "'CEkusJNTU'"
      ]
     },
     "execution_count": 11,
     "metadata": {},
     "output_type": "execute_result"
    }
   ],
   "source": [
    "S.register()"
   ]
  },
  {
   "cell_type": "code",
   "execution_count": 12,
   "id": "f2b24b8a",
   "metadata": {},
   "outputs": [
    {
     "data": {
      "text/plain": [
       "True"
      ]
     },
     "execution_count": 12,
     "metadata": {},
     "output_type": "execute_result"
    }
   ],
   "source": [
    "S.check_age(21)"
   ]
  },
  {
   "cell_type": "code",
   "execution_count": 13,
   "id": "31d7f385",
   "metadata": {},
   "outputs": [
    {
     "data": {
      "text/plain": [
       "True"
      ]
     },
     "execution_count": 13,
     "metadata": {},
     "output_type": "execute_result"
    }
   ],
   "source": [
    "S.check_college()"
   ]
  },
  {
   "cell_type": "code",
   "execution_count": 1,
   "id": "11b177ae",
   "metadata": {},
   "outputs": [],
   "source": [
    "class bankapplication:\n",
    "    city = \"Hyderabad\"\n",
    "    country = \"India\"\n",
    "    pincode = \"500049\"\n",
    "    IFSC = \"SBIN0005943\"\n",
    "    \n",
    "    def __init__(self,name,age,mobile,aadhar,pan,deposit_amount):\n",
    "        self.name = name\n",
    "        self.age = str(age)\n",
    "        self.m = str(mobile)\n",
    "        self.aadhar = str(aadhar)\n",
    "        self.pan = pan\n",
    "        self.d = deposit_amount\n",
    "        print(\"name : \",self.name)\n",
    "        print(\"age : \",self.age)\n",
    "        print(\"mobile : \",self.m)\n",
    "        print(\"aadhar : \",self.aadhar)\n",
    "        print(\"pan : \",self.pan)\n",
    "        print(\"deposit_amount : \",self.d)\n",
    "        \n",
    "    def check_deposit(self):\n",
    "        if self.d >= 6000:\n",
    "            return True\n",
    "        else:\n",
    "            return False\n",
    "    \n",
    "    def registration(self):\n",
    "        if self.check_deposit() == True:\n",
    "            sub_name = self.name[:2]\n",
    "            sub_age = self.age[1]\n",
    "            sub_mobile = self.m[:2] + self.m[:-3:-1]\n",
    "            sub_aadhar = self.aadhar[2:7]\n",
    "            sub_pan = self.pan[:2] + self.pan[:-5:-1]\n",
    "            unique_id = sub_name + sub_age + sub_mobile + sub_aadhar + sub_pan\n",
    "            print(\"unique_id : \",unique_id)\n",
    "            return True\n",
    "        else:\n",
    "            print(\"deposit 6000 or more than 6000 for registration\") \n",
    "    def pin_no(self):\n",
    "        if self.registration() == True:\n",
    "            global pin\n",
    "            pin = input(\"enter pin number:\")\n",
    "            return True\n",
    "    def withdrawal(self):\n",
    "        if self.pin_no() == True:\n",
    "            PIN = input(\"enter pin : \")\n",
    "            if pin == PIN:\n",
    "                withdrawal_amount = int(input(\"enter amount: \"))\n",
    "                if withdrawal_amount <= self.d:\n",
    "                    return True\n",
    "                else:\n",
    "                    return \"insufficientamount\"\n",
    "            else:\n",
    "                return \"incorrectpin\"\n",
    "     "
   ]
  },
  {
   "cell_type": "code",
   "execution_count": 2,
   "id": "c689a6a4",
   "metadata": {},
   "outputs": [
    {
     "name": "stdout",
     "output_type": "stream",
     "text": [
      "name :  kush\n",
      "age :  21\n",
      "mobile :  6304843235\n",
      "aadhar :  567824365489\n",
      "pan :  IOKBK8965\n",
      "deposit_amount :  6000\n"
     ]
    }
   ],
   "source": [
    "K = bankapplication(\"kush\",21,6304843235,567824365489,\"IOKBK8965\",6000)"
   ]
  },
  {
   "cell_type": "code",
   "execution_count": 3,
   "id": "b6ac54c0",
   "metadata": {},
   "outputs": [
    {
     "name": "stdout",
     "output_type": "stream",
     "text": [
      "unique_id :  ku1635378243IO5698\n",
      "enter pin number:2001\n"
     ]
    },
    {
     "data": {
      "text/plain": [
       "True"
      ]
     },
     "execution_count": 3,
     "metadata": {},
     "output_type": "execute_result"
    }
   ],
   "source": [
    "K.pin_no()"
   ]
  },
  {
   "cell_type": "code",
   "execution_count": 4,
   "id": "bb2bf907",
   "metadata": {},
   "outputs": [
    {
     "name": "stdout",
     "output_type": "stream",
     "text": [
      "unique_id :  ku1635378243IO5698\n",
      "enter pin number:2001\n",
      "enter pin : 2001\n",
      "enter amount: 3000\n"
     ]
    },
    {
     "data": {
      "text/plain": [
       "True"
      ]
     },
     "execution_count": 4,
     "metadata": {},
     "output_type": "execute_result"
    }
   ],
   "source": [
    "K.withdrawal()"
   ]
  },
  {
   "cell_type": "markdown",
   "id": "f403c925",
   "metadata": {},
   "source": [
    "# deleting instance variable"
   ]
  },
  {
   "cell_type": "code",
   "execution_count": 38,
   "id": "71cac3f0",
   "metadata": {},
   "outputs": [],
   "source": [
    "class student:\n",
    "    college = \"JNTU\"\n",
    "    country = \"India\"\n",
    "    \n",
    "    def __init__(self,name,branch):\n",
    "        self.n = name\n",
    "        self.b = branch\n",
    "        print(\"name:\",self.n)\n",
    "        print(\"branch:\",self.b)"
   ]
  },
  {
   "cell_type": "code",
   "execution_count": 39,
   "id": "f9a621de",
   "metadata": {},
   "outputs": [
    {
     "name": "stdout",
     "output_type": "stream",
     "text": [
      "name: kush\n",
      "branch: cse\n"
     ]
    }
   ],
   "source": [
    "s = student(\"kush\",\"cse\")"
   ]
  },
  {
   "cell_type": "code",
   "execution_count": 40,
   "id": "ad823d81",
   "metadata": {},
   "outputs": [
    {
     "data": {
      "text/plain": [
       "'kush'"
      ]
     },
     "execution_count": 40,
     "metadata": {},
     "output_type": "execute_result"
    }
   ],
   "source": [
    "s.n"
   ]
  },
  {
   "cell_type": "code",
   "execution_count": 41,
   "id": "c5d8c2fc",
   "metadata": {},
   "outputs": [],
   "source": [
    "del s.n"
   ]
  },
  {
   "cell_type": "code",
   "execution_count": 42,
   "id": "2eae73fe",
   "metadata": {},
   "outputs": [
    {
     "ename": "AttributeError",
     "evalue": "'student' object has no attribute 'n'",
     "output_type": "error",
     "traceback": [
      "\u001b[1;31m---------------------------------------------------------------------------\u001b[0m",
      "\u001b[1;31mAttributeError\u001b[0m                            Traceback (most recent call last)",
      "\u001b[1;32mC:\\Users\\KUSUMI~1\\AppData\\Local\\Temp/ipykernel_9188/4010837302.py\u001b[0m in \u001b[0;36m<module>\u001b[1;34m\u001b[0m\n\u001b[1;32m----> 1\u001b[1;33m \u001b[0ms\u001b[0m\u001b[1;33m.\u001b[0m\u001b[0mn\u001b[0m\u001b[1;33m\u001b[0m\u001b[1;33m\u001b[0m\u001b[0m\n\u001b[0m",
      "\u001b[1;31mAttributeError\u001b[0m: 'student' object has no attribute 'n'"
     ]
    }
   ],
   "source": [
    "s.n"
   ]
  },
  {
   "cell_type": "markdown",
   "id": "c8af35cb",
   "metadata": {},
   "source": [
    "# change the instance variable"
   ]
  },
  {
   "cell_type": "code",
   "execution_count": 43,
   "id": "795cd529",
   "metadata": {},
   "outputs": [],
   "source": [
    "class student:\n",
    "    college = \"JNTU\"\n",
    "    country = \"India\"\n",
    "    \n",
    "    def __init__(self,name,branch):\n",
    "        self.n = name\n",
    "        self.b = branch\n",
    "        print(\"name:\",self.n)\n",
    "        print(\"branch:\",self.b)"
   ]
  },
  {
   "cell_type": "code",
   "execution_count": 44,
   "id": "34e7ab37",
   "metadata": {},
   "outputs": [
    {
     "name": "stdout",
     "output_type": "stream",
     "text": [
      "name: kush\n",
      "branch: cse\n"
     ]
    }
   ],
   "source": [
    "s1 = student(\"kush\",\"cse\")"
   ]
  },
  {
   "cell_type": "code",
   "execution_count": 48,
   "id": "ea804db4",
   "metadata": {},
   "outputs": [
    {
     "data": {
      "text/plain": [
       "'kush'"
      ]
     },
     "execution_count": 48,
     "metadata": {},
     "output_type": "execute_result"
    }
   ],
   "source": [
    "s1.n"
   ]
  },
  {
   "cell_type": "code",
   "execution_count": 49,
   "id": "03b45fd1",
   "metadata": {},
   "outputs": [],
   "source": [
    "s1.n = \"kushmitha\""
   ]
  },
  {
   "cell_type": "code",
   "execution_count": 50,
   "id": "425b438a",
   "metadata": {},
   "outputs": [
    {
     "data": {
      "text/plain": [
       "'kushmitha'"
      ]
     },
     "execution_count": 50,
     "metadata": {},
     "output_type": "execute_result"
    }
   ],
   "source": [
    "s1.n"
   ]
  },
  {
   "cell_type": "code",
   "execution_count": null,
   "id": "ae941a22",
   "metadata": {},
   "outputs": [],
   "source": []
  }
 ],
 "metadata": {
  "kernelspec": {
   "display_name": "Python 3 (ipykernel)",
   "language": "python",
   "name": "python3"
  },
  "language_info": {
   "codemirror_mode": {
    "name": "ipython",
    "version": 3
   },
   "file_extension": ".py",
   "mimetype": "text/x-python",
   "name": "python",
   "nbconvert_exporter": "python",
   "pygments_lexer": "ipython3",
   "version": "3.9.7"
  }
 },
 "nbformat": 4,
 "nbformat_minor": 5
}
