{
 "cells": [
  {
   "cell_type": "code",
   "execution_count": 1,
   "id": "eb7d3267",
   "metadata": {},
   "outputs": [
    {
     "data": {
      "text/plain": [
       "{'111': 'pradeep', '222': 'kumar'}"
      ]
     },
     "execution_count": 1,
     "metadata": {},
     "output_type": "execute_result"
    }
   ],
   "source": [
    "students = {\"111\":\"pradeep\",\"222\":\"kumar\"}\n",
    "students"
   ]
  },
  {
   "cell_type": "code",
   "execution_count": 2,
   "id": "38bbbe0c",
   "metadata": {},
   "outputs": [
    {
     "data": {
      "text/plain": [
       "2"
      ]
     },
     "execution_count": 2,
     "metadata": {},
     "output_type": "execute_result"
    }
   ],
   "source": [
    "len(students)"
   ]
  },
  {
   "cell_type": "code",
   "execution_count": 3,
   "id": "0d37c04d",
   "metadata": {},
   "outputs": [
    {
     "data": {
      "text/plain": [
       "'pradeep'"
      ]
     },
     "execution_count": 3,
     "metadata": {},
     "output_type": "execute_result"
    }
   ],
   "source": [
    "students[\"111\"]"
   ]
  },
  {
   "cell_type": "code",
   "execution_count": 4,
   "id": "7d23ef62",
   "metadata": {},
   "outputs": [
    {
     "data": {
      "text/plain": [
       "'kumar'"
      ]
     },
     "execution_count": 4,
     "metadata": {},
     "output_type": "execute_result"
    }
   ],
   "source": [
    "students[\"222\"]"
   ]
  },
  {
   "cell_type": "code",
   "execution_count": 16,
   "id": "67f15e2a",
   "metadata": {},
   "outputs": [],
   "source": [
    "details = {\"name\":\"kush\",\"age\":21,\"city\":\"hyderabad\",\"college\":\"st.peter's\",\"qualification\":\"btech\",\"idno\":18,\"branch\":\"cse\",\"mobile\":6304843235}"
   ]
  },
  {
   "cell_type": "code",
   "execution_count": 17,
   "id": "a501ae82",
   "metadata": {},
   "outputs": [
    {
     "data": {
      "text/plain": [
       "{'name': 'kush',\n",
       " 'age': 21,\n",
       " 'city': 'hyderabad',\n",
       " 'college': \"st.peter's\",\n",
       " 'qualification': 'btech',\n",
       " 'idno': 18,\n",
       " 'branch': 'cse',\n",
       " 'mobile': 6304843235}"
      ]
     },
     "execution_count": 17,
     "metadata": {},
     "output_type": "execute_result"
    }
   ],
   "source": [
    "details"
   ]
  },
  {
   "cell_type": "code",
   "execution_count": 9,
   "id": "eb95784a",
   "metadata": {},
   "outputs": [
    {
     "data": {
      "text/plain": [
       "'cse'"
      ]
     },
     "execution_count": 9,
     "metadata": {},
     "output_type": "execute_result"
    }
   ],
   "source": [
    "details[\"branch\"]"
   ]
  },
  {
   "cell_type": "code",
   "execution_count": 18,
   "id": "a5200d39",
   "metadata": {},
   "outputs": [
    {
     "data": {
      "text/plain": [
       "{'name': 'kush',\n",
       " 'age': 21,\n",
       " 'city': 'hyderabad',\n",
       " 'college': \"st.peter's\",\n",
       " 'qualification': 'btech',\n",
       " 'idno': 18,\n",
       " 'branch': 'ECE',\n",
       " 'mobile': 6304843235}"
      ]
     },
     "execution_count": 18,
     "metadata": {},
     "output_type": "execute_result"
    }
   ],
   "source": [
    "# changing the values\n",
    "details[\"branch\"] = \"ECE\"\n",
    "details"
   ]
  },
  {
   "cell_type": "code",
   "execution_count": 21,
   "id": "a77dc618",
   "metadata": {},
   "outputs": [],
   "source": [
    "# adding a new value\n",
    "details[\"state\"]=\"telangana\"\n",
    "details[\"country\"]=\"India\""
   ]
  },
  {
   "cell_type": "code",
   "execution_count": 22,
   "id": "ebca59e2",
   "metadata": {},
   "outputs": [
    {
     "data": {
      "text/plain": [
       "{'name': 'kush',\n",
       " 'age': 21,\n",
       " 'city': 'hyderabad',\n",
       " 'college': \"st.peter's\",\n",
       " 'qualification': 'btech',\n",
       " 'idno': 18,\n",
       " 'branch': 'ECE',\n",
       " 'mobile': 6304843235,\n",
       " 'state': 'telangana',\n",
       " 'country': 'India'}"
      ]
     },
     "execution_count": 22,
     "metadata": {},
     "output_type": "execute_result"
    }
   ],
   "source": [
    "details"
   ]
  },
  {
   "cell_type": "code",
   "execution_count": 23,
   "id": "d4826237",
   "metadata": {},
   "outputs": [
    {
     "ename": "KeyError",
     "evalue": "'88'",
     "output_type": "error",
     "traceback": [
      "\u001b[1;31m---------------------------------------------------------------------------\u001b[0m",
      "\u001b[1;31mKeyError\u001b[0m                                  Traceback (most recent call last)",
      "\u001b[1;32mC:\\Users\\KUSUMI~1\\AppData\\Local\\Temp/ipykernel_11260/2683344826.py\u001b[0m in \u001b[0;36m<module>\u001b[1;34m\u001b[0m\n\u001b[1;32m----> 1\u001b[1;33m \u001b[0mdetails\u001b[0m\u001b[1;33m[\u001b[0m\u001b[1;34m\"88\"\u001b[0m\u001b[1;33m]\u001b[0m\u001b[1;33m\u001b[0m\u001b[1;33m\u001b[0m\u001b[0m\n\u001b[0m",
      "\u001b[1;31mKeyError\u001b[0m: '88'"
     ]
    }
   ],
   "source": [
    "# value not present in dict\n",
    "details[\"88\"]"
   ]
  },
  {
   "cell_type": "code",
   "execution_count": 24,
   "id": "709e6b45",
   "metadata": {},
   "outputs": [],
   "source": [
    "# to avoid key error we use get() fn syntax: dictionary.get(key)\n",
    "details.get(\"88\")"
   ]
  },
  {
   "cell_type": "code",
   "execution_count": 25,
   "id": "479e964f",
   "metadata": {},
   "outputs": [
    {
     "data": {
      "text/plain": [
       "21"
      ]
     },
     "execution_count": 25,
     "metadata": {},
     "output_type": "execute_result"
    }
   ],
   "source": [
    "details.get(\"age\")"
   ]
  },
  {
   "cell_type": "code",
   "execution_count": 26,
   "id": "c395b27a",
   "metadata": {},
   "outputs": [
    {
     "data": {
      "text/plain": [
       "dict_keys(['name', 'age', 'city', 'college', 'qualification', 'idno', 'branch', 'mobile', 'state', 'country'])"
      ]
     },
     "execution_count": 26,
     "metadata": {},
     "output_type": "execute_result"
    }
   ],
   "source": [
    "# used to get all the keys at a time\n",
    "details.keys()"
   ]
  },
  {
   "cell_type": "code",
   "execution_count": 29,
   "id": "4ffad72d",
   "metadata": {},
   "outputs": [
    {
     "data": {
      "text/plain": [
       "dict_values(['kush', 21, 'hyderabad', \"st.peter's\", 'btech', 18, 'ECE', 6304843235, 'telangana', 'India'])"
      ]
     },
     "execution_count": 29,
     "metadata": {},
     "output_type": "execute_result"
    }
   ],
   "source": [
    "# used to get all the value at a time\n",
    "details.values()"
   ]
  },
  {
   "cell_type": "code",
   "execution_count": 27,
   "id": "6f750037",
   "metadata": {},
   "outputs": [
    {
     "data": {
      "text/plain": [
       "dict_keys"
      ]
     },
     "execution_count": 27,
     "metadata": {},
     "output_type": "execute_result"
    }
   ],
   "source": [
    "# to get type of date\n",
    "type(details.keys())"
   ]
  },
  {
   "cell_type": "code",
   "execution_count": 31,
   "id": "f8cf042e",
   "metadata": {},
   "outputs": [
    {
     "data": {
      "text/plain": [
       "['name',\n",
       " 'age',\n",
       " 'city',\n",
       " 'college',\n",
       " 'qualification',\n",
       " 'idno',\n",
       " 'branch',\n",
       " 'mobile',\n",
       " 'state',\n",
       " 'country']"
      ]
     },
     "execution_count": 31,
     "metadata": {},
     "output_type": "execute_result"
    }
   ],
   "source": [
    "# to convert into list\n",
    "A = list(details.keys())\n",
    "A"
   ]
  },
  {
   "cell_type": "code",
   "execution_count": 42,
   "id": "d7c60c1d",
   "metadata": {},
   "outputs": [
    {
     "name": "stdout",
     "output_type": "stream",
     "text": [
      "for key name value is kush\n",
      "for key age value is 21\n",
      "for key city value is hyderabad\n",
      "for key college value is st.peter's\n",
      "for key qualification value is btech\n",
      "for key idno value is 18\n",
      "for key branch value is ECE\n",
      "for key mobile value is 6304843235\n",
      "for key state value is telangana\n",
      "for key country value is India\n"
     ]
    }
   ],
   "source": [
    "# with the help of keys get the values from dictionaries\n",
    "for i in A:\n",
    "    print(\"for key \"+i+ \" value is \"+str(details[i]))"
   ]
  },
  {
   "cell_type": "code",
   "execution_count": 43,
   "id": "a0258598",
   "metadata": {},
   "outputs": [
    {
     "data": {
      "text/plain": [
       "dict_items([('name', 'kush'), ('age', 21), ('city', 'hyderabad'), ('college', \"st.peter's\"), ('qualification', 'btech'), ('idno', 18), ('branch', 'ECE'), ('mobile', 6304843235), ('state', 'telangana'), ('country', 'India')])"
      ]
     },
     "execution_count": 43,
     "metadata": {},
     "output_type": "execute_result"
    }
   ],
   "source": [
    "# get me all the items from dict\n",
    "# we get tuples of key and value pair\n",
    "details.items()"
   ]
  },
  {
   "cell_type": "code",
   "execution_count": 53,
   "id": "73201c42",
   "metadata": {},
   "outputs": [
    {
     "data": {
      "text/plain": [
       "[('name', 'kush'),\n",
       " ('age', 21),\n",
       " ('city', 'hyderabad'),\n",
       " ('college', \"st.peter's\"),\n",
       " ('qualification', 'btech'),\n",
       " ('idno', 18),\n",
       " ('branch', 'ECE'),\n",
       " ('mobile', 6304843235),\n",
       " ('state', 'telangana'),\n",
       " ('country', 'India')]"
      ]
     },
     "execution_count": 53,
     "metadata": {},
     "output_type": "execute_result"
    }
   ],
   "source": [
    "list(details.items())"
   ]
  },
  {
   "cell_type": "code",
   "execution_count": 60,
   "id": "4c3ac724",
   "metadata": {},
   "outputs": [
    {
     "name": "stdout",
     "output_type": "stream",
     "text": [
      "('name', 'kush')\n",
      "('age', 21)\n",
      "('city', 'hyderabad')\n",
      "('college', \"st.peter's\")\n",
      "('qualification', 'btech')\n",
      "('idno', 18)\n",
      "('branch', 'ECE')\n",
      "('mobile', 6304843235)\n",
      "('state', 'telangana')\n",
      "('country', 'India')\n"
     ]
    }
   ],
   "source": [
    "for i in list(details.items()):\n",
    "    print(i)"
   ]
  },
  {
   "cell_type": "code",
   "execution_count": 61,
   "id": "5ac2ef34",
   "metadata": {},
   "outputs": [
    {
     "name": "stdout",
     "output_type": "stream",
     "text": [
      "kush\n",
      "21\n",
      "hyderabad\n",
      "st.peter's\n",
      "btech\n",
      "18\n",
      "ECE\n",
      "6304843235\n",
      "telangana\n",
      "India\n"
     ]
    }
   ],
   "source": [
    "for i in list(details.items()):\n",
    "    print(i[1])"
   ]
  },
  {
   "cell_type": "code",
   "execution_count": 69,
   "id": "4c0f8e73",
   "metadata": {},
   "outputs": [
    {
     "name": "stdout",
     "output_type": "stream",
     "text": [
      "kush\n",
      "hyderabad\n",
      "st.peter's\n",
      "btech\n",
      "18\n",
      "ECE\n",
      "6304843235\n",
      "telangana\n",
      "India\n"
     ]
    }
   ],
   "source": [
    "for i in list(details.items()):\n",
    "    print(details[i[0]])"
   ]
  },
  {
   "cell_type": "code",
   "execution_count": 67,
   "id": "797fa994",
   "metadata": {},
   "outputs": [
    {
     "data": {
      "text/plain": [
       "21"
      ]
     },
     "execution_count": 67,
     "metadata": {},
     "output_type": "execute_result"
    }
   ],
   "source": [
    "details.pop(\"age\")"
   ]
  },
  {
   "cell_type": "code",
   "execution_count": 68,
   "id": "812b247c",
   "metadata": {},
   "outputs": [
    {
     "data": {
      "text/plain": [
       "{'name': 'kush',\n",
       " 'city': 'hyderabad',\n",
       " 'college': \"st.peter's\",\n",
       " 'qualification': 'btech',\n",
       " 'idno': 18,\n",
       " 'branch': 'ECE',\n",
       " 'mobile': 6304843235,\n",
       " 'state': 'telangana',\n",
       " 'country': 'India'}"
      ]
     },
     "execution_count": 68,
     "metadata": {},
     "output_type": "execute_result"
    }
   ],
   "source": [
    "details"
   ]
  },
  {
   "cell_type": "code",
   "execution_count": 78,
   "id": "8871b93b",
   "metadata": {},
   "outputs": [
    {
     "data": {
      "text/plain": [
       "18"
      ]
     },
     "execution_count": 78,
     "metadata": {},
     "output_type": "execute_result"
    }
   ],
   "source": [
    "details.pop(\"idno\")"
   ]
  },
  {
   "cell_type": "code",
   "execution_count": 74,
   "id": "b52272eb",
   "metadata": {},
   "outputs": [
    {
     "data": {
      "text/plain": [
       "('country', 'India')"
      ]
     },
     "execution_count": 74,
     "metadata": {},
     "output_type": "execute_result"
    }
   ],
   "source": [
    "details.popitem()"
   ]
  },
  {
   "cell_type": "code",
   "execution_count": 75,
   "id": "41cd7fe5",
   "metadata": {},
   "outputs": [],
   "source": [
    "del details[\"college\"]"
   ]
  },
  {
   "cell_type": "code",
   "execution_count": 76,
   "id": "a46df076",
   "metadata": {},
   "outputs": [
    {
     "data": {
      "text/plain": [
       "{'name': 'kush',\n",
       " 'city': 'hyderabad',\n",
       " 'qualification': 'btech',\n",
       " 'idno': 18,\n",
       " 'branch': 'ECE',\n",
       " 'mobile': 6304843235}"
      ]
     },
     "execution_count": 76,
     "metadata": {},
     "output_type": "execute_result"
    }
   ],
   "source": [
    "details"
   ]
  },
  {
   "cell_type": "markdown",
   "id": "2f374ab9",
   "metadata": {},
   "source": [
    "# create a dictionary and count characters present in each value"
   ]
  },
  {
   "cell_type": "code",
   "execution_count": 102,
   "id": "ab3ff160",
   "metadata": {},
   "outputs": [],
   "source": [
    "bio = {\"name\":\"kush\",\"age\":\"21\",\"city\":\"hyderabad\",\"college\":\"st.peter's\",\"qualification\":\"btech\",\"idno\":\"18\",\"branch\":\"cse\",\"mobile\":\"6304843235\"}"
   ]
  },
  {
   "cell_type": "code",
   "execution_count": 103,
   "id": "da91214c",
   "metadata": {},
   "outputs": [
    {
     "data": {
      "text/plain": [
       "[('name', 'kush'),\n",
       " ('age', '21'),\n",
       " ('city', 'hyderabad'),\n",
       " ('college', \"st.peter's\"),\n",
       " ('qualification', 'btech'),\n",
       " ('idno', '18'),\n",
       " ('branch', 'cse'),\n",
       " ('mobile', '6304843235')]"
      ]
     },
     "execution_count": 103,
     "metadata": {},
     "output_type": "execute_result"
    }
   ],
   "source": [
    "list(bio.items())"
   ]
  },
  {
   "cell_type": "code",
   "execution_count": 113,
   "id": "43f07808",
   "metadata": {},
   "outputs": [
    {
     "name": "stdout",
     "output_type": "stream",
     "text": [
      "for value kush length is 4\n",
      "for value 21 length is 2\n",
      "for value hyderabad length is 9\n",
      "for value st.peter's length is 10\n",
      "for value btech length is 5\n",
      "for value 18 length is 2\n",
      "for value cse length is 3\n",
      "for value 6304843235 length is 10\n"
     ]
    }
   ],
   "source": [
    "for i in list(bio.values()):\n",
    "    print(\"for value \"+i+\" length is \"+str(len(i)))"
   ]
  },
  {
   "cell_type": "code",
   "execution_count": 115,
   "id": "5a294f25",
   "metadata": {},
   "outputs": [
    {
     "data": {
      "text/plain": [
       "True"
      ]
     },
     "execution_count": 115,
     "metadata": {},
     "output_type": "execute_result"
    }
   ],
   "source": [
    "\"name\" in bio.keys()"
   ]
  },
  {
   "cell_type": "code",
   "execution_count": 116,
   "id": "aa018729",
   "metadata": {},
   "outputs": [
    {
     "data": {
      "text/plain": [
       "False"
      ]
     },
     "execution_count": 116,
     "metadata": {},
     "output_type": "execute_result"
    }
   ],
   "source": [
    "\"name\" not in bio.keys()"
   ]
  },
  {
   "cell_type": "code",
   "execution_count": 118,
   "id": "ab7c464e",
   "metadata": {},
   "outputs": [
    {
     "data": {
      "text/plain": [
       "{'A': 1, 'B': 2, 'C': 4, 'D': 5, 'E': 6, 'F': 7, 'G': 8, 'H': 9, 'I': 10}"
      ]
     },
     "execution_count": 118,
     "metadata": {},
     "output_type": "execute_result"
    }
   ],
   "source": [
    "d = {\"A\":1,\"B\":2,\"C\":4,\"D\":5,\"E\":6,\"F\":7,\"G\":8,\"H\":9,\"I\":10}\n",
    "d"
   ]
  },
  {
   "cell_type": "code",
   "execution_count": 120,
   "id": "47cdec1e",
   "metadata": {},
   "outputs": [
    {
     "data": {
      "text/plain": [
       "{'A': 1, 'B': 2, 'C': 4, 'D': 5, 'E': 25, 'F': 7, 'G': 8, 'H': 9, 'I': 10}"
      ]
     },
     "execution_count": 120,
     "metadata": {},
     "output_type": "execute_result"
    }
   ],
   "source": [
    "d[\"E\"]=25\n",
    "d"
   ]
  },
  {
   "cell_type": "code",
   "execution_count": 121,
   "id": "84ff990c",
   "metadata": {},
   "outputs": [
    {
     "data": {
      "text/plain": [
       "{'A': 1,\n",
       " 'B': 2,\n",
       " 'C': 4,\n",
       " 'D': 5,\n",
       " 'E': 25,\n",
       " 'F': 7,\n",
       " 'G': 8,\n",
       " 'H': 9,\n",
       " 'I': 10,\n",
       " 'J': 11}"
      ]
     },
     "execution_count": 121,
     "metadata": {},
     "output_type": "execute_result"
    }
   ],
   "source": [
    "d[\"J\"]=11\n",
    "d"
   ]
  },
  {
   "cell_type": "code",
   "execution_count": 125,
   "id": "97f7c369",
   "metadata": {},
   "outputs": [
    {
     "name": "stdout",
     "output_type": "stream",
     "text": [
      "82\n"
     ]
    }
   ],
   "source": [
    "sum = 0\n",
    "for i in list(d.values()):\n",
    "    sum = sum + i\n",
    "print(sum)"
   ]
  },
  {
   "cell_type": "code",
   "execution_count": null,
   "id": "a51272e6",
   "metadata": {},
   "outputs": [],
   "source": []
  }
 ],
 "metadata": {
  "kernelspec": {
   "display_name": "Python 3 (ipykernel)",
   "language": "python",
   "name": "python3"
  },
  "language_info": {
   "codemirror_mode": {
    "name": "ipython",
    "version": 3
   },
   "file_extension": ".py",
   "mimetype": "text/x-python",
   "name": "python",
   "nbconvert_exporter": "python",
   "pygments_lexer": "ipython3",
   "version": "3.9.7"
  }
 },
 "nbformat": 4,
 "nbformat_minor": 5
}
