{
 "cells": [
  {
   "cell_type": "code",
   "execution_count": 2,
   "id": "87f47d03",
   "metadata": {},
   "outputs": [],
   "source": [
    "movie_titles = [\"gold diggers of broadway\",\"gone baby gone\",\"gone in 60 seconds\",\"gone with the wind\",\"good girl\",\"good burger\",\"goodbye girl\",\"good bye lenin!\",\"goodfellas\",\"good luck chuck\",\"good morning, vietnam\"]"
   ]
  },
  {
   "cell_type": "code",
   "execution_count": 3,
   "id": "0e386207",
   "metadata": {},
   "outputs": [
    {
     "data": {
      "text/plain": [
       "11"
      ]
     },
     "execution_count": 3,
     "metadata": {},
     "output_type": "execute_result"
    }
   ],
   "source": [
    "len(movie_titles)"
   ]
  },
  {
   "cell_type": "markdown",
   "id": "478eef5c",
   "metadata": {},
   "source": [
    "# 1\n"
   ]
  },
  {
   "cell_type": "code",
   "execution_count": 4,
   "id": "7dd156cc",
   "metadata": {},
   "outputs": [],
   "source": [
    "movie_titles_upper = []\n",
    "for i in movie_titles:\n",
    "    movie_titles_upper.append(i.upper())"
   ]
  },
  {
   "cell_type": "code",
   "execution_count": 5,
   "id": "2d3b1641",
   "metadata": {},
   "outputs": [
    {
     "data": {
      "text/plain": [
       "['GOLD DIGGERS OF BROADWAY',\n",
       " 'GONE BABY GONE',\n",
       " 'GONE IN 60 SECONDS',\n",
       " 'GONE WITH THE WIND',\n",
       " 'GOOD GIRL',\n",
       " 'GOOD BURGER',\n",
       " 'GOODBYE GIRL',\n",
       " 'GOOD BYE LENIN!',\n",
       " 'GOODFELLAS',\n",
       " 'GOOD LUCK CHUCK',\n",
       " 'GOOD MORNING, VIETNAM']"
      ]
     },
     "execution_count": 5,
     "metadata": {},
     "output_type": "execute_result"
    }
   ],
   "source": [
    "movie_titles_upper"
   ]
  },
  {
   "cell_type": "code",
   "execution_count": 6,
   "id": "f0c28c18",
   "metadata": {},
   "outputs": [],
   "source": [
    "movie_titles_lower = []\n",
    "for i in movie_titles:\n",
    "    movie_titles_lower.append(i.lower())"
   ]
  },
  {
   "cell_type": "code",
   "execution_count": 7,
   "id": "06e436da",
   "metadata": {},
   "outputs": [
    {
     "data": {
      "text/plain": [
       "['gold diggers of broadway',\n",
       " 'gone baby gone',\n",
       " 'gone in 60 seconds',\n",
       " 'gone with the wind',\n",
       " 'good girl',\n",
       " 'good burger',\n",
       " 'goodbye girl',\n",
       " 'good bye lenin!',\n",
       " 'goodfellas',\n",
       " 'good luck chuck',\n",
       " 'good morning, vietnam']"
      ]
     },
     "execution_count": 7,
     "metadata": {},
     "output_type": "execute_result"
    }
   ],
   "source": [
    "movie_titles_lower"
   ]
  },
  {
   "cell_type": "code",
   "execution_count": 8,
   "id": "839631e5",
   "metadata": {},
   "outputs": [],
   "source": [
    "movie_titles_title = []\n",
    "for i in movie_titles:\n",
    "    movie_titles_title.append(i.title())"
   ]
  },
  {
   "cell_type": "code",
   "execution_count": 9,
   "id": "f37879be",
   "metadata": {},
   "outputs": [
    {
     "data": {
      "text/plain": [
       "['Gold Diggers Of Broadway',\n",
       " 'Gone Baby Gone',\n",
       " 'Gone In 60 Seconds',\n",
       " 'Gone With The Wind',\n",
       " 'Good Girl',\n",
       " 'Good Burger',\n",
       " 'Goodbye Girl',\n",
       " 'Good Bye Lenin!',\n",
       " 'Goodfellas',\n",
       " 'Good Luck Chuck',\n",
       " 'Good Morning, Vietnam']"
      ]
     },
     "execution_count": 9,
     "metadata": {},
     "output_type": "execute_result"
    }
   ],
   "source": [
    "movie_titles_title"
   ]
  },
  {
   "cell_type": "code",
   "execution_count": 10,
   "id": "a072f751",
   "metadata": {},
   "outputs": [],
   "source": [
    "fruits = [\"apple\",\"banana\",\"pear\",\"pineapple\"]"
   ]
  },
  {
   "cell_type": "markdown",
   "id": "584219d3",
   "metadata": {},
   "source": [
    "# 2\n"
   ]
  },
  {
   "cell_type": "code",
   "execution_count": 11,
   "id": "cb8c48bd",
   "metadata": {},
   "outputs": [],
   "source": [
    "string_remove = []\n",
    "for i in fruits:\n",
    "    string_remove.append(i[2:])"
   ]
  },
  {
   "cell_type": "code",
   "execution_count": 12,
   "id": "1d99a423",
   "metadata": {},
   "outputs": [
    {
     "data": {
      "text/plain": [
       "['ple', 'nana', 'ar', 'neapple']"
      ]
     },
     "execution_count": 12,
     "metadata": {},
     "output_type": "execute_result"
    }
   ],
   "source": [
    "string_remove"
   ]
  },
  {
   "cell_type": "code",
   "execution_count": 17,
   "id": "cf2acbf0",
   "metadata": {},
   "outputs": [],
   "source": [
    "string_duplicate = []\n",
    "for i in fruits:\n",
    "    string_duplicate.append(i*3)"
   ]
  },
  {
   "cell_type": "code",
   "execution_count": 18,
   "id": "9490d6c0",
   "metadata": {},
   "outputs": [
    {
     "data": {
      "text/plain": [
       "['appleappleapple',\n",
       " 'bananabananabanana',\n",
       " 'pearpearpear',\n",
       " 'pineapplepineapplepineapple']"
      ]
     },
     "execution_count": 18,
     "metadata": {},
     "output_type": "execute_result"
    }
   ],
   "source": [
    "string_duplicate"
   ]
  },
  {
   "cell_type": "code",
   "execution_count": 19,
   "id": "612d98bb",
   "metadata": {},
   "outputs": [],
   "source": [
    "#or"
   ]
  },
  {
   "cell_type": "code",
   "execution_count": 20,
   "id": "316192e4",
   "metadata": {},
   "outputs": [],
   "source": [
    "string_duplicate = []\n",
    "for i in fruits:\n",
    "    string_duplicate.append(i)\n",
    "    string_duplicate.append(i)\n",
    "    string_duplicate.append(i)"
   ]
  },
  {
   "cell_type": "code",
   "execution_count": 21,
   "id": "c7ce43b4",
   "metadata": {},
   "outputs": [
    {
     "data": {
      "text/plain": [
       "['apple',\n",
       " 'apple',\n",
       " 'apple',\n",
       " 'banana',\n",
       " 'banana',\n",
       " 'banana',\n",
       " 'pear',\n",
       " 'pear',\n",
       " 'pear',\n",
       " 'pineapple',\n",
       " 'pineapple',\n",
       " 'pineapple']"
      ]
     },
     "execution_count": 21,
     "metadata": {},
     "output_type": "execute_result"
    }
   ],
   "source": [
    "string_duplicate"
   ]
  },
  {
   "cell_type": "code",
   "execution_count": 22,
   "id": "844a2e0f",
   "metadata": {},
   "outputs": [],
   "source": [
    "strings1 = [\" 219 733 8965\",\"329-293-8753\",\"banana\",\"595 794 7569\",\"387 287 6718\",\"apple\",\"233.398.9187 \",\n",
    "           \"482 952 3315\", \"239 923 8115 and 842 566 4692\",'Work: 579-499-7527',\"$1000\" and \"Home: 543.355.3679\"]"
   ]
  },
  {
   "cell_type": "code",
   "execution_count": 23,
   "id": "87484e12",
   "metadata": {},
   "outputs": [],
   "source": [
    "string_trim = []\n",
    "for i in strings1:\n",
    "    string_trim.append(i.strip())"
   ]
  },
  {
   "cell_type": "code",
   "execution_count": 24,
   "id": "73be2384",
   "metadata": {},
   "outputs": [
    {
     "data": {
      "text/plain": [
       "['219 733 8965',\n",
       " '329-293-8753',\n",
       " 'banana',\n",
       " '595 794 7569',\n",
       " '387 287 6718',\n",
       " 'apple',\n",
       " '233.398.9187',\n",
       " '482 952 3315',\n",
       " '239 923 8115 and 842 566 4692',\n",
       " 'Work: 579-499-7527',\n",
       " 'Home: 543.355.3679']"
      ]
     },
     "execution_count": 24,
     "metadata": {},
     "output_type": "execute_result"
    }
   ],
   "source": [
    "string_trim"
   ]
  },
  {
   "cell_type": "code",
   "execution_count": 25,
   "id": "6e463978",
   "metadata": {},
   "outputs": [],
   "source": [
    "#value 1 and value value 7 has spaces at start or end they are deleted after triiming"
   ]
  },
  {
   "cell_type": "code",
   "execution_count": 26,
   "id": "d3b8e171",
   "metadata": {},
   "outputs": [
    {
     "data": {
      "text/plain": [
       "['gold diggers of broadway',\n",
       " 'gone baby gone',\n",
       " 'gone in 60 seconds',\n",
       " 'gone with the wind',\n",
       " 'good girl',\n",
       " 'good burger',\n",
       " 'goodbye girl',\n",
       " 'good bye lenin!',\n",
       " 'goodfellas',\n",
       " 'good luck chuck',\n",
       " 'good morning, vietnam']"
      ]
     },
     "execution_count": 26,
     "metadata": {},
     "output_type": "execute_result"
    }
   ],
   "source": [
    "movie_titles"
   ]
  },
  {
   "cell_type": "code",
   "execution_count": 29,
   "id": "24f75a4b",
   "metadata": {},
   "outputs": [],
   "source": [
    "string_padding = []\n",
    "for i in movie_titles:\n",
    "    string_padding.append(i.ljust(30,\" \"))"
   ]
  },
  {
   "cell_type": "code",
   "execution_count": 30,
   "id": "6b020a5f",
   "metadata": {},
   "outputs": [
    {
     "data": {
      "text/plain": [
       "['gold diggers of broadway      ',\n",
       " 'gone baby gone                ',\n",
       " 'gone in 60 seconds            ',\n",
       " 'gone with the wind            ',\n",
       " 'good girl                     ',\n",
       " 'good burger                   ',\n",
       " 'goodbye girl                  ',\n",
       " 'good bye lenin!               ',\n",
       " 'goodfellas                    ',\n",
       " 'good luck chuck               ',\n",
       " 'good morning, vietnam         ']"
      ]
     },
     "execution_count": 30,
     "metadata": {},
     "output_type": "execute_result"
    }
   ],
   "source": [
    "string_padding"
   ]
  },
  {
   "cell_type": "markdown",
   "id": "405be169",
   "metadata": {},
   "source": [
    "# 3"
   ]
  },
  {
   "cell_type": "code",
   "execution_count": 31,
   "id": "75983aac",
   "metadata": {},
   "outputs": [
    {
     "data": {
      "text/plain": [
       "['apple', 'banana', 'pear', 'pineapple']"
      ]
     },
     "execution_count": 31,
     "metadata": {},
     "output_type": "execute_result"
    }
   ],
   "source": [
    "fruits"
   ]
  },
  {
   "cell_type": "code",
   "execution_count": 32,
   "id": "62b9fdec",
   "metadata": {},
   "outputs": [],
   "source": [
    "string_det = []\n",
    "for i in fruits:\n",
    "    string_det.append(i == \"apple\")"
   ]
  },
  {
   "cell_type": "code",
   "execution_count": 33,
   "id": "5723d2a3",
   "metadata": {},
   "outputs": [
    {
     "data": {
      "text/plain": [
       "[True, False, False, False]"
      ]
     },
     "execution_count": 33,
     "metadata": {},
     "output_type": "execute_result"
    }
   ],
   "source": [
    "string_det"
   ]
  },
  {
   "cell_type": "code",
   "execution_count": 34,
   "id": "8f745a16",
   "metadata": {},
   "outputs": [],
   "source": [
    "string_any_det = []\n",
    "if \"apple\" in fruits:\n",
    "    string_any_det.append(\"apple\")"
   ]
  },
  {
   "cell_type": "code",
   "execution_count": 35,
   "id": "f94b9f25",
   "metadata": {},
   "outputs": [
    {
     "data": {
      "text/plain": [
       "['apple']"
      ]
     },
     "execution_count": 35,
     "metadata": {},
     "output_type": "execute_result"
    }
   ],
   "source": [
    "string_any_det"
   ]
  },
  {
   "cell_type": "code",
   "execution_count": null,
   "id": "bf995712",
   "metadata": {},
   "outputs": [],
   "source": []
  }
 ],
 "metadata": {
  "kernelspec": {
   "display_name": "Python 3 (ipykernel)",
   "language": "python",
   "name": "python3"
  },
  "language_info": {
   "codemirror_mode": {
    "name": "ipython",
    "version": 3
   },
   "file_extension": ".py",
   "mimetype": "text/x-python",
   "name": "python",
   "nbconvert_exporter": "python",
   "pygments_lexer": "ipython3",
   "version": "3.9.7"
  }
 },
 "nbformat": 4,
 "nbformat_minor": 5
}
